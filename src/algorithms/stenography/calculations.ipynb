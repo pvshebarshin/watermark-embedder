{
 "cells": [
  {
   "cell_type": "code",
   "execution_count": 1,
   "outputs": [],
   "source": [
    "map_evr_one = {}\n",
    "map_evr_two = {}\n",
    "map_evr_three = {}\n",
    "map_evr_alternation = []"
   ],
   "metadata": {
    "collapsed": false,
    "ExecuteTime": {
     "end_time": "2024-04-25T21:39:15.268256Z",
     "start_time": "2024-04-25T21:39:15.265054Z"
    }
   },
   "id": "20572b3b50ccc08b"
  },
  {
   "cell_type": "code",
   "execution_count": 2,
   "outputs": [],
   "source": [
    "term_dict = {\n",
    "    \"max_time\": 20  # seconds\n",
    "}"
   ],
   "metadata": {
    "collapsed": false,
    "ExecuteTime": {
     "end_time": "2024-04-25T21:39:15.289629Z",
     "start_time": "2024-04-25T21:39:15.269469Z"
    }
   },
   "id": "870b5a9ee0849eb1"
  },
  {
   "cell_type": "markdown",
   "source": [
    "### Old Optimization for text"
   ],
   "metadata": {
    "collapsed": false
   },
   "id": "f079d058fc959cd1"
  },
  {
   "cell_type": "code",
   "execution_count": 3,
   "outputs": [],
   "source": [
    "from algorithms.metaheuristics.single.de import DE\n",
    "\n",
    "pop_size = 40\n",
    "epoch = 5\n",
    "wf = 0.2\n",
    "cr = 0.6\n",
    "strategy = 0\n",
    "\n",
    "# DE\n",
    "de = DE(epoch, pop_size, wf, cr, strategy)\n",
    "map_evr_alternation.append(de)\n",
    "map_evr_one['DE'] = DE(60, pop_size, wf, cr, strategy)\n",
    "map_evr_two['DE'] = DE(30, pop_size, wf, cr, strategy)\n",
    "map_evr_three['DE'] = DE(20, pop_size, wf, cr, strategy)"
   ],
   "metadata": {
    "collapsed": false,
    "ExecuteTime": {
     "end_time": "2024-04-25T21:39:16.048491Z",
     "start_time": "2024-04-25T21:39:15.272989Z"
    }
   },
   "id": "66ffe20c75edd187"
  },
  {
   "cell_type": "code",
   "execution_count": 4,
   "outputs": [],
   "source": [
    "from algorithms.metaheuristics.single.pso import PSO\n",
    "\n",
    "pop_size = 40\n",
    "epoch = 5\n",
    "c1 = 1.4\n",
    "c2 = 1.4\n",
    "w_min = 0.4\n",
    "w_max = 0.9\n",
    "\n",
    "# PSO\n",
    "pso = PSO(epoch, pop_size, c1, c2, w_min, w_max)\n",
    "map_evr_alternation.append(pso)\n",
    "map_evr_one['PSO'] = PSO(60, pop_size, c1, c2, w_min, w_max)\n",
    "map_evr_two['PSO'] = PSO(30, pop_size, c1, c2, w_min, w_max)\n",
    "map_evr_three['PSO'] = PSO(20, pop_size, c1, c2, w_min, w_max)"
   ],
   "metadata": {
    "collapsed": false,
    "ExecuteTime": {
     "end_time": "2024-04-25T21:39:16.059502Z",
     "start_time": "2024-04-25T21:39:16.049368Z"
    }
   },
   "id": "e7b11644eb726aad"
  },
  {
   "cell_type": "code",
   "execution_count": 5,
   "outputs": [],
   "source": [
    "from algorithms.metaheuristics.single.hho import HHO\n",
    "\n",
    "pop_size = 40\n",
    "epoch = 5\n",
    "\n",
    "# HHO\n",
    "hho = HHO(epoch, pop_size)\n",
    "map_evr_alternation.append(hho)\n",
    "map_evr_one['HHO'] = HHO(60, pop_size)\n",
    "map_evr_two['HHO'] = HHO(30, pop_size)\n",
    "map_evr_three['HHO'] = HHO(20, pop_size)"
   ],
   "metadata": {
    "collapsed": false,
    "ExecuteTime": {
     "end_time": "2024-04-25T21:39:16.059632Z",
     "start_time": "2024-04-25T21:39:16.053069Z"
    }
   },
   "id": "9d7f177a1b0c143a"
  },
  {
   "cell_type": "code",
   "execution_count": 6,
   "outputs": [],
   "source": [
    "from algorithms.metaheuristics.single.fbio import FBIO\n",
    "\n",
    "pop_size = 40\n",
    "epoch = 5\n",
    "\n",
    "# FBIO\n",
    "fbi = FBIO(epoch, pop_size)\n",
    "map_evr_alternation.append(fbi)\n",
    "map_evr_one['FBIO'] = FBIO(60, pop_size)\n",
    "map_evr_two['FBIO'] = FBIO(30, pop_size)\n",
    "map_evr_three['FBIO'] = FBIO(20, pop_size)"
   ],
   "metadata": {
    "collapsed": false,
    "ExecuteTime": {
     "end_time": "2024-04-25T21:39:16.059673Z",
     "start_time": "2024-04-25T21:39:16.055749Z"
    }
   },
   "id": "22576ca08888832d"
  },
  {
   "cell_type": "code",
   "execution_count": 7,
   "outputs": [],
   "source": [
    "from algorithms.metaheuristics.single.gbo import GBO\n",
    "\n",
    "pop_size = 40\n",
    "epoch = 5\n",
    "pr = 0.5\n",
    "beta_min = 0.2\n",
    "beta_max = 1.2\n",
    "\n",
    "# GBO\n",
    "gbo = GBO(epoch, pop_size, pr, beta_min, beta_max)\n",
    "map_evr_alternation.append(gbo)\n",
    "map_evr_one['GBO'] = GBO(60, pop_size, pr, beta_min, beta_max)\n",
    "map_evr_two['GBO'] = GBO(30, pop_size, pr, beta_min, beta_max)\n",
    "map_evr_three['GBO'] = GBO(20, pop_size, pr, beta_min, beta_max)"
   ],
   "metadata": {
    "collapsed": false,
    "ExecuteTime": {
     "end_time": "2024-04-25T21:39:16.061070Z",
     "start_time": "2024-04-25T21:39:16.058811Z"
    }
   },
   "id": "e5fc9b9df31f0a6e"
  },
  {
   "cell_type": "markdown",
   "source": [
    "### New optimization for text"
   ],
   "metadata": {
    "collapsed": false
   },
   "id": "9e97034f8124431e"
  },
  {
   "cell_type": "code",
   "execution_count": 8,
   "outputs": [],
   "source": [
    "from algorithms.metaheuristics.single.iwo import IWO\n",
    "\n",
    "pop_size = 40\n",
    "seed_min = 3\n",
    "seed_max = 9\n",
    "exponent = 3\n",
    "sigma_start = 0.6\n",
    "sigma_end = 0.01\n",
    "epoch = 5\n",
    "\n",
    "# IWO\n",
    "iwo = IWO(epoch, pop_size, seed_min, seed_max, exponent, sigma_start, sigma_end)\n",
    "map_evr_alternation.append(iwo)\n",
    "map_evr_one['IWO'] = IWO(60, pop_size, seed_min, seed_max, exponent, sigma_start, sigma_end)\n",
    "map_evr_two['IWO'] = IWO(30, pop_size, seed_min, seed_max, exponent, sigma_start, sigma_end)\n",
    "map_evr_three['IWO'] = IWO(20, pop_size, seed_min, seed_max, exponent, sigma_start, sigma_end)"
   ],
   "metadata": {
    "collapsed": false,
    "ExecuteTime": {
     "end_time": "2024-04-25T21:39:16.066729Z",
     "start_time": "2024-04-25T21:39:16.061919Z"
    }
   },
   "id": "b98f4860cf500c57"
  },
  {
   "cell_type": "code",
   "execution_count": 9,
   "outputs": [],
   "source": [
    "from algorithms.metaheuristics.single.abc import ABC\n",
    "\n",
    "n_limits = 50\n",
    "pop_size = 40\n",
    "epoch = 5\n",
    "\n",
    "# ABC\n",
    "abc = ABC(epoch, pop_size, n_limits)\n",
    "map_evr_alternation.append(abc)\n",
    "map_evr_one['ABC'] = ABC(60, pop_size, n_limits)\n",
    "map_evr_two['ABC'] = ABC(30, pop_size, n_limits)\n",
    "map_evr_three['ABC'] = ABC(20, pop_size, n_limits)"
   ],
   "metadata": {
    "collapsed": false,
    "ExecuteTime": {
     "end_time": "2024-04-25T21:39:16.066850Z",
     "start_time": "2024-04-25T21:39:16.064412Z"
    }
   },
   "id": "30b8410ae83182"
  },
  {
   "cell_type": "code",
   "execution_count": 10,
   "outputs": [],
   "source": [
    "from algorithms.metaheuristics.single.bbo import BBO\n",
    "\n",
    "pop_size = 40\n",
    "p_m = 0.01\n",
    "elites = 2\n",
    "epoch = 5\n",
    "\n",
    "# BBO\n",
    "bbo = BBO(epoch, pop_size, p_m, elites)\n",
    "map_evr_alternation.append(bbo)\n",
    "map_evr_one['BBO'] = BBO(60, pop_size, p_m, elites)\n",
    "map_evr_two['BBO'] = BBO(30, pop_size, p_m, elites)\n",
    "map_evr_three['BBO'] = BBO(20, pop_size, p_m, elites)"
   ],
   "metadata": {
    "collapsed": false,
    "ExecuteTime": {
     "end_time": "2024-04-25T21:39:16.082518Z",
     "start_time": "2024-04-25T21:39:16.067174Z"
    }
   },
   "id": "5027675a9f7111"
  },
  {
   "cell_type": "code",
   "execution_count": 11,
   "outputs": [],
   "source": [
    "from algorithms.metaheuristics.single.ca import CA\n",
    "\n",
    "accepted_rate = 0.15\n",
    "pop_size = 40\n",
    "epoch = 5\n",
    "\n",
    "# CA\n",
    "ca = CA(epoch, pop_size, accepted_rate)\n",
    "map_evr_alternation.append(ca)\n",
    "map_evr_one['CA'] = CA(60, pop_size, accepted_rate)\n",
    "map_evr_two['CA'] = CA(30, pop_size, accepted_rate)\n",
    "map_evr_three['CA'] = CA(20, pop_size, accepted_rate)"
   ],
   "metadata": {
    "collapsed": false,
    "ExecuteTime": {
     "end_time": "2024-04-25T21:39:16.082639Z",
     "start_time": "2024-04-25T21:39:16.070307Z"
    }
   },
   "id": "3690ea58c1f1d2c2"
  },
  {
   "cell_type": "code",
   "execution_count": 12,
   "outputs": [],
   "source": [
    "from algorithms.metaheuristics.single.aco import ACO\n",
    "\n",
    "pop_size = 40\n",
    "sample_count = 25\n",
    "intent_factor = 0.5\n",
    "zeta = 1.0\n",
    "epoch = 5\n",
    "\n",
    "# ACO\n",
    "aco = ACO(epoch, pop_size, sample_count, intent_factor, zeta)\n",
    "map_evr_alternation.append(aco)\n",
    "map_evr_one['ACO'] = ACO(60, pop_size, sample_count, intent_factor, zeta)\n",
    "map_evr_two['ACO'] = ACO(30, pop_size, sample_count, intent_factor, zeta)\n",
    "map_evr_three['ACO'] = ACO(20, pop_size, sample_count, intent_factor, zeta)"
   ],
   "metadata": {
    "collapsed": false,
    "ExecuteTime": {
     "end_time": "2024-04-25T21:39:16.082695Z",
     "start_time": "2024-04-25T21:39:16.072804Z"
    }
   },
   "id": "7cebc6cae305caa6"
  },
  {
   "cell_type": "markdown",
   "source": [
    "# Calculations"
   ],
   "metadata": {
    "collapsed": false
   },
   "id": "6793f8be3575dfd1"
  },
  {
   "cell_type": "code",
   "execution_count": 13,
   "outputs": [],
   "source": [
    "# В качестве метрик считаем\n",
    "# 1) Среднее стандартное отклонение от оптимума\n",
    "# 2) Среднее значение оптимума\n",
    "# 3) Время выполнения алгоритма\n",
    "\n",
    "import os.path\n",
    "import csv\n",
    "import time\n",
    "import cv2\n",
    "\n",
    "from algorithms.stenography.stego import embed_secret_message\n",
    "\n",
    "file_name = \"result.csv\"\n",
    "fields = ['Name_File', 'Name_Evr', 'Name_Ens', 'Time', 'PSNR']\n",
    "\n",
    "\n",
    "def make_evaluation(name_file, name_evr, name_ensemble, model, secret_message):\n",
    "    exists = not os.path.exists(file_name)\n",
    "    with open(file_name, 'a') as csvfile:\n",
    "        csvwriter = csv.writer(csvfile)\n",
    "        if exists:\n",
    "            csvwriter.writerow(fields)\n",
    "        img = cv2.imread(name_file, 0)\n",
    "        start_time = time.time()\n",
    "        img_coded = embed_secret_message(img, secret_message, model)\n",
    "        end_time = time.time()\n",
    "        psnr = cv2.PSNR(img, img_coded)\n",
    "        row = [\n",
    "            name_file.split('processed/')[1],\n",
    "            name_evr,\n",
    "            name_ensemble,\n",
    "            end_time - start_time,\n",
    "            psnr\n",
    "        ]\n",
    "        csvwriter.writerow(row)\n",
    "        csvfile.close()"
   ],
   "metadata": {
    "collapsed": false,
    "ExecuteTime": {
     "end_time": "2024-04-25T21:39:16.126117Z",
     "start_time": "2024-04-25T21:39:16.076911Z"
    }
   },
   "id": "27c4925a5716dade"
  },
  {
   "cell_type": "code",
   "execution_count": 14,
   "outputs": [
    {
     "data": {
      "text/plain": "['/Users/pavel/Desktop/watermark-embedder/src/resources/image/processed/area.png',\n '/Users/pavel/Desktop/watermark-embedder/src/resources/image/processed/boat.png',\n '/Users/pavel/Desktop/watermark-embedder/src/resources/image/processed/stream_and_bridge.png',\n '/Users/pavel/Desktop/watermark-embedder/src/resources/image/processed/airplane.png',\n '/Users/pavel/Desktop/watermark-embedder/src/resources/image/processed/goldhill.png',\n '/Users/pavel/Desktop/watermark-embedder/src/resources/image/processed/yacht.png',\n '/Users/pavel/Desktop/watermark-embedder/src/resources/image/processed/peppers.png',\n '/Users/pavel/Desktop/watermark-embedder/src/resources/image/processed/btr.png',\n '/Users/pavel/Desktop/watermark-embedder/src/resources/image/processed/baboon.png']"
     },
     "execution_count": 14,
     "metadata": {},
     "output_type": "execute_result"
    }
   ],
   "source": [
    "import os\n",
    "\n",
    "directory_path = '../../resources/image/processed'\n",
    "\n",
    "absolute_paths = [os.path.abspath(os.path.join(directory_path, file)) for file in os.listdir(directory_path)]\n",
    "absolute_paths"
   ],
   "metadata": {
    "collapsed": false,
    "ExecuteTime": {
     "end_time": "2024-04-25T21:39:16.126578Z",
     "start_time": "2024-04-25T21:39:16.118543Z"
    }
   },
   "id": "eb035c5f690e467f"
  },
  {
   "cell_type": "code",
   "execution_count": 15,
   "outputs": [],
   "source": [
    "from algorithms.metaheuristics.ensemble.ensemble_learn import MetaheuristicEnsembleLearn\n",
    "from algorithms.metaheuristics.ensemble.ensemble_avg import MetaheuristicEnsembleAvg\n",
    "from algorithms.metaheuristics.ensemble.ensemble_alternation import MetaheuristicEnsembleAlternation\n",
    "\n",
    "# make_evaluation(absolute_paths[3], map_evr_one['ACO'].name, 'MetaheuristicEnsembleLearn',\n",
    "#                 MetaheuristicEnsembleLearn(map_evr_one['ACO'], term_dict=term_dict),\n",
    "#                 'Происходит полный тест кибер безопасности')"
   ],
   "metadata": {
    "collapsed": false,
    "ExecuteTime": {
     "end_time": "2024-04-25T21:39:16.126941Z",
     "start_time": "2024-04-25T21:39:16.121860Z"
    }
   },
   "id": "23ca7ec92e99de8c"
  },
  {
   "cell_type": "markdown",
   "source": [
    "### Single calculation"
   ],
   "metadata": {
    "collapsed": false
   },
   "id": "ded3e11f90dfe811"
  },
  {
   "cell_type": "code",
   "execution_count": 17,
   "outputs": [],
   "source": [
    "for evr in map_evr_one:\n",
    "    for path in absolute_paths:\n",
    "        make_evaluation(path, map_evr_one[evr].name, 'MetaheuristicEnsembleLearn',\n",
    "                        MetaheuristicEnsembleLearn(map_evr_one[evr]), 'Происходит полный тест кибер безопасности')"
   ],
   "metadata": {
    "collapsed": false,
    "ExecuteTime": {
     "end_time": "2024-04-26T00:47:44.484406Z",
     "start_time": "2024-04-25T21:39:39.774040Z"
    }
   },
   "id": "f2f9984d7a88c996"
  },
  {
   "cell_type": "markdown",
   "source": [
    "### Two hevristic calculation"
   ],
   "metadata": {
    "collapsed": false
   },
   "id": "f8bf5b86e54af024"
  },
  {
   "cell_type": "code",
   "execution_count": 25,
   "outputs": [
    {
     "ename": "KeyboardInterrupt",
     "evalue": "",
     "output_type": "error",
     "traceback": [
      "\u001B[0;31m---------------------------------------------------------------------------\u001B[0m",
      "\u001B[0;31mKeyboardInterrupt\u001B[0m                         Traceback (most recent call last)",
      "Cell \u001B[0;32mIn[25], line 6\u001B[0m\n\u001B[1;32m      4\u001B[0m \u001B[38;5;28;01mif\u001B[39;00m j \u001B[38;5;241m==\u001B[39m \u001B[38;5;28mlen\u001B[39m(map_evr_two) \u001B[38;5;241m+\u001B[39m \u001B[38;5;241m1\u001B[39m:\n\u001B[1;32m      5\u001B[0m     \u001B[38;5;28;01mcontinue\u001B[39;00m\n\u001B[0;32m----> 6\u001B[0m \u001B[43mmake_evaluation\u001B[49m\u001B[43m(\u001B[49m\u001B[43mpath\u001B[49m\u001B[43m,\u001B[49m\u001B[43m \u001B[49m\u001B[38;5;28;43mlist\u001B[39;49m\u001B[43m(\u001B[49m\u001B[43mmap_evr_two\u001B[49m\u001B[43m)\u001B[49m\u001B[43m[\u001B[49m\u001B[43mi\u001B[49m\u001B[43m]\u001B[49m\u001B[43m \u001B[49m\u001B[38;5;241;43m+\u001B[39;49m\u001B[43m \u001B[49m\u001B[38;5;124;43m'\u001B[39;49m\u001B[38;5;124;43m_\u001B[39;49m\u001B[38;5;124;43m'\u001B[39;49m\u001B[43m \u001B[49m\u001B[38;5;241;43m+\u001B[39;49m\u001B[43m \u001B[49m\u001B[38;5;28;43mlist\u001B[39;49m\u001B[43m(\u001B[49m\u001B[43mmap_evr_two\u001B[49m\u001B[43m)\u001B[49m\u001B[43m[\u001B[49m\u001B[43mj\u001B[49m\u001B[43m]\u001B[49m\u001B[43m,\u001B[49m\u001B[43m \u001B[49m\u001B[38;5;124;43m'\u001B[39;49m\u001B[38;5;124;43mMetaheuristicEnsembleAvg\u001B[39;49m\u001B[38;5;124;43m'\u001B[39;49m\u001B[43m,\u001B[49m\n\u001B[1;32m      7\u001B[0m \u001B[43m                \u001B[49m\u001B[43mMetaheuristicEnsembleAvg\u001B[49m\u001B[43m(\u001B[49m\u001B[38;5;28;43mlist\u001B[39;49m\u001B[43m(\u001B[49m\u001B[43mmap_evr_two\u001B[49m\u001B[38;5;241;43m.\u001B[39;49m\u001B[43mvalues\u001B[49m\u001B[43m(\u001B[49m\u001B[43m)\u001B[49m\u001B[43m)\u001B[49m\u001B[43m[\u001B[49m\u001B[43mi\u001B[49m\u001B[43m]\u001B[49m\u001B[43m,\u001B[49m\u001B[43m \u001B[49m\u001B[38;5;28;43mlist\u001B[39;49m\u001B[43m(\u001B[49m\u001B[43mmap_evr_two\u001B[49m\u001B[38;5;241;43m.\u001B[39;49m\u001B[43mvalues\u001B[49m\u001B[43m(\u001B[49m\u001B[43m)\u001B[49m\u001B[43m)\u001B[49m\u001B[43m[\u001B[49m\u001B[43mj\u001B[49m\u001B[43m]\u001B[49m\u001B[43m)\u001B[49m\u001B[43m,\u001B[49m\n\u001B[1;32m      8\u001B[0m \u001B[43m                \u001B[49m\u001B[38;5;124;43m'\u001B[39;49m\u001B[38;5;124;43mПроисходит полный тест кибер безопасности\u001B[39;49m\u001B[38;5;124;43m'\u001B[39;49m\u001B[43m)\u001B[49m\n",
      "Cell \u001B[0;32mIn[13], line 25\u001B[0m, in \u001B[0;36mmake_evaluation\u001B[0;34m(name_file, name_evr, name_ensemble, model, secret_message)\u001B[0m\n\u001B[1;32m     23\u001B[0m img \u001B[38;5;241m=\u001B[39m cv2\u001B[38;5;241m.\u001B[39mimread(name_file, \u001B[38;5;241m0\u001B[39m)\n\u001B[1;32m     24\u001B[0m start_time \u001B[38;5;241m=\u001B[39m time\u001B[38;5;241m.\u001B[39mtime()\n\u001B[0;32m---> 25\u001B[0m img_coded \u001B[38;5;241m=\u001B[39m \u001B[43membed_secret_message\u001B[49m\u001B[43m(\u001B[49m\u001B[43mimg\u001B[49m\u001B[43m,\u001B[49m\u001B[43m \u001B[49m\u001B[43msecret_message\u001B[49m\u001B[43m,\u001B[49m\u001B[43m \u001B[49m\u001B[43mmodel\u001B[49m\u001B[43m)\u001B[49m\n\u001B[1;32m     26\u001B[0m end_time \u001B[38;5;241m=\u001B[39m time\u001B[38;5;241m.\u001B[39mtime()\n\u001B[1;32m     27\u001B[0m psnr \u001B[38;5;241m=\u001B[39m cv2\u001B[38;5;241m.\u001B[39mPSNR(img, img_coded)\n",
      "File \u001B[0;32m~/Desktop/watermark-embedder/src/algorithms/stenography/stego.py:143\u001B[0m, in \u001B[0;36membed_secret_message\u001B[0;34m(image_container, secret_message, model, epsilon, phi_1, iterations)\u001B[0m\n\u001B[1;32m    141\u001B[0m \u001B[38;5;28;01mwhile\u001B[39;00m ERRORS \u001B[38;5;241m!=\u001B[39m \u001B[38;5;241m0\u001B[39m \u001B[38;5;129;01mand\u001B[39;00m _iterator \u001B[38;5;241m<\u001B[39m iterations:\n\u001B[1;32m    142\u001B[0m     best_position, best_fitness \u001B[38;5;241m=\u001B[39m model\u001B[38;5;241m.\u001B[39msolveProblem(problem)\n\u001B[0;32m--> 143\u001B[0m     _iterator \u001B[38;5;241m+\u001B[39m\u001B[38;5;241m=\u001B[39m \u001B[38;5;241m1\u001B[39m\n\u001B[1;32m    145\u001B[0m blocks[i] \u001B[38;5;241m=\u001B[39m TEMP_BLOCK\n\u001B[1;32m    146\u001B[0m \u001B[38;5;28;01mfor\u001B[39;00m position_number \u001B[38;5;129;01min\u001B[39;00m \u001B[38;5;28mrange\u001B[39m(\u001B[38;5;28mlen\u001B[39m(best_position)):\n",
      "File \u001B[0;32m~/Desktop/watermark-embedder/src/algorithms/metaheuristics/ensemble/ensemble_avg.py:62\u001B[0m, in \u001B[0;36mMetaheuristicEnsembleAvg.solveProblem\u001B[0;34m(self, problem)\u001B[0m\n\u001B[1;32m     58\u001B[0m     \u001B[38;5;28;01mreturn\u001B[39;00m avg_arr, avg_cor\n\u001B[1;32m     60\u001B[0m \u001B[38;5;28;01melse\u001B[39;00m:\n\u001B[0;32m---> 62\u001B[0m     best_position1, best_fitness1 \u001B[38;5;241m=\u001B[39m \u001B[43mfuture1\u001B[49m\u001B[38;5;241;43m.\u001B[39;49m\u001B[43mresult\u001B[49m\u001B[43m(\u001B[49m\u001B[43m)\u001B[49m\n\u001B[1;32m     63\u001B[0m     best_position2, best_fitness2 \u001B[38;5;241m=\u001B[39m future2\u001B[38;5;241m.\u001B[39mresult()\n\u001B[1;32m     64\u001B[0m     avg_cor \u001B[38;5;241m=\u001B[39m \u001B[38;5;28mself\u001B[39m\u001B[38;5;241m.\u001B[39maverage((best_fitness1, best_fitness2))\n",
      "File \u001B[0;32m/Library/Frameworks/Python.framework/Versions/3.11/lib/python3.11/concurrent/futures/_base.py:451\u001B[0m, in \u001B[0;36mFuture.result\u001B[0;34m(self, timeout)\u001B[0m\n\u001B[1;32m    448\u001B[0m \u001B[38;5;28;01melif\u001B[39;00m \u001B[38;5;28mself\u001B[39m\u001B[38;5;241m.\u001B[39m_state \u001B[38;5;241m==\u001B[39m FINISHED:\n\u001B[1;32m    449\u001B[0m     \u001B[38;5;28;01mreturn\u001B[39;00m \u001B[38;5;28mself\u001B[39m\u001B[38;5;241m.\u001B[39m__get_result()\n\u001B[0;32m--> 451\u001B[0m \u001B[38;5;28;43mself\u001B[39;49m\u001B[38;5;241;43m.\u001B[39;49m\u001B[43m_condition\u001B[49m\u001B[38;5;241;43m.\u001B[39;49m\u001B[43mwait\u001B[49m\u001B[43m(\u001B[49m\u001B[43mtimeout\u001B[49m\u001B[43m)\u001B[49m\n\u001B[1;32m    453\u001B[0m \u001B[38;5;28;01mif\u001B[39;00m \u001B[38;5;28mself\u001B[39m\u001B[38;5;241m.\u001B[39m_state \u001B[38;5;129;01min\u001B[39;00m [CANCELLED, CANCELLED_AND_NOTIFIED]:\n\u001B[1;32m    454\u001B[0m     \u001B[38;5;28;01mraise\u001B[39;00m CancelledError()\n",
      "File \u001B[0;32m/Library/Frameworks/Python.framework/Versions/3.11/lib/python3.11/threading.py:320\u001B[0m, in \u001B[0;36mCondition.wait\u001B[0;34m(self, timeout)\u001B[0m\n\u001B[1;32m    318\u001B[0m \u001B[38;5;28;01mtry\u001B[39;00m:    \u001B[38;5;66;03m# restore state no matter what (e.g., KeyboardInterrupt)\u001B[39;00m\n\u001B[1;32m    319\u001B[0m     \u001B[38;5;28;01mif\u001B[39;00m timeout \u001B[38;5;129;01mis\u001B[39;00m \u001B[38;5;28;01mNone\u001B[39;00m:\n\u001B[0;32m--> 320\u001B[0m         \u001B[43mwaiter\u001B[49m\u001B[38;5;241;43m.\u001B[39;49m\u001B[43macquire\u001B[49m\u001B[43m(\u001B[49m\u001B[43m)\u001B[49m\n\u001B[1;32m    321\u001B[0m         gotit \u001B[38;5;241m=\u001B[39m \u001B[38;5;28;01mTrue\u001B[39;00m\n\u001B[1;32m    322\u001B[0m     \u001B[38;5;28;01melse\u001B[39;00m:\n",
      "\u001B[0;31mKeyboardInterrupt\u001B[0m: "
     ]
    }
   ],
   "source": [
    "for path in absolute_paths:\n",
    "    for i in range(len(map_evr_two)):\n",
    "        for j in range(i + 1, len(map_evr_two)):\n",
    "            if j == len(map_evr_two) + 1:\n",
    "                continue\n",
    "            make_evaluation(path, list(map_evr_two)[i] + '_' + list(map_evr_two)[j], 'MetaheuristicEnsembleAvg',\n",
    "                            MetaheuristicEnsembleAvg(list(map_evr_two.values())[i], list(map_evr_two.values())[j]),\n",
    "                            'Происходит полный тест кибер безопасности')\n"
   ],
   "metadata": {
    "collapsed": false,
    "ExecuteTime": {
     "end_time": "2024-04-26T19:27:43.579376Z",
     "start_time": "2024-04-26T12:26:19.708817Z"
    }
   },
   "id": "be661a2e45c21f3c"
  },
  {
   "cell_type": "code",
   "execution_count": null,
   "outputs": [],
   "source": [
    "# from algorithms.metaheuristics.ensemble.ensemble_learn import MetaheuristicEnsembleLearn\n",
    "# from algorithms.metaheuristics.ensemble.ensemble_avg import MetaheuristicEnsembleAvg\n",
    "# from algorithms.stenography.stego import embed_secret_message\n",
    "# from algorithms.metaheuristics.ensemble.ensemble_alternation import MetaheuristicEnsembleAlternation\n",
    "# \n",
    "# \n",
    "# print(absolute_paths)\n",
    "# img = cv2.imread(absolute_paths[0], 0)\n",
    "# img_coded = embed_secret_message(img, 'ВАПРОЛАЕНГОРПЕНГОРГШЛОРГОШЛРГШЛОТИПРНГОПУВУВЕ:,.,..Е,к56787к568н7панпрглнинш', MetaheuristicEnsembleLearn(map_evr_one['ACO'], term_dict=term_dict))\n",
    "# cv2.imwrite(\"coded.png\", img_coded)"
   ],
   "metadata": {
    "collapsed": false,
    "ExecuteTime": {
     "start_time": "2024-04-25T21:39:16.262276Z"
    }
   },
   "id": "df3498a236cc526c"
  },
  {
   "cell_type": "code",
   "execution_count": null,
   "outputs": [],
   "source": [
    "# import numpy as np\n",
    "# import math\n",
    "# \n",
    "# block = np.array([[-2.21967292, 2.03923583, 0.06507158, 0.69042134, -0.20684433, 1.90732121, -2.4496367, 2.67015243],\n",
    "#                   [1.87257504, 3.06700253, 0.17231822, -1.46339493, -0.57981007, 3.14159265, -2.24578445, 3.14159265],\n",
    "#                   [-2.88055372, -2.82443309, -0.42140927, 0.71204018, 1.32787965, 2.1016264, -1.39415446, -1.51203076],\n",
    "#                   [1.3148396, 1.40881171, 2.69691208, 0.93254014, -0.42329783, -2.62874155, -0.67891787, -2.69483431],\n",
    "#                   [-1.20726264, 0.43503738, -0.90774024, -1.39796962, -2.15023875, 1.39796962, 0.90774024, -0.43503738],\n",
    "#                   [1.23528028, 2.69483431, 0.67891787, 2.62874155, 0.42329783, -0.93254014, - 2.69691208, -1.40881171],\n",
    "#                   [-0.79664016, 1.51203076, 1.39415446, -2.1016264, -1.32787965, -0.71204018, 0.42140927, 2.82443309],\n",
    "#                   [-0.83800554, -3.14159265, 2.24578445, -3.14159265, 0.57981007, 1.46339493, - 0.17231822,\n",
    "#                    -3.06700253]])\n",
    "# \n",
    "# magn = np.array([[1318.16833496, 298.33279419, 1880.10510254, 1323.92004395, 1127.87756348, 230.97129822, 1471.63684082,\n",
    "#                   226.49703979],\n",
    "#                  [686.88586426, 805.19268799, 1229.38549805, 1419.12463379, 688.07312012, 648.38970947, 1658.96948242,\n",
    "#                   710.52709961],\n",
    "#                  [1110.66186523, 836.52490234, 1168.63439941, 662.965271, 224.96704102, 2316.78295898, 1904.3560791,\n",
    "#                   1018.98370361],\n",
    "#                  [899.44909668, 564.2454834, 1499.90246582, 168.19215393, 495.550354, 1633.00854492, 2095.5324707,\n",
    "#                   1400.86315918],\n",
    "#                  [1219.4119873, 1350.97595215, 1438.89257812, 1189.58837891, 366.04241943, 1274.92687988, 903.36328125,\n",
    "#                   591.65350342],\n",
    "#                  [1166.36425781, 1394.18261719, 409.03717041, 680.95178223, 1559.5255127, 1547.65063477, 1540.77526855,\n",
    "#                   833.5269165],\n",
    "#                  [1084.18896484, 1200.28173828, 46.40296173, 669.34680176, 703.37658691, 373.965271, 671.21893311,\n",
    "#                   781.10437012],\n",
    "#                  [826.52142334, 1176.47802734, 368.63476562, 2210.11450195, 1342.31274414, 847.26702881, 945.355896,\n",
    "#                   156.88287354]])\n",
    "# block += math.pi\n",
    "# # for i in range(len(block)):\n",
    "# #     for j in range(len(block[0])):\n",
    "# #         block[i][j] = round(block[i][j], 2)\n",
    "# \n",
    "# print(block)\n",
    "# real, imag = cv2.polarToCart(magn, block)\n",
    "# back = cv2.merge([real, imag])\n",
    "# back_ishift = np.fft.ifftshift(back)\n",
    "# img_back = cv2.idft(back_ishift)\n",
    "# img_back = cv2.magnitude(img_back[:, :, 0], img_back[:, :, 1])\n",
    "# img_back = cv2.normalize(img_back, None, alpha=0, beta=255, norm_type=cv2.NORM_MINMAX, dtype=cv2.CV_8U)\n",
    "# \n",
    "# dft = cv2.dft(np.float32(img_back), flags=cv2.DFT_COMPLEX_OUTPUT)\n",
    "# dft_shift = np.fft.fftshift(dft)\n",
    "# mag, phase = cv2.cartToPolar(dft_shift[:, :, 0], dft_shift[:, :, 1])\n",
    "# # for i in range(len(block)):\n",
    "# #     for j in range(len(block[0])):\n",
    "# #         phase[i][j] = round(phase[i][j], 2)\n",
    "# # phase -= math.pi\n",
    "# # phase\n",
    "# print(phase)\n",
    "# count = 0\n",
    "# for i in range(len(block)):\n",
    "#     for j in range(len(block[3])):\n",
    "#         if math.fabs(math.fabs(block[j][i]) - math.fabs(phase[i][j])) > 2:\n",
    "#             count += 1\n",
    "# print(count)\n",
    "# real, imag = cv2.polarToCart(magn, block)\n",
    "# back = cv2.merge([real, imag])\n",
    "# back_ishift = np.fft.ifftshift(back)\n",
    "# img_back = cv2.idft(back_ishift)\n",
    "# img_back = cv2.magnitude(img_back[:, :, 0], img_back[:, :, 1])\n",
    "# img_back = cv2.normalize(img_back, None, alpha=0, beta=255, norm_type=cv2.NORM_MINMAX, dtype=cv2.CV_8U)\n",
    "# \n",
    "# dft = cv2.dft(np.float32(img_back), flags=cv2.DFT_COMPLEX_OUTPUT)\n",
    "# dft_shift = np.fft.fftshift(dft)\n",
    "# mag, phase = cv2.cartToPolar(dft_shift[:, :, 0], dft_shift[:, :, 1])\n",
    "# print(phase)"
   ],
   "metadata": {
    "collapsed": false,
    "ExecuteTime": {
     "start_time": "2024-04-25T21:39:16.263216Z"
    }
   },
   "id": "7256cb1050203d71"
  },
  {
   "cell_type": "code",
   "execution_count": null,
   "outputs": [],
   "source": [
    "# original = cv2.imread(absolute_paths[0])\n",
    "# distorted = cv2.imread('coded.png')\n",
    "# \n",
    "# psnr = cv2.PSNR(original, distorted)\n",
    "# \n",
    "# # Распечатать результат\n",
    "# print(\"PSNR:\", psnr)"
   ],
   "metadata": {
    "collapsed": false,
    "ExecuteTime": {
     "start_time": "2024-04-25T21:39:16.263933Z"
    }
   },
   "id": "77d08238da41e132"
  },
  {
   "cell_type": "code",
   "execution_count": null,
   "outputs": [],
   "source": [],
   "metadata": {
    "collapsed": false,
    "ExecuteTime": {
     "start_time": "2024-04-25T21:39:16.264583Z"
    }
   },
   "id": "4ba4dac5ec5558e3"
  }
 ],
 "metadata": {
  "kernelspec": {
   "display_name": "Python 3",
   "language": "python",
   "name": "python3"
  },
  "language_info": {
   "codemirror_mode": {
    "name": "ipython",
    "version": 2
   },
   "file_extension": ".py",
   "mimetype": "text/x-python",
   "name": "python",
   "nbconvert_exporter": "python",
   "pygments_lexer": "ipython2",
   "version": "2.7.6"
  }
 },
 "nbformat": 4,
 "nbformat_minor": 5
}

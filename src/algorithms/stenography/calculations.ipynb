{
 "cells": [
  {
   "cell_type": "code",
   "execution_count": 1,
   "outputs": [],
   "source": [
    "map_evr_one = {}\n",
    "map_evr_two = {}\n",
    "map_evr_three = {}\n",
    "map_evr_alternation = []"
   ],
   "metadata": {
    "collapsed": false,
    "ExecuteTime": {
     "end_time": "2024-04-27T12:50:57.334219Z",
     "start_time": "2024-04-27T12:50:57.332018Z"
    }
   },
   "id": "20572b3b50ccc08b"
  },
  {
   "cell_type": "code",
   "execution_count": 2,
   "outputs": [],
   "source": [
    "term_dict = {\n",
    "    \"max_time\": 20  # seconds\n",
    "}"
   ],
   "metadata": {
    "collapsed": false,
    "ExecuteTime": {
     "end_time": "2024-04-27T12:50:57.354777Z",
     "start_time": "2024-04-27T12:50:57.334805Z"
    }
   },
   "id": "870b5a9ee0849eb1"
  },
  {
   "cell_type": "markdown",
   "source": [
    "### Old Optimization for text"
   ],
   "metadata": {
    "collapsed": false
   },
   "id": "f079d058fc959cd1"
  },
  {
   "cell_type": "code",
   "execution_count": 3,
   "outputs": [],
   "source": [
    "from algorithms.metaheuristics.single.de import DE\n",
    "\n",
    "pop_size = 40\n",
    "epoch = 5\n",
    "wf = 0.2\n",
    "cr = 0.6\n",
    "strategy = 0\n",
    "\n",
    "# DE\n",
    "de = DE(epoch, pop_size, wf, cr, strategy)\n",
    "map_evr_alternation.append(de)\n",
    "map_evr_one['DE'] = DE(60, pop_size, wf, cr, strategy)\n",
    "map_evr_two['DE'] = DE(30, pop_size, wf, cr, strategy)\n",
    "map_evr_three['DE'] = DE(20, pop_size, wf, cr, strategy)"
   ],
   "metadata": {
    "collapsed": false,
    "ExecuteTime": {
     "end_time": "2024-04-27T12:50:58.300435Z",
     "start_time": "2024-04-27T12:50:57.337113Z"
    }
   },
   "id": "66ffe20c75edd187"
  },
  {
   "cell_type": "code",
   "execution_count": 4,
   "outputs": [],
   "source": [
    "from algorithms.metaheuristics.single.pso import PSO\n",
    "\n",
    "pop_size = 40\n",
    "epoch = 5\n",
    "c1 = 1.4\n",
    "c2 = 1.4\n",
    "w_min = 0.4\n",
    "w_max = 0.9\n",
    "\n",
    "# PSO\n",
    "pso = PSO(epoch, pop_size, c1, c2, w_min, w_max)\n",
    "map_evr_alternation.append(pso)\n",
    "map_evr_one['PSO'] = PSO(60, pop_size, c1, c2, w_min, w_max)\n",
    "map_evr_two['PSO'] = PSO(30, pop_size, c1, c2, w_min, w_max)\n",
    "map_evr_three['PSO'] = PSO(20, pop_size, c1, c2, w_min, w_max)"
   ],
   "metadata": {
    "collapsed": false,
    "ExecuteTime": {
     "end_time": "2024-04-27T12:50:58.300803Z",
     "start_time": "2024-04-27T12:50:58.240141Z"
    }
   },
   "id": "e7b11644eb726aad"
  },
  {
   "cell_type": "code",
   "execution_count": 5,
   "outputs": [],
   "source": [
    "from algorithms.metaheuristics.single.hho import HHO\n",
    "\n",
    "pop_size = 40\n",
    "epoch = 5\n",
    "\n",
    "# HHO\n",
    "hho = HHO(epoch, pop_size)\n",
    "map_evr_alternation.append(hho)\n",
    "map_evr_one['HHO'] = HHO(60, pop_size)\n",
    "map_evr_two['HHO'] = HHO(30, pop_size)\n",
    "map_evr_three['HHO'] = HHO(20, pop_size)"
   ],
   "metadata": {
    "collapsed": false,
    "ExecuteTime": {
     "end_time": "2024-04-27T12:50:58.300878Z",
     "start_time": "2024-04-27T12:50:58.284387Z"
    }
   },
   "id": "9d7f177a1b0c143a"
  },
  {
   "cell_type": "code",
   "execution_count": 6,
   "outputs": [],
   "source": [
    "from algorithms.metaheuristics.single.fbio import FBIO\n",
    "\n",
    "pop_size = 40\n",
    "epoch = 5\n",
    "\n",
    "# FBIO\n",
    "fbi = FBIO(epoch, pop_size)\n",
    "map_evr_alternation.append(fbi)\n",
    "map_evr_one['FBIO'] = FBIO(60, pop_size)\n",
    "map_evr_two['FBIO'] = FBIO(30, pop_size)\n",
    "map_evr_three['FBIO'] = FBIO(20, pop_size)"
   ],
   "metadata": {
    "collapsed": false,
    "ExecuteTime": {
     "end_time": "2024-04-27T12:50:58.300927Z",
     "start_time": "2024-04-27T12:50:58.284556Z"
    }
   },
   "id": "22576ca08888832d"
  },
  {
   "cell_type": "code",
   "execution_count": 7,
   "outputs": [],
   "source": [
    "from algorithms.metaheuristics.single.gbo import GBO\n",
    "\n",
    "pop_size = 40\n",
    "epoch = 5\n",
    "pr = 0.5\n",
    "beta_min = 0.2\n",
    "beta_max = 1.2\n",
    "\n",
    "# GBO\n",
    "gbo = GBO(epoch, pop_size, pr, beta_min, beta_max)\n",
    "map_evr_alternation.append(gbo)\n",
    "map_evr_one['GBO'] = GBO(60, pop_size, pr, beta_min, beta_max)\n",
    "map_evr_two['GBO'] = GBO(30, pop_size, pr, beta_min, beta_max)\n",
    "map_evr_three['GBO'] = GBO(20, pop_size, pr, beta_min, beta_max)"
   ],
   "metadata": {
    "collapsed": false,
    "ExecuteTime": {
     "end_time": "2024-04-27T12:50:58.300968Z",
     "start_time": "2024-04-27T12:50:58.289636Z"
    }
   },
   "id": "e5fc9b9df31f0a6e"
  },
  {
   "cell_type": "markdown",
   "source": [
    "### New optimization for text"
   ],
   "metadata": {
    "collapsed": false
   },
   "id": "9e97034f8124431e"
  },
  {
   "cell_type": "code",
   "execution_count": 8,
   "outputs": [],
   "source": [
    "from algorithms.metaheuristics.single.iwo import IWO\n",
    "\n",
    "pop_size = 40\n",
    "seed_min = 3\n",
    "seed_max = 9\n",
    "exponent = 3\n",
    "sigma_start = 0.6\n",
    "sigma_end = 0.01\n",
    "epoch = 5\n",
    "\n",
    "# IWO\n",
    "iwo = IWO(epoch, pop_size, seed_min, seed_max, exponent, sigma_start, sigma_end)\n",
    "map_evr_alternation.append(iwo)\n",
    "map_evr_one['IWO'] = IWO(60, pop_size, seed_min, seed_max, exponent, sigma_start, sigma_end)\n",
    "map_evr_two['IWO'] = IWO(30, pop_size, seed_min, seed_max, exponent, sigma_start, sigma_end)\n",
    "map_evr_three['IWO'] = IWO(20, pop_size, seed_min, seed_max, exponent, sigma_start, sigma_end)"
   ],
   "metadata": {
    "collapsed": false,
    "ExecuteTime": {
     "end_time": "2024-04-27T12:50:58.301007Z",
     "start_time": "2024-04-27T12:50:58.294634Z"
    }
   },
   "id": "b98f4860cf500c57"
  },
  {
   "cell_type": "code",
   "execution_count": 9,
   "outputs": [],
   "source": [
    "from algorithms.metaheuristics.single.abc import ABC\n",
    "\n",
    "n_limits = 50\n",
    "pop_size = 40\n",
    "epoch = 5\n",
    "\n",
    "# ABC\n",
    "abc = ABC(epoch, pop_size, n_limits)\n",
    "map_evr_alternation.append(abc)\n",
    "map_evr_one['ABC'] = ABC(60, pop_size, n_limits)\n",
    "map_evr_two['ABC'] = ABC(30, pop_size, n_limits)\n",
    "map_evr_three['ABC'] = ABC(20, pop_size, n_limits)"
   ],
   "metadata": {
    "collapsed": false,
    "ExecuteTime": {
     "end_time": "2024-04-27T12:50:58.302866Z",
     "start_time": "2024-04-27T12:50:58.299703Z"
    }
   },
   "id": "30b8410ae83182"
  },
  {
   "cell_type": "code",
   "execution_count": 10,
   "outputs": [],
   "source": [
    "from algorithms.metaheuristics.single.bbo import BBO\n",
    "\n",
    "pop_size = 40\n",
    "p_m = 0.01\n",
    "elites = 2\n",
    "epoch = 5\n",
    "\n",
    "# BBO\n",
    "bbo = BBO(epoch, pop_size, p_m, elites)\n",
    "map_evr_alternation.append(bbo)\n",
    "map_evr_one['BBO'] = BBO(60, pop_size, p_m, elites)\n",
    "map_evr_two['BBO'] = BBO(30, pop_size, p_m, elites)\n",
    "map_evr_three['BBO'] = BBO(20, pop_size, p_m, elites)"
   ],
   "metadata": {
    "collapsed": false,
    "ExecuteTime": {
     "end_time": "2024-04-27T12:50:58.327126Z",
     "start_time": "2024-04-27T12:50:58.304662Z"
    }
   },
   "id": "5027675a9f7111"
  },
  {
   "cell_type": "code",
   "execution_count": 11,
   "outputs": [],
   "source": [
    "from algorithms.metaheuristics.single.ca import CA\n",
    "\n",
    "accepted_rate = 0.15\n",
    "pop_size = 40\n",
    "epoch = 5\n",
    "\n",
    "# CA\n",
    "ca = CA(epoch, pop_size, accepted_rate)\n",
    "map_evr_alternation.append(ca)\n",
    "map_evr_one['CA'] = CA(60, pop_size, accepted_rate)\n",
    "map_evr_two['CA'] = CA(30, pop_size, accepted_rate)\n",
    "map_evr_three['CA'] = CA(20, pop_size, accepted_rate)"
   ],
   "metadata": {
    "collapsed": false,
    "ExecuteTime": {
     "end_time": "2024-04-27T12:50:58.327485Z",
     "start_time": "2024-04-27T12:50:58.309756Z"
    }
   },
   "id": "3690ea58c1f1d2c2"
  },
  {
   "cell_type": "code",
   "execution_count": 12,
   "outputs": [],
   "source": [
    "from algorithms.metaheuristics.single.aco import ACO\n",
    "\n",
    "pop_size = 40\n",
    "sample_count = 25\n",
    "intent_factor = 0.5\n",
    "zeta = 1.0\n",
    "epoch = 5\n",
    "\n",
    "# ACO\n",
    "aco = ACO(epoch, pop_size, sample_count, intent_factor, zeta)\n",
    "map_evr_alternation.append(aco)\n",
    "map_evr_one['ACO'] = ACO(60, pop_size, sample_count, intent_factor, zeta)\n",
    "map_evr_two['ACO'] = ACO(30, pop_size, sample_count, intent_factor, zeta)\n",
    "map_evr_three['ACO'] = ACO(20, pop_size, sample_count, intent_factor, zeta)"
   ],
   "metadata": {
    "collapsed": false,
    "ExecuteTime": {
     "end_time": "2024-04-27T12:50:58.365333Z",
     "start_time": "2024-04-27T12:50:58.354695Z"
    }
   },
   "id": "7cebc6cae305caa6"
  },
  {
   "cell_type": "markdown",
   "source": [
    "# Calculations"
   ],
   "metadata": {
    "collapsed": false
   },
   "id": "6793f8be3575dfd1"
  },
  {
   "cell_type": "code",
   "execution_count": 41,
   "outputs": [],
   "source": [
    "# В качестве метрик считаем\n",
    "# 1) Среднее стандартное отклонение от оптимума\n",
    "# 2) Среднее значение оптимума\n",
    "# 3) Время выполнения алгоритма\n",
    "\n",
    "import os.path\n",
    "import csv\n",
    "import time\n",
    "import cv2\n",
    "\n",
    "from algorithms.stenography.stego import embed_secret_message\n",
    "\n",
    "file_name = \"result3.csv\"\n",
    "fields = ['Name_File', 'Name_Evr', 'Name_Ens', 'Time', 'PSNR']\n",
    "\n",
    "\n",
    "def make_evaluation(name_file, name_evr, name_ensemble, model, secret_message):\n",
    "    exists = not os.path.exists(file_name)\n",
    "    with open(file_name, 'a') as csvfile:\n",
    "        csvwriter = csv.writer(csvfile)\n",
    "        if exists:\n",
    "            csvwriter.writerow(fields)\n",
    "        img = cv2.imread(name_file, 0)\n",
    "        start_time = time.time()\n",
    "        img_coded = embed_secret_message(img, secret_message, model)\n",
    "        end_time = time.time()\n",
    "        psnr = cv2.PSNR(img, img_coded)\n",
    "        row = [\n",
    "            name_file.split('processed/')[1],\n",
    "            name_evr,\n",
    "            name_ensemble,\n",
    "            end_time - start_time,\n",
    "            psnr\n",
    "        ]\n",
    "        csvwriter.writerow(row)\n",
    "        csvfile.close()"
   ],
   "metadata": {
    "collapsed": false,
    "ExecuteTime": {
     "end_time": "2024-05-08T00:00:19.874854Z",
     "start_time": "2024-05-08T00:00:19.861940Z"
    }
   },
   "id": "27c4925a5716dade"
  },
  {
   "cell_type": "code",
   "execution_count": 14,
   "outputs": [
    {
     "data": {
      "text/plain": "['/Users/pavel/Desktop/watermark-embedder/src/resources/image/processed/area.png',\n '/Users/pavel/Desktop/watermark-embedder/src/resources/image/processed/boat.png',\n '/Users/pavel/Desktop/watermark-embedder/src/resources/image/processed/stream_and_bridge.png',\n '/Users/pavel/Desktop/watermark-embedder/src/resources/image/processed/airplane.png',\n '/Users/pavel/Desktop/watermark-embedder/src/resources/image/processed/goldhill.png',\n '/Users/pavel/Desktop/watermark-embedder/src/resources/image/processed/yacht.png',\n '/Users/pavel/Desktop/watermark-embedder/src/resources/image/processed/peppers.png',\n '/Users/pavel/Desktop/watermark-embedder/src/resources/image/processed/btr.png',\n '/Users/pavel/Desktop/watermark-embedder/src/resources/image/processed/baboon.png']"
     },
     "execution_count": 14,
     "metadata": {},
     "output_type": "execute_result"
    }
   ],
   "source": [
    "import os\n",
    "\n",
    "directory_path = '../../resources/image/processed'\n",
    "\n",
    "absolute_paths = [os.path.abspath(os.path.join(directory_path, file)) for file in os.listdir(directory_path)]\n",
    "absolute_paths"
   ],
   "metadata": {
    "collapsed": false,
    "ExecuteTime": {
     "end_time": "2024-04-27T12:51:07.666495Z",
     "start_time": "2024-04-27T12:51:07.652921Z"
    }
   },
   "id": "eb035c5f690e467f"
  },
  {
   "cell_type": "code",
   "execution_count": 15,
   "outputs": [],
   "source": [
    "from algorithms.metaheuristics.ensemble.ensemble_learn import MetaheuristicEnsembleLearn\n",
    "from algorithms.metaheuristics.ensemble.ensemble_avg import MetaheuristicEnsembleAvg\n",
    "from algorithms.metaheuristics.ensemble.ensemble_alternation import MetaheuristicEnsembleAlternation\n",
    "\n",
    "# make_evaluation(absolute_paths[3], map_evr_one['ACO'].name, 'MetaheuristicEnsembleLearn',\n",
    "#                 MetaheuristicEnsembleLearn(map_evr_one['ACO'], term_dict=term_dict),\n",
    "#                 'Происходит полный тест кибер безопасности')"
   ],
   "metadata": {
    "collapsed": false,
    "ExecuteTime": {
     "end_time": "2024-04-27T12:51:11.732364Z",
     "start_time": "2024-04-27T12:51:11.696143Z"
    }
   },
   "id": "23ca7ec92e99de8c"
  },
  {
   "cell_type": "markdown",
   "source": [
    "### Single heuristic calculation"
   ],
   "metadata": {
    "collapsed": false
   },
   "id": "ded3e11f90dfe811"
  },
  {
   "cell_type": "code",
   "execution_count": 20,
   "outputs": [],
   "source": [
    "msg = 'Шебаршин Павел Владимирович БПИ184-2 студент Программной инженерии Высшкй школы экономики'"
   ],
   "metadata": {
    "collapsed": false,
    "ExecuteTime": {
     "end_time": "2024-04-27T18:57:37.537333Z",
     "start_time": "2024-04-27T18:57:37.534436Z"
    }
   },
   "id": "bf7f523770a23fb7"
  },
  {
   "cell_type": "code",
   "execution_count": 32,
   "outputs": [],
   "source": [
    "for evr in map_evr_one:\n",
    "    for path in absolute_paths:\n",
    "        make_evaluation(path, map_evr_one[evr].name, 'MetaheuristicEnsembleLearn',\n",
    "                        MetaheuristicEnsembleLearn(map_evr_one[evr]), msg)"
   ],
   "metadata": {
    "collapsed": false,
    "ExecuteTime": {
     "end_time": "2024-05-04T21:02:46.609362Z",
     "start_time": "2024-05-04T19:24:21.648377Z"
    }
   },
   "id": "f2f9984d7a88c996"
  },
  {
   "cell_type": "markdown",
   "source": [
    "### Two heuristics calculation"
   ],
   "metadata": {
    "collapsed": false
   },
   "id": "f8bf5b86e54af024"
  },
  {
   "cell_type": "code",
   "execution_count": 38,
   "outputs": [],
   "source": [
    "for path in absolute_paths:\n",
    "    for i in range(len(map_evr_two)):\n",
    "        for j in range(i + 1, len(map_evr_two)):\n",
    "            if j == len(map_evr_two) + 1:\n",
    "                continue\n",
    "            make_evaluation(path, \n",
    "                            list(map_evr_two)[i] + '_' + list(map_evr_two)[j], \n",
    "                            'MetaheuristicEnsembleAvg',\n",
    "                            MetaheuristicEnsembleAvg(list(map_evr_two.values())[i], list(map_evr_two.values())[j]),\n",
    "                            msg)"
   ],
   "metadata": {
    "collapsed": false,
    "ExecuteTime": {
     "end_time": "2024-05-06T08:03:40.413692Z",
     "start_time": "2024-05-05T21:51:12.704960Z"
    }
   },
   "id": "be661a2e45c21f3c"
  },
  {
   "cell_type": "code",
   "execution_count": 40,
   "outputs": [],
   "source": [
    "for path in absolute_paths:\n",
    "    for i in range(len(map_evr_two)):\n",
    "        for j in range(i + 1, len(map_evr_two)):\n",
    "            if j == len(map_evr_two) + 1:\n",
    "                continue\n",
    "            make_evaluation(path, \n",
    "                            list(map_evr_two)[i] + '_' + list(map_evr_two)[j], \n",
    "                            'MetaheuristicEnsembleLearn',\n",
    "                            MetaheuristicEnsembleLearn(list(map_evr_two.values())[i], list(map_evr_two.values())[j]),\n",
    "                            msg)"
   ],
   "metadata": {
    "collapsed": false,
    "ExecuteTime": {
     "end_time": "2024-05-07T16:20:24.112686Z",
     "start_time": "2024-05-07T09:48:15.719470Z"
    }
   },
   "id": "3e65802190e429a8"
  },
  {
   "cell_type": "code",
   "execution_count": 39,
   "outputs": [],
   "source": [
    "for path in absolute_paths:\n",
    "    for i in range(len(map_evr_alternation)):\n",
    "        for j in range(i + 1, len(map_evr_alternation)):\n",
    "            if j == len(map_evr_alternation) + 1:\n",
    "                continue\n",
    "            make_evaluation(path, \n",
    "                            list(map_evr_alternation)[i].name + '_' + list(map_evr_alternation)[j].name,\n",
    "                            'MetaheuristicEnsembleAlternation',\n",
    "                            MetaheuristicEnsembleAlternation(map_evr_alternation[i], map_evr_alternation[j]),\n",
    "                            msg)"
   ],
   "metadata": {
    "collapsed": false,
    "ExecuteTime": {
     "end_time": "2024-05-07T05:56:33.029710Z",
     "start_time": "2024-05-06T22:39:55.375703Z"
    }
   },
   "id": "84a7bb50e6f006db"
  },
  {
   "cell_type": "markdown",
   "source": [
    "### Three heuristics calculation "
   ],
   "metadata": {
    "collapsed": false
   },
   "id": "7fa1a4cd9160500e"
  },
  {
   "cell_type": "code",
   "execution_count": 25,
   "outputs": [],
   "source": [
    "for path in absolute_paths:\n",
    "    for i in range(len(map_evr_three)):\n",
    "        for j in range(i + 1, len(map_evr_three)):\n",
    "            for m in range(j + 1, len(map_evr_three)):\n",
    "                if j == len(map_evr_three) + 1 or m == len(map_evr_three) + 1:\n",
    "                    continue\n",
    "                make_evaluation(path,\n",
    "                                list(map_evr_three)[i] + '_' + list(map_evr_three)[j] + '_' + list(map_evr_three)[m],\n",
    "                                'MetaheuristicEnsembleAvg',\n",
    "                                MetaheuristicEnsembleAvg(\n",
    "                                    list(map_evr_three.values())[i],\n",
    "                                    list(map_evr_three.values())[j],\n",
    "                                    list(map_evr_three.values())[m]\n",
    "                                ),\n",
    "                                msg)"
   ],
   "metadata": {
    "collapsed": false,
    "ExecuteTime": {
     "end_time": "2024-05-01T20:47:36.958909Z",
     "start_time": "2024-04-30T13:00:26.299775Z"
    }
   },
   "id": "51ceb0b0ad62cd87"
  },
  {
   "cell_type": "code",
   "execution_count": 26,
   "outputs": [],
   "source": [
    "for path in absolute_paths:\n",
    "    for i in range(len(map_evr_three)):\n",
    "        for j in range(i + 1, len(map_evr_three)):\n",
    "            for m in range(j + 1, len(map_evr_three)):\n",
    "                if j == len(map_evr_three) + 1 or m == len(map_evr_three) + 1:\n",
    "                    continue\n",
    "                make_evaluation(path,\n",
    "                                list(map_evr_three)[i] + '_' + list(map_evr_three)[j] + '_' + list(map_evr_three)[m],\n",
    "                                'MetaheuristicEnsembleLearn',\n",
    "                                MetaheuristicEnsembleLearn(\n",
    "                                    list(map_evr_three.values())[i],\n",
    "                                    list(map_evr_three.values())[j],\n",
    "                                    list(map_evr_three.values())[m]\n",
    "                                ),\n",
    "                                msg)"
   ],
   "metadata": {
    "collapsed": false,
    "ExecuteTime": {
     "end_time": "2024-05-02T14:33:31.710547Z",
     "start_time": "2024-05-01T21:25:43.398771Z"
    }
   },
   "id": "4e5e548e2e514546"
  },
  {
   "cell_type": "code",
   "execution_count": 42,
   "outputs": [],
   "source": [
    "for path in absolute_paths:\n",
    "    for i in range(len(map_evr_alternation)):\n",
    "        for j in range(i + 1, len(map_evr_alternation)):\n",
    "            for m in range(j + 1, len(map_evr_alternation)):\n",
    "                if j == len(map_evr_alternation) + 1 or m == len(map_evr_alternation) + 1:\n",
    "                    continue\n",
    "                make_evaluation(path,\n",
    "                                list(map_evr_alternation)[i].name + '_' +\n",
    "                                list(map_evr_alternation)[j].name + '_' +\n",
    "                                list(map_evr_alternation)[m].name,\n",
    "                                'MetaheuristicEnsembleAlternation',\n",
    "                                MetaheuristicEnsembleAlternation(\n",
    "                                    map_evr_alternation[i],\n",
    "                                    map_evr_alternation[j],\n",
    "                                    map_evr_alternation[m]\n",
    "                                ),\n",
    "                                msg)"
   ],
   "metadata": {
    "collapsed": false,
    "ExecuteTime": {
     "end_time": "2024-05-08T19:16:37.036188Z",
     "start_time": "2024-05-08T00:00:36.957522Z"
    }
   },
   "id": "181e926e9f758209"
  },
  {
   "cell_type": "code",
   "execution_count": 35,
   "outputs": [
    {
     "name": "stdout",
     "output_type": "stream",
     "text": [
      "['/Users/pavel/Desktop/watermark-embedder/src/resources/image/processed/area.png', '/Users/pavel/Desktop/watermark-embedder/src/resources/image/processed/boat.png', '/Users/pavel/Desktop/watermark-embedder/src/resources/image/processed/stream_and_bridge.png', '/Users/pavel/Desktop/watermark-embedder/src/resources/image/processed/airplane.png', '/Users/pavel/Desktop/watermark-embedder/src/resources/image/processed/goldhill.png', '/Users/pavel/Desktop/watermark-embedder/src/resources/image/processed/yacht.png', '/Users/pavel/Desktop/watermark-embedder/src/resources/image/processed/peppers.png', '/Users/pavel/Desktop/watermark-embedder/src/resources/image/processed/btr.png', '/Users/pavel/Desktop/watermark-embedder/src/resources/image/processed/baboon.png']\n"
     ]
    },
    {
     "data": {
      "text/plain": "True"
     },
     "execution_count": 35,
     "metadata": {},
     "output_type": "execute_result"
    }
   ],
   "source": [
    "from algorithms.metaheuristics.ensemble.ensemble_learn import MetaheuristicEnsembleLearn\n",
    "from algorithms.metaheuristics.ensemble.ensemble_avg import MetaheuristicEnsembleAvg\n",
    "from algorithms.stenography.stego import embed_secret_message\n",
    "from algorithms.metaheuristics.ensemble.ensemble_alternation import MetaheuristicEnsembleAlternation\n",
    "\n",
    "print(absolute_paths)\n",
    "img = cv2.imread(absolute_paths[-2], 0)\n",
    "img_coded = embed_secret_message(img, msg, MetaheuristicEnsembleLearn(map_evr_one['GBO'], term_dict=term_dict))\n",
    "cv2.imwrite(\"coded.png\", img_coded)"
   ],
   "metadata": {
    "collapsed": false,
    "ExecuteTime": {
     "end_time": "2024-05-04T21:44:04.692329Z",
     "start_time": "2024-05-04T21:44:01.897181Z"
    }
   },
   "id": "df3498a236cc526c"
  },
  {
   "cell_type": "code",
   "execution_count": 36,
   "outputs": [
    {
     "name": "stdout",
     "output_type": "stream",
     "text": [
      "PSNR: 45.4380604728191\n"
     ]
    }
   ],
   "source": [
    "original = cv2.imread(absolute_paths[-2])\n",
    "distorted = cv2.imread('coded.png')\n",
    "\n",
    "psnr = cv2.PSNR(original, distorted)\n",
    "\n",
    "# Распечатать результат\n",
    "print(\"PSNR:\", psnr)"
   ],
   "metadata": {
    "collapsed": false,
    "ExecuteTime": {
     "end_time": "2024-05-04T21:44:07.962444Z",
     "start_time": "2024-05-04T21:44:07.944912Z"
    }
   },
   "id": "77d08238da41e132"
  },
  {
   "cell_type": "code",
   "execution_count": null,
   "outputs": [],
   "source": [],
   "metadata": {
    "collapsed": false,
    "ExecuteTime": {
     "start_time": "2024-04-25T21:39:16.264583Z"
    }
   },
   "id": "4ba4dac5ec5558e3"
  }
 ],
 "metadata": {
  "kernelspec": {
   "display_name": "Python 3",
   "language": "python",
   "name": "python3"
  },
  "language_info": {
   "codemirror_mode": {
    "name": "ipython",
    "version": 2
   },
   "file_extension": ".py",
   "mimetype": "text/x-python",
   "name": "python",
   "nbconvert_exporter": "python",
   "pygments_lexer": "ipython2",
   "version": "2.7.6"
  }
 },
 "nbformat": 4,
 "nbformat_minor": 5
}

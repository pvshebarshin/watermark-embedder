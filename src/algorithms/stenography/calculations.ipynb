{
 "cells": [
  {
   "cell_type": "code",
   "execution_count": 1,
   "outputs": [],
   "source": [
    "map_evr_one = {}\n",
    "map_evr_two = {}\n",
    "map_evr_three = {}\n",
    "map_evr_alternation = []"
   ],
   "metadata": {
    "collapsed": false,
    "ExecuteTime": {
     "end_time": "2024-04-18T11:11:05.023966Z",
     "start_time": "2024-04-18T11:11:05.020844Z"
    }
   },
   "id": "20572b3b50ccc08b"
  },
  {
   "cell_type": "markdown",
   "source": [
    "### Old Optimization for text"
   ],
   "metadata": {
    "collapsed": false
   },
   "id": "f079d058fc959cd1"
  },
  {
   "cell_type": "code",
   "execution_count": 2,
   "outputs": [],
   "source": [
    "from algorithms.metaheuristics.de import DE\n",
    "\n",
    "pop_size = 40\n",
    "epoch = 5\n",
    "wf = 0.2\n",
    "cr = 0.6\n",
    "strategy = 0\n",
    "\n",
    "# DE\n",
    "de = DE(epoch, pop_size, wf, cr, strategy)\n",
    "map_evr_alternation.append(de)\n",
    "map_evr_one['DE'] = DE(60, pop_size, wf, cr, strategy)\n",
    "map_evr_two['DE'] = DE(30, pop_size, wf, cr, strategy)\n",
    "map_evr_three['DE'] = DE(20, pop_size, wf, cr, strategy)"
   ],
   "metadata": {
    "collapsed": false,
    "ExecuteTime": {
     "end_time": "2024-04-18T11:11:05.742221Z",
     "start_time": "2024-04-18T11:11:05.025267Z"
    }
   },
   "id": "66ffe20c75edd187"
  },
  {
   "cell_type": "code",
   "execution_count": 3,
   "outputs": [],
   "source": [
    "from algorithms.metaheuristics.pso import PSO\n",
    "\n",
    "pop_size = 40\n",
    "epoch = 5\n",
    "c1 = 1.4\n",
    "c2 = 1.4\n",
    "w_min = 0.4\n",
    "w_max = 0.9\n",
    "\n",
    "# PSO\n",
    "pso = PSO(epoch, pop_size, c1, c2, w_min, w_max)\n",
    "map_evr_alternation.append(pso)\n",
    "map_evr_one['PSO'] = PSO(60, pop_size, c1, c2, w_min, w_max)\n",
    "map_evr_two['PSO'] = PSO(30, pop_size, c1, c2, w_min, w_max)\n",
    "map_evr_three['PSO'] = PSO(20, pop_size, c1, c2, w_min, w_max)"
   ],
   "metadata": {
    "collapsed": false,
    "ExecuteTime": {
     "end_time": "2024-04-18T11:11:05.747940Z",
     "start_time": "2024-04-18T11:11:05.743549Z"
    }
   },
   "id": "e7b11644eb726aad"
  },
  {
   "cell_type": "code",
   "execution_count": 4,
   "outputs": [],
   "source": [
    "from algorithms.metaheuristics.hho import HHO\n",
    "\n",
    "pop_size = 40\n",
    "epoch = 5\n",
    "\n",
    "# HHO\n",
    "hho = HHO(epoch, pop_size)\n",
    "map_evr_alternation.append(hho)\n",
    "map_evr_one['HHO'] = HHO(60, pop_size)\n",
    "map_evr_two['HHO'] = HHO(30, pop_size)\n",
    "map_evr_three['HHO'] = HHO(20, pop_size)"
   ],
   "metadata": {
    "collapsed": false,
    "ExecuteTime": {
     "end_time": "2024-04-18T11:11:05.748140Z",
     "start_time": "2024-04-18T11:11:05.746345Z"
    }
   },
   "id": "9d7f177a1b0c143a"
  },
  {
   "cell_type": "code",
   "execution_count": 5,
   "outputs": [],
   "source": [
    "from algorithms.metaheuristics.fbio import FBIO\n",
    "\n",
    "pop_size = 40\n",
    "epoch = 5\n",
    "\n",
    "# FBIO\n",
    "fbi = FBIO(epoch, pop_size)\n",
    "map_evr_alternation.append(fbi)\n",
    "map_evr_one['FBIO'] = FBIO(60, pop_size)\n",
    "map_evr_two['FBIO'] = FBIO(30, pop_size)\n",
    "map_evr_three['FBIO'] = FBIO(20, pop_size)"
   ],
   "metadata": {
    "collapsed": false,
    "ExecuteTime": {
     "end_time": "2024-04-18T11:11:05.751818Z",
     "start_time": "2024-04-18T11:11:05.749946Z"
    }
   },
   "id": "22576ca08888832d"
  },
  {
   "cell_type": "code",
   "execution_count": 6,
   "outputs": [],
   "source": [
    "from algorithms.metaheuristics.gbo import GBO\n",
    "\n",
    "pop_size = 40\n",
    "epoch = 5\n",
    "pr = 0.5\n",
    "beta_min = 0.2\n",
    "beta_max = 1.2\n",
    "\n",
    "# GBO\n",
    "gbo = GBO(epoch, pop_size, pr, beta_min, beta_max)\n",
    "map_evr_alternation.append(gbo)\n",
    "map_evr_one['GBO'] = GBO(60, pop_size, pr, beta_min, beta_max)\n",
    "map_evr_two['GBO'] = GBO(30, pop_size, pr, beta_min, beta_max)\n",
    "map_evr_three['GBO'] = GBO(20, pop_size, pr, beta_min, beta_max)"
   ],
   "metadata": {
    "collapsed": false,
    "ExecuteTime": {
     "end_time": "2024-04-18T11:11:05.755947Z",
     "start_time": "2024-04-18T11:11:05.753142Z"
    }
   },
   "id": "e5fc9b9df31f0a6e"
  },
  {
   "cell_type": "markdown",
   "source": [
    "### New optimization for text"
   ],
   "metadata": {
    "collapsed": false
   },
   "id": "9e97034f8124431e"
  },
  {
   "cell_type": "code",
   "execution_count": 7,
   "outputs": [],
   "source": [
    "from algorithms.metaheuristics.iwo import IWO\n",
    "\n",
    "pop_size = 40\n",
    "seed_min = 3\n",
    "seed_max = 9\n",
    "exponent = 3\n",
    "sigma_start = 0.6\n",
    "sigma_end = 0.01\n",
    "epoch = 5\n",
    "\n",
    "# IWO\n",
    "iwo = IWO(epoch, pop_size, seed_min, seed_max, exponent, sigma_start, sigma_end)\n",
    "map_evr_alternation.append(iwo)\n",
    "map_evr_one['IWO'] = IWO(60, pop_size, seed_min, seed_max, exponent, sigma_start, sigma_end)\n",
    "map_evr_two['IWO'] = IWO(30, pop_size, seed_min, seed_max, exponent, sigma_start, sigma_end)\n",
    "map_evr_three['IWO'] = IWO(20, pop_size, seed_min, seed_max, exponent, sigma_start, sigma_end)"
   ],
   "metadata": {
    "collapsed": false,
    "ExecuteTime": {
     "end_time": "2024-04-18T11:11:05.760092Z",
     "start_time": "2024-04-18T11:11:05.756502Z"
    }
   },
   "id": "b98f4860cf500c57"
  },
  {
   "cell_type": "code",
   "execution_count": 8,
   "outputs": [],
   "source": [
    "from algorithms.metaheuristics.abc import ABC\n",
    "\n",
    "n_limits = 50\n",
    "pop_size = 40\n",
    "epoch = 5\n",
    "\n",
    "# ABC\n",
    "abc = ABC(epoch, pop_size, n_limits)\n",
    "map_evr_alternation.append(abc)\n",
    "map_evr_one['ABC'] = ABC(60, pop_size, n_limits)\n",
    "map_evr_two['ABC'] = ABC(30, pop_size, n_limits)\n",
    "map_evr_three['ABC'] = ABC(20, pop_size, n_limits)"
   ],
   "metadata": {
    "collapsed": false,
    "ExecuteTime": {
     "end_time": "2024-04-18T11:11:05.763856Z",
     "start_time": "2024-04-18T11:11:05.759681Z"
    }
   },
   "id": "30b8410ae83182"
  },
  {
   "cell_type": "code",
   "execution_count": 9,
   "outputs": [],
   "source": [
    "from algorithms.metaheuristics.bbo import BBO\n",
    "\n",
    "pop_size = 40\n",
    "p_m = 0.01\n",
    "elites = 2\n",
    "epoch = 5\n",
    "\n",
    "# BBO\n",
    "bbo = BBO(epoch, pop_size, p_m, elites)\n",
    "map_evr_alternation.append(bbo)\n",
    "map_evr_one['BBO'] = BBO(60, pop_size, p_m, elites)\n",
    "map_evr_two['BBO'] = BBO(30, pop_size, p_m, elites)\n",
    "map_evr_three['BBO'] = BBO(20, pop_size, p_m, elites)"
   ],
   "metadata": {
    "collapsed": false,
    "ExecuteTime": {
     "end_time": "2024-04-18T11:11:05.768690Z",
     "start_time": "2024-04-18T11:11:05.761750Z"
    }
   },
   "id": "5027675a9f7111"
  },
  {
   "cell_type": "code",
   "execution_count": 10,
   "outputs": [],
   "source": [
    "from algorithms.metaheuristics.ca import CA\n",
    "\n",
    "accepted_rate = 0.15\n",
    "pop_size = 40\n",
    "epoch = 5\n",
    "\n",
    "# CA\n",
    "ca = CA(epoch, pop_size, accepted_rate)\n",
    "map_evr_alternation.append(ca)\n",
    "map_evr_one['CA'] = CA(60, pop_size, accepted_rate)\n",
    "map_evr_two['CA'] = CA(30, pop_size, accepted_rate)\n",
    "map_evr_three['CA'] = CA(20, pop_size, accepted_rate)"
   ],
   "metadata": {
    "collapsed": false,
    "ExecuteTime": {
     "end_time": "2024-04-18T11:11:05.768855Z",
     "start_time": "2024-04-18T11:11:05.765516Z"
    }
   },
   "id": "3690ea58c1f1d2c2"
  },
  {
   "cell_type": "code",
   "execution_count": 11,
   "outputs": [],
   "source": [
    "from algorithms.metaheuristics.aco import ACO\n",
    "\n",
    "pop_size = 40\n",
    "sample_count = 25\n",
    "intent_factor = 0.5\n",
    "zeta = 1.0\n",
    "epoch = 5\n",
    "\n",
    "# ACO\n",
    "aco = ACO(epoch, pop_size, sample_count, intent_factor, zeta)\n",
    "map_evr_alternation.append(aco)\n",
    "map_evr_one['ACO'] = ACO(60, pop_size, sample_count, intent_factor, zeta)\n",
    "map_evr_two['ACO'] = ACO(30, pop_size, sample_count, intent_factor, zeta)\n",
    "map_evr_three['ACO'] = ACO(20, pop_size, sample_count, intent_factor, zeta)"
   ],
   "metadata": {
    "collapsed": false,
    "ExecuteTime": {
     "end_time": "2024-04-18T11:11:05.775588Z",
     "start_time": "2024-04-18T11:11:05.768111Z"
    }
   },
   "id": "7cebc6cae305caa6"
  },
  {
   "cell_type": "markdown",
   "source": [
    "# Calculations"
   ],
   "metadata": {
    "collapsed": false
   },
   "id": "6793f8be3575dfd1"
  },
  {
   "cell_type": "code",
   "execution_count": 13,
   "outputs": [
    {
     "name": "stdout",
     "output_type": "stream",
     "text": [
      "['/Users/pavel/Desktop/watermark-embedder/src/resources/image/processed/boat.png', '/Users/pavel/Desktop/watermark-embedder/src/resources/image/processed/lena.png', '/Users/pavel/Desktop/watermark-embedder/src/resources/image/processed/stream_and_bridge.png', '/Users/pavel/Desktop/watermark-embedder/src/resources/image/processed/airplane.png', '/Users/pavel/Desktop/watermark-embedder/src/resources/image/processed/goldhill.png', '/Users/pavel/Desktop/watermark-embedder/src/resources/image/processed/peppers.png', '/Users/pavel/Desktop/watermark-embedder/src/resources/image/processed/baboon.png']\n",
      "[[ 1.42900012e+03  9.86198547e+02  1.76021008e+03  4.30842920e+03\n",
      "   5.68493774e+02  5.16936279e+02  4.39105762e+03  3.13688232e+03]\n",
      " [ 2.87037280e+03  3.37882837e+03  2.60186865e+03 -1.37822283e-02\n",
      "   7.83979495e-01 -3.04813840e+00  1.83460191e-01  3.14159265e+00]\n",
      " [ 2.22554492e+03  1.84131775e+03 -2.03934899e+00 -3.14159265e+00\n",
      "  -3.14159265e+00 -2.42250384e+00  3.14159265e+00 -2.61087772e+00]\n",
      " [ 1.26856848e+03  3.14159265e+00 -2.16927640e+00 -9.87469068e-01\n",
      "   9.81479304e-01  7.31722356e-01  2.32841637e+00 -2.08181479e+00]\n",
      " [ 3.01498120e+03  2.91734705e-01 -2.48551824e-02 -1.79103043e+00\n",
      "   1.69593640e+03  1.79103043e+00  2.48551824e-02 -2.91734705e-01]\n",
      " [ 1.60687976e+03  2.08181479e+00 -2.32841637e+00 -7.31722356e-01\n",
      "  -9.81479304e-01  9.87469068e-01  2.16927640e+00 -3.14159265e+00]\n",
      " [ 3.01865503e+03  2.61087772e+00 -3.14159265e+00  2.42250384e+00\n",
      "   3.14159265e+00  3.14159265e+00  2.03934899e+00 -1.84131775e+03]\n",
      " [ 3.23283301e+03 -3.14159265e+00 -1.83460191e-01  3.04813840e+00\n",
      "  -7.83979495e-01  1.37822283e-02 -2.60186865e+03 -3.37882837e+03]]\n",
      "0.783979494551674\n",
      "01001000\n",
      "0.9814793038020398\n",
      "1001000\n",
      "2.0818147932063553\n",
      "001000\n",
      "2.422503844982069\n",
      "01000\n",
      "[[ 4.90266895e+03  8.03205200e+02  1.54342090e+03  6.51172180e+02\n",
      "   4.38686523e+03  1.81177832e+03  5.06754932e+03  3.49968140e+03]\n",
      " [ 2.88251465e+03  4.27339795e+03  8.30734131e+02  2.15283186e+00\n",
      "  -5.77918843e-01  7.91865457e-01  9.42250290e-01  1.18079847e+00]\n",
      " [ 4.21631543e+03  4.30951465e+03  3.14159265e+00 -2.77805768e+00\n",
      "  -3.14159265e+00  1.36718032e+00  2.53184562e-01 -3.14159265e+00]\n",
      " [ 2.13294360e+03  1.05285632e+00  3.14159265e+00 -2.30053382e+00\n",
      "  -1.29799480e+00  3.14159265e+00  3.14159265e+00 -2.03603381e+00]\n",
      " [ 2.42324683e+03 -6.46558958e-01  5.09496326e-01 -1.48311500e+00\n",
      "   7.10807495e+02  1.48311500e+00 -5.09496326e-01  6.46558958e-01]\n",
      " [ 1.86259265e+03  2.03603381e+00 -3.14159265e+00 -3.14159265e+00\n",
      "   1.29799480e+00  2.30053382e+00 -3.14159265e+00 -1.05285632e+00]\n",
      " [ 4.58111670e+03  3.14159265e+00 -2.53184562e-01 -1.36718032e+00\n",
      "   3.14159265e+00  2.77805768e+00 -3.14159265e+00 -4.30951465e+03]\n",
      " [ 2.20614429e+03 -1.18079847e+00 -9.42250290e-01 -7.91865457e-01\n",
      "   5.77918843e-01 -2.15283186e+00 -8.30734131e+02 -4.27339795e+03]]\n",
      "2.152831856421179\n",
      "1000\n",
      "1.0528563232310404\n",
      "000\n",
      "2.0360338054334037\n",
      "00\n",
      "[[ 1.17067712e+03  2.25653198e+03  2.90540967e+03  3.09800903e+03\n",
      "   2.27820752e+03  2.31932764e+03  1.40644751e+03  3.07590942e+03]\n",
      " [ 1.55610327e+03  2.64764331e+03  1.41657422e+03  1.02098740e+00\n",
      "  -8.74793469e-01 -1.95571060e+00 -1.24170216e+00 -3.14159265e+00]\n",
      " [ 4.81275000e+03  3.34814771e+03  4.56943826e-01 -3.14159265e+00\n",
      "  -1.91319436e+00  2.08696036e+00  1.51192853e+00  2.13916737e+00]\n",
      " [ 1.64387439e+03  2.01573429e+00  3.14159265e+00  1.68715079e+00\n",
      "   1.00612086e+00  1.67887969e+00  8.98906670e-01  3.14159265e+00]\n",
      " [ 1.89375916e+03 -1.08875342e+00 -3.13980752e+00 -5.33434181e-01\n",
      "   2.61005347e+03  5.33434181e-01  3.13980752e+00  1.08875342e+00]\n",
      " [ 4.80215381e+03 -3.14159265e+00 -8.98906670e-01 -1.67887969e+00\n",
      "  -1.00612086e+00 -1.68715079e+00 -3.14159265e+00 -2.01573429e+00]\n",
      " [ 2.68278613e+03 -2.13916737e+00 -1.51192853e+00 -2.08696036e+00\n",
      "   1.91319436e+00  3.14159265e+00 -4.56943826e-01 -3.34814771e+03]\n",
      " [ 3.49061182e+03  3.14159265e+00  1.24170216e+00  1.95571060e+00\n",
      "   8.74793469e-01 -1.02098740e+00 -1.41657422e+03 -2.64764331e+03]]\n",
      "1.0209874003482988\n",
      "0\n"
     ]
    },
    {
     "data": {
      "text/plain": "True"
     },
     "execution_count": 13,
     "metadata": {},
     "output_type": "execute_result"
    }
   ],
   "source": [
    "from algorithms.metaheuristics.ensemble.ensemble_learn import MetaheuristicEnsembleLearn\n",
    "from algorithms.metaheuristics.ensemble.ensemble_avg import MetaheuristicEnsembleAvg\n",
    "from algorithms.stenography.stego import embed_secret_message\n",
    "from algorithms.metaheuristics.ensemble.ensemble_alternation import MetaheuristicEnsembleAlternation\n",
    "import os\n",
    "import cv2\n",
    "\n",
    "directory_path = '../../resources/image/processed'\n",
    "\n",
    "absolute_paths = [os.path.abspath(os.path.join(directory_path, file)) for file in os.listdir(directory_path)]\n",
    "\n",
    "print(absolute_paths)\n",
    "img = cv2.imread(absolute_paths[0], 0)\n",
    "img_coded = embed_secret_message(img, 'H', MetaheuristicEnsembleLearn(map_evr_one['ACO']))\n",
    "cv2.imwrite(\"coded.png\", img_coded)"
   ],
   "metadata": {
    "collapsed": false,
    "ExecuteTime": {
     "end_time": "2024-04-18T11:11:16.415894Z",
     "start_time": "2024-04-18T11:11:16.326344Z"
    }
   },
   "id": "df3498a236cc526c"
  },
  {
   "cell_type": "code",
   "execution_count": 12,
   "outputs": [],
   "source": [],
   "metadata": {
    "collapsed": false,
    "ExecuteTime": {
     "end_time": "2024-04-18T11:11:05.860618Z",
     "start_time": "2024-04-18T11:11:05.857668Z"
    }
   },
   "id": "7256cb1050203d71"
  }
 ],
 "metadata": {
  "kernelspec": {
   "display_name": "Python 3",
   "language": "python",
   "name": "python3"
  },
  "language_info": {
   "codemirror_mode": {
    "name": "ipython",
    "version": 2
   },
   "file_extension": ".py",
   "mimetype": "text/x-python",
   "name": "python",
   "nbconvert_exporter": "python",
   "pygments_lexer": "ipython2",
   "version": "2.7.6"
  }
 },
 "nbformat": 4,
 "nbformat_minor": 5
}

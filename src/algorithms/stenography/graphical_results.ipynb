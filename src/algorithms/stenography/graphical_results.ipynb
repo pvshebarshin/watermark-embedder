{
 "cells": [
  {
   "cell_type": "code",
   "execution_count": 1,
   "id": "initial_id",
   "metadata": {
    "collapsed": true,
    "ExecuteTime": {
     "end_time": "2024-04-26T21:18:38.490089Z",
     "start_time": "2024-04-26T21:18:38.120942Z"
    }
   },
   "outputs": [],
   "source": [
    "import pandas as pd\n",
    "import matplotlib.pyplot as plt\n",
    "%matplotlib inline"
   ]
  },
  {
   "cell_type": "code",
   "execution_count": 9,
   "outputs": [
    {
     "data": {
      "text/plain": "                 Name_File Name_Evr                    Name_Ens        Time  \\\n0                 area.png       DE  MetaheuristicEnsembleLearn   65.142363   \n1                 boat.png       DE  MetaheuristicEnsembleLearn   63.124016   \n2    stream_and_bridge.png       DE  MetaheuristicEnsembleLearn   67.422749   \n3             airplane.png       DE  MetaheuristicEnsembleLearn   63.192217   \n4             goldhill.png       DE  MetaheuristicEnsembleLearn   69.033070   \n..                     ...      ...                         ...         ...   \n220  stream_and_bridge.png   ABC_CA    MetaheuristicEnsembleAvg  190.720950   \n221  stream_and_bridge.png  ABC_ACO    MetaheuristicEnsembleAvg  287.912014   \n222  stream_and_bridge.png   BBO_CA    MetaheuristicEnsembleAvg  144.884350   \n223  stream_and_bridge.png  BBO_ACO    MetaheuristicEnsembleAvg  205.070981   \n224  stream_and_bridge.png   CA_ACO    MetaheuristicEnsembleAvg  167.415148   \n\n          PSNR  \n0    35.496838  \n1    56.239616  \n2    45.217282  \n3    52.629506  \n4    49.174664  \n..         ...  \n220  43.389820  \n221  44.084657  \n222  42.082176  \n223  43.265414  \n224  42.603198  \n\n[225 rows x 5 columns]",
      "text/html": "<div>\n<style scoped>\n    .dataframe tbody tr th:only-of-type {\n        vertical-align: middle;\n    }\n\n    .dataframe tbody tr th {\n        vertical-align: top;\n    }\n\n    .dataframe thead th {\n        text-align: right;\n    }\n</style>\n<table border=\"1\" class=\"dataframe\">\n  <thead>\n    <tr style=\"text-align: right;\">\n      <th></th>\n      <th>Name_File</th>\n      <th>Name_Evr</th>\n      <th>Name_Ens</th>\n      <th>Time</th>\n      <th>PSNR</th>\n    </tr>\n  </thead>\n  <tbody>\n    <tr>\n      <th>0</th>\n      <td>area.png</td>\n      <td>DE</td>\n      <td>MetaheuristicEnsembleLearn</td>\n      <td>65.142363</td>\n      <td>35.496838</td>\n    </tr>\n    <tr>\n      <th>1</th>\n      <td>boat.png</td>\n      <td>DE</td>\n      <td>MetaheuristicEnsembleLearn</td>\n      <td>63.124016</td>\n      <td>56.239616</td>\n    </tr>\n    <tr>\n      <th>2</th>\n      <td>stream_and_bridge.png</td>\n      <td>DE</td>\n      <td>MetaheuristicEnsembleLearn</td>\n      <td>67.422749</td>\n      <td>45.217282</td>\n    </tr>\n    <tr>\n      <th>3</th>\n      <td>airplane.png</td>\n      <td>DE</td>\n      <td>MetaheuristicEnsembleLearn</td>\n      <td>63.192217</td>\n      <td>52.629506</td>\n    </tr>\n    <tr>\n      <th>4</th>\n      <td>goldhill.png</td>\n      <td>DE</td>\n      <td>MetaheuristicEnsembleLearn</td>\n      <td>69.033070</td>\n      <td>49.174664</td>\n    </tr>\n    <tr>\n      <th>...</th>\n      <td>...</td>\n      <td>...</td>\n      <td>...</td>\n      <td>...</td>\n      <td>...</td>\n    </tr>\n    <tr>\n      <th>220</th>\n      <td>stream_and_bridge.png</td>\n      <td>ABC_CA</td>\n      <td>MetaheuristicEnsembleAvg</td>\n      <td>190.720950</td>\n      <td>43.389820</td>\n    </tr>\n    <tr>\n      <th>221</th>\n      <td>stream_and_bridge.png</td>\n      <td>ABC_ACO</td>\n      <td>MetaheuristicEnsembleAvg</td>\n      <td>287.912014</td>\n      <td>44.084657</td>\n    </tr>\n    <tr>\n      <th>222</th>\n      <td>stream_and_bridge.png</td>\n      <td>BBO_CA</td>\n      <td>MetaheuristicEnsembleAvg</td>\n      <td>144.884350</td>\n      <td>42.082176</td>\n    </tr>\n    <tr>\n      <th>223</th>\n      <td>stream_and_bridge.png</td>\n      <td>BBO_ACO</td>\n      <td>MetaheuristicEnsembleAvg</td>\n      <td>205.070981</td>\n      <td>43.265414</td>\n    </tr>\n    <tr>\n      <th>224</th>\n      <td>stream_and_bridge.png</td>\n      <td>CA_ACO</td>\n      <td>MetaheuristicEnsembleAvg</td>\n      <td>167.415148</td>\n      <td>42.603198</td>\n    </tr>\n  </tbody>\n</table>\n<p>225 rows × 5 columns</p>\n</div>"
     },
     "execution_count": 9,
     "metadata": {},
     "output_type": "execute_result"
    }
   ],
   "source": [
    "dataset = pd.read_csv('result.csv')\n",
    "dataset"
   ],
   "metadata": {
    "collapsed": false,
    "ExecuteTime": {
     "end_time": "2024-04-26T22:56:23.721977Z",
     "start_time": "2024-04-26T22:56:23.712210Z"
    }
   },
   "id": "1010ec378f85319a"
  },
  {
   "cell_type": "code",
   "execution_count": 3,
   "outputs": [
    {
     "name": "stdout",
     "output_type": "stream",
     "text": [
      "<class 'pandas.core.frame.DataFrame'>\n",
      "RangeIndex: 225 entries, 0 to 224\n",
      "Data columns (total 5 columns):\n",
      " #   Column     Non-Null Count  Dtype  \n",
      "---  ------     --------------  -----  \n",
      " 0   Name_File  225 non-null    object \n",
      " 1   Name_Evr   225 non-null    object \n",
      " 2   Name_Ens   225 non-null    object \n",
      " 3   Time       225 non-null    float64\n",
      " 4   PSNR       225 non-null    float64\n",
      "dtypes: float64(2), object(3)\n",
      "memory usage: 8.9+ KB\n"
     ]
    }
   ],
   "source": [
    "dataset.info()"
   ],
   "metadata": {
    "collapsed": false,
    "ExecuteTime": {
     "end_time": "2024-04-26T21:18:41.544344Z",
     "start_time": "2024-04-26T21:18:41.525211Z"
    }
   },
   "id": "f7e3a2be66c6d3fe"
  },
  {
   "cell_type": "code",
   "execution_count": 5,
   "outputs": [
    {
     "name": "stdout",
     "output_type": "stream",
     "text": [
      "Files: ['area.png' 'boat.png' 'stream_and_bridge.png' 'airplane.png'\n",
      " 'goldhill.png' 'yacht.png' 'peppers.png' 'btr.png' 'baboon.png'] \n",
      "\n",
      "Ensembles: ['MetaheuristicEnsembleLearn' 'MetaheuristicEnsembleAvg']\n"
     ]
    }
   ],
   "source": [
    "print('Files:', pd.unique(dataset['Name_File']), '\\n')\n",
    "print('Ensembles:', pd.unique(dataset['Name_Ens']))"
   ],
   "metadata": {
    "collapsed": false,
    "ExecuteTime": {
     "end_time": "2024-04-26T22:51:04.372799Z",
     "start_time": "2024-04-26T22:51:04.361390Z"
    }
   },
   "id": "96ff7d30618083dd"
  },
  {
   "cell_type": "code",
   "execution_count": 6,
   "outputs": [],
   "source": [
    "ens_avg = dataset[(dataset['Name_Ens'] == 'MetaheuristicEnsembleAvg')]\n",
    "ens_learn = dataset[(dataset['Name_Ens'] == 'MetaheuristicEnsembleLearn')]\n",
    "ens_alt = dataset[(dataset['Name_Ens'] == 'MetaheuristicEnsembleAlternation')]"
   ],
   "metadata": {
    "collapsed": false,
    "ExecuteTime": {
     "end_time": "2024-04-26T22:55:47.469137Z",
     "start_time": "2024-04-26T22:55:47.464607Z"
    }
   },
   "id": "e4700a75c3c3a746"
  },
  {
   "cell_type": "code",
   "execution_count": null,
   "outputs": [],
   "source": [],
   "metadata": {
    "collapsed": false
   },
   "id": "763fabf85bcf26f9"
  }
 ],
 "metadata": {
  "kernelspec": {
   "display_name": "Python 3",
   "language": "python",
   "name": "python3"
  },
  "language_info": {
   "codemirror_mode": {
    "name": "ipython",
    "version": 2
   },
   "file_extension": ".py",
   "mimetype": "text/x-python",
   "name": "python",
   "nbconvert_exporter": "python",
   "pygments_lexer": "ipython2",
   "version": "2.7.6"
  }
 },
 "nbformat": 4,
 "nbformat_minor": 5
}

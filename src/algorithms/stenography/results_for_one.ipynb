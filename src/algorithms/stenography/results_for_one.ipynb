{
 "cells": [
  {
   "cell_type": "code",
   "execution_count": 1,
   "id": "initial_id",
   "metadata": {
    "collapsed": true,
    "ExecuteTime": {
     "end_time": "2024-05-10T13:21:33.558153Z",
     "start_time": "2024-05-10T13:21:31.733552Z"
    }
   },
   "outputs": [],
   "source": [
    "import pandas as pd\n",
    "import numpy as np\n",
    "import matplotlib.pyplot as plt\n",
    "%matplotlib inline"
   ]
  },
  {
   "cell_type": "code",
   "execution_count": 2,
   "outputs": [
    {
     "data": {
      "text/plain": "                 Name_File Name_Evr                    Name_Ens        Time  \\\n0                 area.png       DE  MetaheuristicEnsembleLearn   27.772500   \n1                 boat.png       DE  MetaheuristicEnsembleLearn   27.048620   \n2    stream_and_bridge.png       DE  MetaheuristicEnsembleLearn   27.013496   \n3             airplane.png       DE  MetaheuristicEnsembleLearn   26.778326   \n4             goldhill.png       DE  MetaheuristicEnsembleLearn   27.631188   \n..                     ...      ...                         ...         ...   \n175           goldhill.png      ACO  MetaheuristicEnsembleLearn  126.454137   \n176              yacht.png      ACO  MetaheuristicEnsembleLearn  117.613410   \n177            peppers.png      ACO  MetaheuristicEnsembleLearn  122.082257   \n178                btr.png      ACO  MetaheuristicEnsembleLearn  123.006343   \n179             baboon.png      ACO  MetaheuristicEnsembleLearn  118.413533   \n\n          PSNR  \n0    30.714889  \n1    53.006102  \n2    42.653908  \n3    54.646203  \n4    44.123331  \n..         ...  \n175  42.774540  \n176  46.221155  \n177  47.050975  \n178  45.835434  \n179  39.173009  \n\n[180 rows x 5 columns]",
      "text/html": "<div>\n<style scoped>\n    .dataframe tbody tr th:only-of-type {\n        vertical-align: middle;\n    }\n\n    .dataframe tbody tr th {\n        vertical-align: top;\n    }\n\n    .dataframe thead th {\n        text-align: right;\n    }\n</style>\n<table border=\"1\" class=\"dataframe\">\n  <thead>\n    <tr style=\"text-align: right;\">\n      <th></th>\n      <th>Name_File</th>\n      <th>Name_Evr</th>\n      <th>Name_Ens</th>\n      <th>Time</th>\n      <th>PSNR</th>\n    </tr>\n  </thead>\n  <tbody>\n    <tr>\n      <th>0</th>\n      <td>area.png</td>\n      <td>DE</td>\n      <td>MetaheuristicEnsembleLearn</td>\n      <td>27.772500</td>\n      <td>30.714889</td>\n    </tr>\n    <tr>\n      <th>1</th>\n      <td>boat.png</td>\n      <td>DE</td>\n      <td>MetaheuristicEnsembleLearn</td>\n      <td>27.048620</td>\n      <td>53.006102</td>\n    </tr>\n    <tr>\n      <th>2</th>\n      <td>stream_and_bridge.png</td>\n      <td>DE</td>\n      <td>MetaheuristicEnsembleLearn</td>\n      <td>27.013496</td>\n      <td>42.653908</td>\n    </tr>\n    <tr>\n      <th>3</th>\n      <td>airplane.png</td>\n      <td>DE</td>\n      <td>MetaheuristicEnsembleLearn</td>\n      <td>26.778326</td>\n      <td>54.646203</td>\n    </tr>\n    <tr>\n      <th>4</th>\n      <td>goldhill.png</td>\n      <td>DE</td>\n      <td>MetaheuristicEnsembleLearn</td>\n      <td>27.631188</td>\n      <td>44.123331</td>\n    </tr>\n    <tr>\n      <th>...</th>\n      <td>...</td>\n      <td>...</td>\n      <td>...</td>\n      <td>...</td>\n      <td>...</td>\n    </tr>\n    <tr>\n      <th>175</th>\n      <td>goldhill.png</td>\n      <td>ACO</td>\n      <td>MetaheuristicEnsembleLearn</td>\n      <td>126.454137</td>\n      <td>42.774540</td>\n    </tr>\n    <tr>\n      <th>176</th>\n      <td>yacht.png</td>\n      <td>ACO</td>\n      <td>MetaheuristicEnsembleLearn</td>\n      <td>117.613410</td>\n      <td>46.221155</td>\n    </tr>\n    <tr>\n      <th>177</th>\n      <td>peppers.png</td>\n      <td>ACO</td>\n      <td>MetaheuristicEnsembleLearn</td>\n      <td>122.082257</td>\n      <td>47.050975</td>\n    </tr>\n    <tr>\n      <th>178</th>\n      <td>btr.png</td>\n      <td>ACO</td>\n      <td>MetaheuristicEnsembleLearn</td>\n      <td>123.006343</td>\n      <td>45.835434</td>\n    </tr>\n    <tr>\n      <th>179</th>\n      <td>baboon.png</td>\n      <td>ACO</td>\n      <td>MetaheuristicEnsembleLearn</td>\n      <td>118.413533</td>\n      <td>39.173009</td>\n    </tr>\n  </tbody>\n</table>\n<p>180 rows × 5 columns</p>\n</div>"
     },
     "execution_count": 2,
     "metadata": {},
     "output_type": "execute_result"
    }
   ],
   "source": [
    "dataset = pd.read_csv('result1.csv')\n",
    "dataset"
   ],
   "metadata": {
    "collapsed": false,
    "ExecuteTime": {
     "end_time": "2024-05-10T13:21:39.433984Z",
     "start_time": "2024-05-10T13:21:39.416716Z"
    }
   },
   "id": "28381d93b8414c10"
  },
  {
   "cell_type": "code",
   "execution_count": 3,
   "outputs": [
    {
     "name": "stdout",
     "output_type": "stream",
     "text": [
      "<class 'pandas.core.frame.DataFrame'>\n",
      "RangeIndex: 180 entries, 0 to 179\n",
      "Data columns (total 5 columns):\n",
      " #   Column     Non-Null Count  Dtype  \n",
      "---  ------     --------------  -----  \n",
      " 0   Name_File  180 non-null    object \n",
      " 1   Name_Evr   180 non-null    object \n",
      " 2   Name_Ens   180 non-null    object \n",
      " 3   Time       180 non-null    float64\n",
      " 4   PSNR       180 non-null    float64\n",
      "dtypes: float64(2), object(3)\n",
      "memory usage: 7.2+ KB\n"
     ]
    }
   ],
   "source": [
    "dataset.info()"
   ],
   "metadata": {
    "collapsed": false,
    "ExecuteTime": {
     "end_time": "2024-05-10T13:21:41.228754Z",
     "start_time": "2024-05-10T13:21:41.210878Z"
    }
   },
   "id": "c8384891f7fe1161"
  },
  {
   "cell_type": "code",
   "execution_count": 5,
   "outputs": [
    {
     "name": "stdout",
     "output_type": "stream",
     "text": [
      "Files: ['area.png' 'boat.png' 'stream_and_bridge.png' 'airplane.png'\n",
      " 'goldhill.png' 'yacht.png' 'peppers.png' 'btr.png' 'baboon.png'] \n",
      "\n",
      "Name_Evr: ['DE' 'PSO' 'HHO' 'FBIO' 'GBO' 'IWO' 'ABC' 'BBO' 'CA' 'ACO']\n"
     ]
    }
   ],
   "source": [
    "print('Files:', pd.unique(dataset['Name_File']), '\\n')\n",
    "print('Name_Evr:', pd.unique(dataset['Name_Evr']))"
   ],
   "metadata": {
    "collapsed": false,
    "ExecuteTime": {
     "end_time": "2024-05-10T13:22:35.663374Z",
     "start_time": "2024-05-10T13:22:35.658832Z"
    }
   },
   "id": "1124a5ff93debe18"
  },
  {
   "cell_type": "code",
   "execution_count": 16,
   "outputs": [
    {
     "name": "stderr",
     "output_type": "stream",
     "text": [
      "/var/folders/1j/287nr9g51b128plm6r3b3dsh0000gn/T/ipykernel_8760/3008113021.py:1: FutureWarning: The default value of numeric_only in DataFrame.mean is deprecated. In a future version, it will default to False. In addition, specifying 'numeric_only=None' is deprecated. Select only valid columns or specify the value of numeric_only to silence this warning.\n",
      "  dataset.mean()\n"
     ]
    },
    {
     "data": {
      "text/plain": "Time    65.051849\nPSNR    44.640940\ndtype: float64"
     },
     "execution_count": 16,
     "metadata": {},
     "output_type": "execute_result"
    }
   ],
   "source": [
    "dataset.mean()"
   ],
   "metadata": {
    "collapsed": false,
    "ExecuteTime": {
     "end_time": "2024-05-11T21:55:19.892481Z",
     "start_time": "2024-05-11T21:55:19.872253Z"
    }
   },
   "id": "6a9c35812f1a2bf2"
  },
  {
   "cell_type": "code",
   "execution_count": 6,
   "outputs": [],
   "source": [
    "IWO = dataset[(dataset['Name_Evr'] == 'IWO')]\n",
    "HHO = dataset[(dataset['Name_Evr'] == 'HHO')]\n",
    "ABC = dataset[(dataset['Name_Evr'] == 'ABC')]\n",
    "ACO = dataset[(dataset['Name_Evr'] == 'ACO')]\n",
    "BBO = dataset[(dataset['Name_Evr'] == 'BBO')]\n",
    "CA = dataset[(dataset['Name_Evr'] == 'CA')]\n",
    "DE = dataset[(dataset['Name_Evr'] == 'DE')]\n",
    "PSO = dataset[(dataset['Name_Evr'] == 'PSO')]\n",
    "FBIO = dataset[(dataset['Name_Evr'] == 'FBIO')]\n",
    "GBO = dataset[(dataset['Name_Evr'] == 'GBO')]"
   ],
   "metadata": {
    "collapsed": false,
    "ExecuteTime": {
     "end_time": "2024-05-10T13:24:32.174144Z",
     "start_time": "2024-05-10T13:24:32.152802Z"
    }
   },
   "id": "1a682cf61a150e3f"
  },
  {
   "cell_type": "code",
   "execution_count": 9,
   "outputs": [
    {
     "name": "stderr",
     "output_type": "stream",
     "text": [
      "/var/folders/1j/287nr9g51b128plm6r3b3dsh0000gn/T/ipykernel_8760/2472392906.py:1: FutureWarning: The default value of numeric_only in DataFrameGroupBy.mean is deprecated. In a future version, numeric_only will default to False. Either specify numeric_only or select only columns which should be valid for the function.\n",
      "  dataset.groupby(['Name_File']).mean()\n"
     ]
    },
    {
     "data": {
      "text/plain": "                            Time       PSNR\nName_File                                  \nairplane.png           65.414506  50.755772\narea.png               63.660567  30.504880\nbaboon.png             65.080784  40.654752\nboat.png               65.343530  53.011975\nbtr.png                65.443938  45.337861\ngoldhill.png           65.722928  41.914787\npeppers.png            65.367981  50.419645\nstream_and_bridge.png  64.554508  41.808877\nyacht.png              64.877900  47.359908",
      "text/html": "<div>\n<style scoped>\n    .dataframe tbody tr th:only-of-type {\n        vertical-align: middle;\n    }\n\n    .dataframe tbody tr th {\n        vertical-align: top;\n    }\n\n    .dataframe thead th {\n        text-align: right;\n    }\n</style>\n<table border=\"1\" class=\"dataframe\">\n  <thead>\n    <tr style=\"text-align: right;\">\n      <th></th>\n      <th>Time</th>\n      <th>PSNR</th>\n    </tr>\n    <tr>\n      <th>Name_File</th>\n      <th></th>\n      <th></th>\n    </tr>\n  </thead>\n  <tbody>\n    <tr>\n      <th>airplane.png</th>\n      <td>65.414506</td>\n      <td>50.755772</td>\n    </tr>\n    <tr>\n      <th>area.png</th>\n      <td>63.660567</td>\n      <td>30.504880</td>\n    </tr>\n    <tr>\n      <th>baboon.png</th>\n      <td>65.080784</td>\n      <td>40.654752</td>\n    </tr>\n    <tr>\n      <th>boat.png</th>\n      <td>65.343530</td>\n      <td>53.011975</td>\n    </tr>\n    <tr>\n      <th>btr.png</th>\n      <td>65.443938</td>\n      <td>45.337861</td>\n    </tr>\n    <tr>\n      <th>goldhill.png</th>\n      <td>65.722928</td>\n      <td>41.914787</td>\n    </tr>\n    <tr>\n      <th>peppers.png</th>\n      <td>65.367981</td>\n      <td>50.419645</td>\n    </tr>\n    <tr>\n      <th>stream_and_bridge.png</th>\n      <td>64.554508</td>\n      <td>41.808877</td>\n    </tr>\n    <tr>\n      <th>yacht.png</th>\n      <td>64.877900</td>\n      <td>47.359908</td>\n    </tr>\n  </tbody>\n</table>\n</div>"
     },
     "execution_count": 9,
     "metadata": {},
     "output_type": "execute_result"
    }
   ],
   "source": [
    "dataset.groupby(['Name_File']).mean()"
   ],
   "metadata": {
    "collapsed": false,
    "ExecuteTime": {
     "end_time": "2024-05-10T13:29:02.300514Z",
     "start_time": "2024-05-10T13:29:02.281539Z"
    }
   },
   "id": "879a7c275cb586a8"
  },
  {
   "cell_type": "code",
   "execution_count": 10,
   "outputs": [
    {
     "name": "stderr",
     "output_type": "stream",
     "text": [
      "/var/folders/1j/287nr9g51b128plm6r3b3dsh0000gn/T/ipykernel_8760/3380517968.py:1: FutureWarning: The default value of numeric_only in DataFrameGroupBy.mean is deprecated. In a future version, numeric_only will default to False. Either specify numeric_only or select only columns which should be valid for the function.\n",
      "  dataset.groupby(['Name_Evr']).mean()\n"
     ]
    },
    {
     "data": {
      "text/plain": "                Time       PSNR\nName_Evr                       \nABC        83.902081  43.477532\nACO       120.408293  43.380172\nBBO        37.652026  45.482878\nCA         26.878764  44.966626\nDE         27.626507  45.610387\nFBIO      121.613509  44.238382\nGBO        52.271198  43.810252\nHHO        28.754723  45.746120\nIWO       115.745211  45.566621\nPSO        35.666179  44.130425",
      "text/html": "<div>\n<style scoped>\n    .dataframe tbody tr th:only-of-type {\n        vertical-align: middle;\n    }\n\n    .dataframe tbody tr th {\n        vertical-align: top;\n    }\n\n    .dataframe thead th {\n        text-align: right;\n    }\n</style>\n<table border=\"1\" class=\"dataframe\">\n  <thead>\n    <tr style=\"text-align: right;\">\n      <th></th>\n      <th>Time</th>\n      <th>PSNR</th>\n    </tr>\n    <tr>\n      <th>Name_Evr</th>\n      <th></th>\n      <th></th>\n    </tr>\n  </thead>\n  <tbody>\n    <tr>\n      <th>ABC</th>\n      <td>83.902081</td>\n      <td>43.477532</td>\n    </tr>\n    <tr>\n      <th>ACO</th>\n      <td>120.408293</td>\n      <td>43.380172</td>\n    </tr>\n    <tr>\n      <th>BBO</th>\n      <td>37.652026</td>\n      <td>45.482878</td>\n    </tr>\n    <tr>\n      <th>CA</th>\n      <td>26.878764</td>\n      <td>44.966626</td>\n    </tr>\n    <tr>\n      <th>DE</th>\n      <td>27.626507</td>\n      <td>45.610387</td>\n    </tr>\n    <tr>\n      <th>FBIO</th>\n      <td>121.613509</td>\n      <td>44.238382</td>\n    </tr>\n    <tr>\n      <th>GBO</th>\n      <td>52.271198</td>\n      <td>43.810252</td>\n    </tr>\n    <tr>\n      <th>HHO</th>\n      <td>28.754723</td>\n      <td>45.746120</td>\n    </tr>\n    <tr>\n      <th>IWO</th>\n      <td>115.745211</td>\n      <td>45.566621</td>\n    </tr>\n    <tr>\n      <th>PSO</th>\n      <td>35.666179</td>\n      <td>44.130425</td>\n    </tr>\n  </tbody>\n</table>\n</div>"
     },
     "execution_count": 10,
     "metadata": {},
     "output_type": "execute_result"
    }
   ],
   "source": [
    "dataset.groupby(['Name_Evr']).mean()"
   ],
   "metadata": {
    "collapsed": false,
    "ExecuteTime": {
     "end_time": "2024-05-10T13:29:30.239855Z",
     "start_time": "2024-05-10T13:29:30.232706Z"
    }
   },
   "id": "da96c3f8f7abbb72"
  },
  {
   "cell_type": "code",
   "execution_count": null,
   "outputs": [],
   "source": [],
   "metadata": {
    "collapsed": false
   },
   "id": "d458bb0d309983ee"
  }
 ],
 "metadata": {
  "kernelspec": {
   "display_name": "Python 3",
   "language": "python",
   "name": "python3"
  },
  "language_info": {
   "codemirror_mode": {
    "name": "ipython",
    "version": 2
   },
   "file_extension": ".py",
   "mimetype": "text/x-python",
   "name": "python",
   "nbconvert_exporter": "python",
   "pygments_lexer": "ipython2",
   "version": "2.7.6"
  }
 },
 "nbformat": 4,
 "nbformat_minor": 5
}

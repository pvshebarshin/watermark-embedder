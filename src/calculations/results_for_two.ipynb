{
 "cells": [
  {
   "cell_type": "code",
   "execution_count": 26,
   "id": "initial_id",
   "metadata": {
    "collapsed": true,
    "ExecuteTime": {
     "end_time": "2024-05-11T21:01:37.676927Z",
     "start_time": "2024-05-11T21:01:37.571449Z"
    }
   },
   "outputs": [],
   "source": [
    "import pandas as pd\n",
    "import numpy as np\n",
    "import matplotlib.pyplot as plt\n",
    "import docx\n",
    "%matplotlib inline"
   ]
  },
  {
   "cell_type": "code",
   "execution_count": 2,
   "outputs": [
    {
     "data": {
      "text/plain": "       Name_File Name_Evr                          Name_Ens       Time  \\\n0       area.png   DE_PSO  MetaheuristicEnsembleAlternation  35.449798   \n1       area.png   DE_HHO  MetaheuristicEnsembleAlternation  32.966217   \n2       area.png  DE_FBIO  MetaheuristicEnsembleAlternation  78.138278   \n3       area.png   DE_GBO  MetaheuristicEnsembleAlternation  40.930869   \n4       area.png   DE_IWO  MetaheuristicEnsembleAlternation  80.439326   \n...          ...      ...                               ...        ...   \n2425  baboon.png   ABC_CA        MetaheuristicEnsembleLearn  45.642544   \n2426  baboon.png  ABC_ACO        MetaheuristicEnsembleLearn  79.906270   \n2427  baboon.png   BBO_CA        MetaheuristicEnsembleLearn  32.255510   \n2428  baboon.png  BBO_ACO        MetaheuristicEnsembleLearn  58.853055   \n2429  baboon.png   CA_ACO        MetaheuristicEnsembleLearn  57.444319   \n\n           PSNR  \n0     30.426402  \n1     30.903838  \n2     31.117615  \n3     30.121071  \n4     30.122189  \n...         ...  \n2425  40.404332  \n2426  40.081768  \n2427  41.812548  \n2428  39.528587  \n2429  40.452135  \n\n[2430 rows x 5 columns]",
      "text/html": "<div>\n<style scoped>\n    .dataframe tbody tr th:only-of-type {\n        vertical-align: middle;\n    }\n\n    .dataframe tbody tr th {\n        vertical-align: top;\n    }\n\n    .dataframe thead th {\n        text-align: right;\n    }\n</style>\n<table border=\"1\" class=\"dataframe\">\n  <thead>\n    <tr style=\"text-align: right;\">\n      <th></th>\n      <th>Name_File</th>\n      <th>Name_Evr</th>\n      <th>Name_Ens</th>\n      <th>Time</th>\n      <th>PSNR</th>\n    </tr>\n  </thead>\n  <tbody>\n    <tr>\n      <th>0</th>\n      <td>area.png</td>\n      <td>DE_PSO</td>\n      <td>MetaheuristicEnsembleAlternation</td>\n      <td>35.449798</td>\n      <td>30.426402</td>\n    </tr>\n    <tr>\n      <th>1</th>\n      <td>area.png</td>\n      <td>DE_HHO</td>\n      <td>MetaheuristicEnsembleAlternation</td>\n      <td>32.966217</td>\n      <td>30.903838</td>\n    </tr>\n    <tr>\n      <th>2</th>\n      <td>area.png</td>\n      <td>DE_FBIO</td>\n      <td>MetaheuristicEnsembleAlternation</td>\n      <td>78.138278</td>\n      <td>31.117615</td>\n    </tr>\n    <tr>\n      <th>3</th>\n      <td>area.png</td>\n      <td>DE_GBO</td>\n      <td>MetaheuristicEnsembleAlternation</td>\n      <td>40.930869</td>\n      <td>30.121071</td>\n    </tr>\n    <tr>\n      <th>4</th>\n      <td>area.png</td>\n      <td>DE_IWO</td>\n      <td>MetaheuristicEnsembleAlternation</td>\n      <td>80.439326</td>\n      <td>30.122189</td>\n    </tr>\n    <tr>\n      <th>...</th>\n      <td>...</td>\n      <td>...</td>\n      <td>...</td>\n      <td>...</td>\n      <td>...</td>\n    </tr>\n    <tr>\n      <th>2425</th>\n      <td>baboon.png</td>\n      <td>ABC_CA</td>\n      <td>MetaheuristicEnsembleLearn</td>\n      <td>45.642544</td>\n      <td>40.404332</td>\n    </tr>\n    <tr>\n      <th>2426</th>\n      <td>baboon.png</td>\n      <td>ABC_ACO</td>\n      <td>MetaheuristicEnsembleLearn</td>\n      <td>79.906270</td>\n      <td>40.081768</td>\n    </tr>\n    <tr>\n      <th>2427</th>\n      <td>baboon.png</td>\n      <td>BBO_CA</td>\n      <td>MetaheuristicEnsembleLearn</td>\n      <td>32.255510</td>\n      <td>41.812548</td>\n    </tr>\n    <tr>\n      <th>2428</th>\n      <td>baboon.png</td>\n      <td>BBO_ACO</td>\n      <td>MetaheuristicEnsembleLearn</td>\n      <td>58.853055</td>\n      <td>39.528587</td>\n    </tr>\n    <tr>\n      <th>2429</th>\n      <td>baboon.png</td>\n      <td>CA_ACO</td>\n      <td>MetaheuristicEnsembleLearn</td>\n      <td>57.444319</td>\n      <td>40.452135</td>\n    </tr>\n  </tbody>\n</table>\n<p>2430 rows × 5 columns</p>\n</div>"
     },
     "execution_count": 2,
     "metadata": {},
     "output_type": "execute_result"
    }
   ],
   "source": [
    "dataset = pd.read_csv('result2.csv')\n",
    "dataset"
   ],
   "metadata": {
    "collapsed": false,
    "ExecuteTime": {
     "end_time": "2024-05-10T13:40:26.774020Z",
     "start_time": "2024-05-10T13:40:26.762730Z"
    }
   },
   "id": "2922ec078781dcf7"
  },
  {
   "cell_type": "code",
   "execution_count": 3,
   "outputs": [
    {
     "name": "stdout",
     "output_type": "stream",
     "text": [
      "<class 'pandas.core.frame.DataFrame'>\n",
      "RangeIndex: 2430 entries, 0 to 2429\n",
      "Data columns (total 5 columns):\n",
      " #   Column     Non-Null Count  Dtype  \n",
      "---  ------     --------------  -----  \n",
      " 0   Name_File  2430 non-null   object \n",
      " 1   Name_Evr   2430 non-null   object \n",
      " 2   Name_Ens   2430 non-null   object \n",
      " 3   Time       2430 non-null   float64\n",
      " 4   PSNR       2430 non-null   float64\n",
      "dtypes: float64(2), object(3)\n",
      "memory usage: 95.1+ KB\n"
     ]
    }
   ],
   "source": [
    "dataset.info()"
   ],
   "metadata": {
    "collapsed": false,
    "ExecuteTime": {
     "end_time": "2024-05-10T13:40:26.778555Z",
     "start_time": "2024-05-10T13:40:26.772061Z"
    }
   },
   "id": "4e0ff37401657cd6"
  },
  {
   "cell_type": "code",
   "execution_count": 4,
   "outputs": [
    {
     "name": "stdout",
     "output_type": "stream",
     "text": [
      "Files: ['area.png' 'boat.png' 'stream_and_bridge.png' 'airplane.png'\n",
      " 'goldhill.png' 'yacht.png' 'peppers.png' 'btr.png' 'baboon.png'] \n",
      "\n",
      "Ensembles: ['MetaheuristicEnsembleAlternation' 'MetaheuristicEnsembleAvg'\n",
      " 'MetaheuristicEnsembleLearn']\n"
     ]
    }
   ],
   "source": [
    "print('Files:', pd.unique(dataset['Name_File']), '\\n')\n",
    "print('Ensembles:', pd.unique(dataset['Name_Ens']))"
   ],
   "metadata": {
    "collapsed": false,
    "ExecuteTime": {
     "end_time": "2024-05-10T13:40:26.778703Z",
     "start_time": "2024-05-10T13:40:26.776768Z"
    }
   },
   "id": "221aed473b9a1a7"
  },
  {
   "cell_type": "code",
   "execution_count": 9,
   "outputs": [
    {
     "name": "stderr",
     "output_type": "stream",
     "text": [
      "/var/folders/1j/287nr9g51b128plm6r3b3dsh0000gn/T/ipykernel_8964/2472392906.py:1: FutureWarning: The default value of numeric_only in DataFrameGroupBy.mean is deprecated. In a future version, numeric_only will default to False. Either specify numeric_only or select only columns which should be valid for the function.\n",
      "  dataset.groupby(['Name_File']).mean()\n"
     ]
    },
    {
     "data": {
      "text/plain": "                            Time       PSNR\nName_File                                  \nairplane.png           71.091330  50.760873\narea.png               70.017753  30.482820\nbaboon.png             70.632312  40.312903\nboat.png               70.458677  52.972079\nbtr.png                70.919913  45.572439\ngoldhill.png           71.687181  41.785504\npeppers.png            71.039602  50.420605\nstream_and_bridge.png  70.021786  41.773400\nyacht.png              71.230766  47.378955",
      "text/html": "<div>\n<style scoped>\n    .dataframe tbody tr th:only-of-type {\n        vertical-align: middle;\n    }\n\n    .dataframe tbody tr th {\n        vertical-align: top;\n    }\n\n    .dataframe thead th {\n        text-align: right;\n    }\n</style>\n<table border=\"1\" class=\"dataframe\">\n  <thead>\n    <tr style=\"text-align: right;\">\n      <th></th>\n      <th>Time</th>\n      <th>PSNR</th>\n    </tr>\n    <tr>\n      <th>Name_File</th>\n      <th></th>\n      <th></th>\n    </tr>\n  </thead>\n  <tbody>\n    <tr>\n      <th>airplane.png</th>\n      <td>71.091330</td>\n      <td>50.760873</td>\n    </tr>\n    <tr>\n      <th>area.png</th>\n      <td>70.017753</td>\n      <td>30.482820</td>\n    </tr>\n    <tr>\n      <th>baboon.png</th>\n      <td>70.632312</td>\n      <td>40.312903</td>\n    </tr>\n    <tr>\n      <th>boat.png</th>\n      <td>70.458677</td>\n      <td>52.972079</td>\n    </tr>\n    <tr>\n      <th>btr.png</th>\n      <td>70.919913</td>\n      <td>45.572439</td>\n    </tr>\n    <tr>\n      <th>goldhill.png</th>\n      <td>71.687181</td>\n      <td>41.785504</td>\n    </tr>\n    <tr>\n      <th>peppers.png</th>\n      <td>71.039602</td>\n      <td>50.420605</td>\n    </tr>\n    <tr>\n      <th>stream_and_bridge.png</th>\n      <td>70.021786</td>\n      <td>41.773400</td>\n    </tr>\n    <tr>\n      <th>yacht.png</th>\n      <td>71.230766</td>\n      <td>47.378955</td>\n    </tr>\n  </tbody>\n</table>\n</div>"
     },
     "execution_count": 9,
     "metadata": {},
     "output_type": "execute_result"
    }
   ],
   "source": [
    "dataset.groupby(['Name_File']).mean()"
   ],
   "metadata": {
    "collapsed": false,
    "ExecuteTime": {
     "end_time": "2024-05-10T13:44:43.328699Z",
     "start_time": "2024-05-10T13:44:43.319236Z"
    }
   },
   "id": "e32e0bc8d27a3c67"
  },
  {
   "cell_type": "code",
   "execution_count": 5,
   "outputs": [],
   "source": [
    "ens_avg = dataset[(dataset['Name_Ens'] == 'MetaheuristicEnsembleAvg')]\n",
    "ens_learn = dataset[(dataset['Name_Ens'] == 'MetaheuristicEnsembleLearn')]\n",
    "ens_alt = dataset[(dataset['Name_Ens'] == 'MetaheuristicEnsembleAlternation')]"
   ],
   "metadata": {
    "collapsed": false,
    "ExecuteTime": {
     "end_time": "2024-05-10T13:40:47.487864Z",
     "start_time": "2024-05-10T13:40:47.483219Z"
    }
   },
   "id": "f52b4a13f146ad7e"
  },
  {
   "cell_type": "code",
   "execution_count": 6,
   "outputs": [
    {
     "name": "stderr",
     "output_type": "stream",
     "text": [
      "/var/folders/1j/287nr9g51b128plm6r3b3dsh0000gn/T/ipykernel_8964/1910925870.py:1: FutureWarning: The default value of numeric_only in DataFrameGroupBy.mean is deprecated. In a future version, numeric_only will default to False. Either specify numeric_only or select only columns which should be valid for the function.\n",
      "  ens_avg.groupby(['Name_File']).mean()\n"
     ]
    },
    {
     "data": {
      "text/plain": "                            Time       PSNR\nName_File                                  \nairplane.png           90.481985  50.102718\narea.png               90.220553  30.406976\nbaboon.png             90.464111  39.700412\nboat.png               88.909915  52.429375\nbtr.png                90.659623  45.118526\ngoldhill.png           91.038259  41.621535\npeppers.png            90.012142  49.453424\nstream_and_bridge.png  89.293065  41.208314\nyacht.png              91.076103  46.307746",
      "text/html": "<div>\n<style scoped>\n    .dataframe tbody tr th:only-of-type {\n        vertical-align: middle;\n    }\n\n    .dataframe tbody tr th {\n        vertical-align: top;\n    }\n\n    .dataframe thead th {\n        text-align: right;\n    }\n</style>\n<table border=\"1\" class=\"dataframe\">\n  <thead>\n    <tr style=\"text-align: right;\">\n      <th></th>\n      <th>Time</th>\n      <th>PSNR</th>\n    </tr>\n    <tr>\n      <th>Name_File</th>\n      <th></th>\n      <th></th>\n    </tr>\n  </thead>\n  <tbody>\n    <tr>\n      <th>airplane.png</th>\n      <td>90.481985</td>\n      <td>50.102718</td>\n    </tr>\n    <tr>\n      <th>area.png</th>\n      <td>90.220553</td>\n      <td>30.406976</td>\n    </tr>\n    <tr>\n      <th>baboon.png</th>\n      <td>90.464111</td>\n      <td>39.700412</td>\n    </tr>\n    <tr>\n      <th>boat.png</th>\n      <td>88.909915</td>\n      <td>52.429375</td>\n    </tr>\n    <tr>\n      <th>btr.png</th>\n      <td>90.659623</td>\n      <td>45.118526</td>\n    </tr>\n    <tr>\n      <th>goldhill.png</th>\n      <td>91.038259</td>\n      <td>41.621535</td>\n    </tr>\n    <tr>\n      <th>peppers.png</th>\n      <td>90.012142</td>\n      <td>49.453424</td>\n    </tr>\n    <tr>\n      <th>stream_and_bridge.png</th>\n      <td>89.293065</td>\n      <td>41.208314</td>\n    </tr>\n    <tr>\n      <th>yacht.png</th>\n      <td>91.076103</td>\n      <td>46.307746</td>\n    </tr>\n  </tbody>\n</table>\n</div>"
     },
     "execution_count": 6,
     "metadata": {},
     "output_type": "execute_result"
    }
   ],
   "source": [
    "ens_avg.groupby(['Name_File']).mean()"
   ],
   "metadata": {
    "collapsed": false,
    "ExecuteTime": {
     "end_time": "2024-05-10T13:41:18.117828Z",
     "start_time": "2024-05-10T13:41:18.099889Z"
    }
   },
   "id": "710696838fbdb758"
  },
  {
   "cell_type": "code",
   "execution_count": 32,
   "outputs": [
    {
     "name": "stderr",
     "output_type": "stream",
     "text": [
      "/var/folders/1j/287nr9g51b128plm6r3b3dsh0000gn/T/ipykernel_8964/1821589737.py:1: FutureWarning: The default value of numeric_only in DataFrameGroupBy.mean is deprecated. In a future version, numeric_only will default to False. Either specify numeric_only or select only columns which should be valid for the function.\n",
      "  ens_learn.groupby(['Name_File']).mean()\n"
     ]
    },
    {
     "data": {
      "text/plain": "                            Time       PSNR\nName_File                                  \nairplane.png           57.554813  51.190781\narea.png               56.546631  30.531588\nbaboon.png             57.087721  40.784190\nboat.png               57.530232  53.419700\nbtr.png                57.587699  45.901446\ngoldhill.png           58.356310  41.840274\npeppers.png            58.182254  51.092136\nstream_and_bridge.png  56.940059  42.136825\nyacht.png              57.986029  48.078214",
      "text/html": "<div>\n<style scoped>\n    .dataframe tbody tr th:only-of-type {\n        vertical-align: middle;\n    }\n\n    .dataframe tbody tr th {\n        vertical-align: top;\n    }\n\n    .dataframe thead th {\n        text-align: right;\n    }\n</style>\n<table border=\"1\" class=\"dataframe\">\n  <thead>\n    <tr style=\"text-align: right;\">\n      <th></th>\n      <th>Time</th>\n      <th>PSNR</th>\n    </tr>\n    <tr>\n      <th>Name_File</th>\n      <th></th>\n      <th></th>\n    </tr>\n  </thead>\n  <tbody>\n    <tr>\n      <th>airplane.png</th>\n      <td>57.554813</td>\n      <td>51.190781</td>\n    </tr>\n    <tr>\n      <th>area.png</th>\n      <td>56.546631</td>\n      <td>30.531588</td>\n    </tr>\n    <tr>\n      <th>baboon.png</th>\n      <td>57.087721</td>\n      <td>40.784190</td>\n    </tr>\n    <tr>\n      <th>boat.png</th>\n      <td>57.530232</td>\n      <td>53.419700</td>\n    </tr>\n    <tr>\n      <th>btr.png</th>\n      <td>57.587699</td>\n      <td>45.901446</td>\n    </tr>\n    <tr>\n      <th>goldhill.png</th>\n      <td>58.356310</td>\n      <td>41.840274</td>\n    </tr>\n    <tr>\n      <th>peppers.png</th>\n      <td>58.182254</td>\n      <td>51.092136</td>\n    </tr>\n    <tr>\n      <th>stream_and_bridge.png</th>\n      <td>56.940059</td>\n      <td>42.136825</td>\n    </tr>\n    <tr>\n      <th>yacht.png</th>\n      <td>57.986029</td>\n      <td>48.078214</td>\n    </tr>\n  </tbody>\n</table>\n</div>"
     },
     "execution_count": 32,
     "metadata": {},
     "output_type": "execute_result"
    }
   ],
   "source": [
    "ens_learn.groupby(['Name_File']).mean()"
   ],
   "metadata": {
    "collapsed": false,
    "ExecuteTime": {
     "end_time": "2024-05-11T21:04:17.884017Z",
     "start_time": "2024-05-11T21:04:17.845363Z"
    }
   },
   "id": "6ecc75ca188151b3"
  },
  {
   "cell_type": "code",
   "execution_count": 8,
   "outputs": [
    {
     "name": "stderr",
     "output_type": "stream",
     "text": [
      "/var/folders/1j/287nr9g51b128plm6r3b3dsh0000gn/T/ipykernel_8964/235152563.py:1: FutureWarning: The default value of numeric_only in DataFrameGroupBy.mean is deprecated. In a future version, numeric_only will default to False. Either specify numeric_only or select only columns which should be valid for the function.\n",
      "  ens_alt.groupby(['Name_File']).mean()\n"
     ]
    },
    {
     "data": {
      "text/plain": "                            Time       PSNR\nName_File                                  \nairplane.png           65.237192  50.989122\narea.png               63.286075  30.509896\nbaboon.png             64.345103  40.454107\nboat.png               64.935884  53.067163\nbtr.png                64.512416  45.697346\ngoldhill.png           65.666974  41.894702\npeppers.png            64.924410  50.716255\nstream_and_bridge.png  63.832233  41.975062\nyacht.png              64.630166  47.750904",
      "text/html": "<div>\n<style scoped>\n    .dataframe tbody tr th:only-of-type {\n        vertical-align: middle;\n    }\n\n    .dataframe tbody tr th {\n        vertical-align: top;\n    }\n\n    .dataframe thead th {\n        text-align: right;\n    }\n</style>\n<table border=\"1\" class=\"dataframe\">\n  <thead>\n    <tr style=\"text-align: right;\">\n      <th></th>\n      <th>Time</th>\n      <th>PSNR</th>\n    </tr>\n    <tr>\n      <th>Name_File</th>\n      <th></th>\n      <th></th>\n    </tr>\n  </thead>\n  <tbody>\n    <tr>\n      <th>airplane.png</th>\n      <td>65.237192</td>\n      <td>50.989122</td>\n    </tr>\n    <tr>\n      <th>area.png</th>\n      <td>63.286075</td>\n      <td>30.509896</td>\n    </tr>\n    <tr>\n      <th>baboon.png</th>\n      <td>64.345103</td>\n      <td>40.454107</td>\n    </tr>\n    <tr>\n      <th>boat.png</th>\n      <td>64.935884</td>\n      <td>53.067163</td>\n    </tr>\n    <tr>\n      <th>btr.png</th>\n      <td>64.512416</td>\n      <td>45.697346</td>\n    </tr>\n    <tr>\n      <th>goldhill.png</th>\n      <td>65.666974</td>\n      <td>41.894702</td>\n    </tr>\n    <tr>\n      <th>peppers.png</th>\n      <td>64.924410</td>\n      <td>50.716255</td>\n    </tr>\n    <tr>\n      <th>stream_and_bridge.png</th>\n      <td>63.832233</td>\n      <td>41.975062</td>\n    </tr>\n    <tr>\n      <th>yacht.png</th>\n      <td>64.630166</td>\n      <td>47.750904</td>\n    </tr>\n  </tbody>\n</table>\n</div>"
     },
     "execution_count": 8,
     "metadata": {},
     "output_type": "execute_result"
    }
   ],
   "source": [
    "ens_alt.groupby(['Name_File']).mean()"
   ],
   "metadata": {
    "collapsed": false,
    "ExecuteTime": {
     "end_time": "2024-05-10T13:41:51.318389Z",
     "start_time": "2024-05-10T13:41:51.311852Z"
    }
   },
   "id": "e447bcda095e7092"
  },
  {
   "cell_type": "code",
   "execution_count": 37,
   "outputs": [
    {
     "name": "stderr",
     "output_type": "stream",
     "text": [
      "/var/folders/1j/287nr9g51b128plm6r3b3dsh0000gn/T/ipykernel_8964/4222670833.py:1: FutureWarning: The default value of numeric_only in DataFrameGroupBy.mean is deprecated. In a future version, numeric_only will default to False. Either specify numeric_only or select only columns which should be valid for the function.\n",
      "  dataset.groupby('Name_Ens').mean()\n"
     ]
    },
    {
     "data": {
      "text/plain": "                                       Time       PSNR\nName_Ens                                              \nMetaheuristicEnsembleAlternation  64.596717  44.783840\nMetaheuristicEnsembleAvg          90.239528  44.038781\nMetaheuristicEnsembleLearn        57.530194  44.997239",
      "text/html": "<div>\n<style scoped>\n    .dataframe tbody tr th:only-of-type {\n        vertical-align: middle;\n    }\n\n    .dataframe tbody tr th {\n        vertical-align: top;\n    }\n\n    .dataframe thead th {\n        text-align: right;\n    }\n</style>\n<table border=\"1\" class=\"dataframe\">\n  <thead>\n    <tr style=\"text-align: right;\">\n      <th></th>\n      <th>Time</th>\n      <th>PSNR</th>\n    </tr>\n    <tr>\n      <th>Name_Ens</th>\n      <th></th>\n      <th></th>\n    </tr>\n  </thead>\n  <tbody>\n    <tr>\n      <th>MetaheuristicEnsembleAlternation</th>\n      <td>64.596717</td>\n      <td>44.783840</td>\n    </tr>\n    <tr>\n      <th>MetaheuristicEnsembleAvg</th>\n      <td>90.239528</td>\n      <td>44.038781</td>\n    </tr>\n    <tr>\n      <th>MetaheuristicEnsembleLearn</th>\n      <td>57.530194</td>\n      <td>44.997239</td>\n    </tr>\n  </tbody>\n</table>\n</div>"
     },
     "execution_count": 37,
     "metadata": {},
     "output_type": "execute_result"
    }
   ],
   "source": [
    "dataset.groupby('Name_Ens').mean()"
   ],
   "metadata": {
    "collapsed": false,
    "ExecuteTime": {
     "end_time": "2024-05-11T21:53:45.404481Z",
     "start_time": "2024-05-11T21:53:45.364056Z"
    }
   },
   "id": "2c4218300aa7827b"
  },
  {
   "cell_type": "markdown",
   "source": [
    "### MetaheuristicEnsembleAvg"
   ],
   "metadata": {
    "collapsed": false
   },
   "id": "a85eebc241ac0b4c"
  },
  {
   "cell_type": "code",
   "execution_count": 23,
   "outputs": [
    {
     "name": "stderr",
     "output_type": "stream",
     "text": [
      "/var/folders/1j/287nr9g51b128plm6r3b3dsh0000gn/T/ipykernel_8964/449826558.py:1: FutureWarning: The default value of numeric_only in DataFrameGroupBy.mean is deprecated. In a future version, numeric_only will default to False. Either specify numeric_only or select only columns which should be valid for the function.\n",
      "  ens_avg.groupby('Name_Evr').mean().sort_values(by=['PSNR'], ascending=False).head(7)\n"
     ]
    },
    {
     "data": {
      "text/plain": "               Time       PSNR\nName_Evr                      \nHHO_ACO   49.627640  45.872269\nDE_HHO    36.560454  45.843008\nPSO_HHO   36.361272  45.728327\nHHO_CA    37.755458  45.595492\nHHO_GBO   39.482915  45.455300\nPSO_IWO   90.890757  45.239267\nHHO_BBO   43.547258  45.182388",
      "text/html": "<div>\n<style scoped>\n    .dataframe tbody tr th:only-of-type {\n        vertical-align: middle;\n    }\n\n    .dataframe tbody tr th {\n        vertical-align: top;\n    }\n\n    .dataframe thead th {\n        text-align: right;\n    }\n</style>\n<table border=\"1\" class=\"dataframe\">\n  <thead>\n    <tr style=\"text-align: right;\">\n      <th></th>\n      <th>Time</th>\n      <th>PSNR</th>\n    </tr>\n    <tr>\n      <th>Name_Evr</th>\n      <th></th>\n      <th></th>\n    </tr>\n  </thead>\n  <tbody>\n    <tr>\n      <th>HHO_ACO</th>\n      <td>49.627640</td>\n      <td>45.872269</td>\n    </tr>\n    <tr>\n      <th>DE_HHO</th>\n      <td>36.560454</td>\n      <td>45.843008</td>\n    </tr>\n    <tr>\n      <th>PSO_HHO</th>\n      <td>36.361272</td>\n      <td>45.728327</td>\n    </tr>\n    <tr>\n      <th>HHO_CA</th>\n      <td>37.755458</td>\n      <td>45.595492</td>\n    </tr>\n    <tr>\n      <th>HHO_GBO</th>\n      <td>39.482915</td>\n      <td>45.455300</td>\n    </tr>\n    <tr>\n      <th>PSO_IWO</th>\n      <td>90.890757</td>\n      <td>45.239267</td>\n    </tr>\n    <tr>\n      <th>HHO_BBO</th>\n      <td>43.547258</td>\n      <td>45.182388</td>\n    </tr>\n  </tbody>\n</table>\n</div>"
     },
     "execution_count": 23,
     "metadata": {},
     "output_type": "execute_result"
    }
   ],
   "source": [
    "ens_avg.groupby('Name_Evr').mean().sort_values(by=['PSNR'], ascending=False).head(7)"
   ],
   "metadata": {
    "collapsed": false,
    "ExecuteTime": {
     "end_time": "2024-05-10T14:06:47.566429Z",
     "start_time": "2024-05-10T14:06:47.546092Z"
    }
   },
   "id": "badb56e29f9af625"
  },
  {
   "cell_type": "code",
   "execution_count": null,
   "outputs": [],
   "source": [],
   "metadata": {
    "collapsed": false
   },
   "id": "62ef88f437c4a53f"
  },
  {
   "cell_type": "markdown",
   "source": [
    "### MetaheuristicEnsembleLearn"
   ],
   "metadata": {
    "collapsed": false
   },
   "id": "82f9f863d032195f"
  },
  {
   "cell_type": "code",
   "execution_count": 24,
   "outputs": [
    {
     "name": "stderr",
     "output_type": "stream",
     "text": [
      "/var/folders/1j/287nr9g51b128plm6r3b3dsh0000gn/T/ipykernel_8964/677110584.py:1: FutureWarning: The default value of numeric_only in DataFrameGroupBy.mean is deprecated. In a future version, numeric_only will default to False. Either specify numeric_only or select only columns which should be valid for the function.\n",
      "  ens_learn.groupby('Name_Evr').mean().sort_values(by=['PSNR'], ascending=False).head(7)\n"
     ]
    },
    {
     "data": {
      "text/plain": "               Time       PSNR\nName_Evr                      \nDE_HHO    27.968348  46.098312\nPSO_HHO   32.988273  46.041714\nHHO_BBO   32.919339  46.034017\nHHO_ACO   45.749433  45.948778\nDE_BBO    32.680379  45.846387\nHHO_IWO   70.451190  45.841784\nHHO_CA    25.636623  45.491818",
      "text/html": "<div>\n<style scoped>\n    .dataframe tbody tr th:only-of-type {\n        vertical-align: middle;\n    }\n\n    .dataframe tbody tr th {\n        vertical-align: top;\n    }\n\n    .dataframe thead th {\n        text-align: right;\n    }\n</style>\n<table border=\"1\" class=\"dataframe\">\n  <thead>\n    <tr style=\"text-align: right;\">\n      <th></th>\n      <th>Time</th>\n      <th>PSNR</th>\n    </tr>\n    <tr>\n      <th>Name_Evr</th>\n      <th></th>\n      <th></th>\n    </tr>\n  </thead>\n  <tbody>\n    <tr>\n      <th>DE_HHO</th>\n      <td>27.968348</td>\n      <td>46.098312</td>\n    </tr>\n    <tr>\n      <th>PSO_HHO</th>\n      <td>32.988273</td>\n      <td>46.041714</td>\n    </tr>\n    <tr>\n      <th>HHO_BBO</th>\n      <td>32.919339</td>\n      <td>46.034017</td>\n    </tr>\n    <tr>\n      <th>HHO_ACO</th>\n      <td>45.749433</td>\n      <td>45.948778</td>\n    </tr>\n    <tr>\n      <th>DE_BBO</th>\n      <td>32.680379</td>\n      <td>45.846387</td>\n    </tr>\n    <tr>\n      <th>HHO_IWO</th>\n      <td>70.451190</td>\n      <td>45.841784</td>\n    </tr>\n    <tr>\n      <th>HHO_CA</th>\n      <td>25.636623</td>\n      <td>45.491818</td>\n    </tr>\n  </tbody>\n</table>\n</div>"
     },
     "execution_count": 24,
     "metadata": {},
     "output_type": "execute_result"
    }
   ],
   "source": [
    "ens_learn.groupby('Name_Evr').mean().sort_values(by=['PSNR'], ascending=False).head(7)"
   ],
   "metadata": {
    "collapsed": false,
    "ExecuteTime": {
     "end_time": "2024-05-10T14:07:42.251765Z",
     "start_time": "2024-05-10T14:07:42.246731Z"
    }
   },
   "id": "98d8c0f25f2222b8"
  },
  {
   "cell_type": "code",
   "execution_count": null,
   "outputs": [],
   "source": [],
   "metadata": {
    "collapsed": false
   },
   "id": "4a2b9e8ec3887cc9"
  },
  {
   "cell_type": "markdown",
   "source": [
    "### MetaheuristicEnsembleAlternation"
   ],
   "metadata": {
    "collapsed": false
   },
   "id": "cd9020086a0991b8"
  },
  {
   "cell_type": "code",
   "execution_count": 39,
   "outputs": [
    {
     "name": "stderr",
     "output_type": "stream",
     "text": [
      "/var/folders/1j/287nr9g51b128plm6r3b3dsh0000gn/T/ipykernel_8964/677110584.py:1: FutureWarning: The default value of numeric_only in DataFrameGroupBy.mean is deprecated. In a future version, numeric_only will default to False. Either specify numeric_only or select only columns which should be valid for the function.\n",
      "  ens_learn.groupby('Name_Evr').mean().sort_values(by=['PSNR'], ascending=False).head(7)\n"
     ]
    },
    {
     "data": {
      "text/plain": "               Time       PSNR\nName_Evr                      \nDE_HHO    27.968348  46.098312\nPSO_HHO   32.988273  46.041714\nHHO_BBO   32.919339  46.034017\nHHO_ACO   45.749433  45.948778\nDE_BBO    32.680379  45.846387\nHHO_IWO   70.451190  45.841784\nHHO_CA    25.636623  45.491818",
      "text/html": "<div>\n<style scoped>\n    .dataframe tbody tr th:only-of-type {\n        vertical-align: middle;\n    }\n\n    .dataframe tbody tr th {\n        vertical-align: top;\n    }\n\n    .dataframe thead th {\n        text-align: right;\n    }\n</style>\n<table border=\"1\" class=\"dataframe\">\n  <thead>\n    <tr style=\"text-align: right;\">\n      <th></th>\n      <th>Time</th>\n      <th>PSNR</th>\n    </tr>\n    <tr>\n      <th>Name_Evr</th>\n      <th></th>\n      <th></th>\n    </tr>\n  </thead>\n  <tbody>\n    <tr>\n      <th>DE_HHO</th>\n      <td>27.968348</td>\n      <td>46.098312</td>\n    </tr>\n    <tr>\n      <th>PSO_HHO</th>\n      <td>32.988273</td>\n      <td>46.041714</td>\n    </tr>\n    <tr>\n      <th>HHO_BBO</th>\n      <td>32.919339</td>\n      <td>46.034017</td>\n    </tr>\n    <tr>\n      <th>HHO_ACO</th>\n      <td>45.749433</td>\n      <td>45.948778</td>\n    </tr>\n    <tr>\n      <th>DE_BBO</th>\n      <td>32.680379</td>\n      <td>45.846387</td>\n    </tr>\n    <tr>\n      <th>HHO_IWO</th>\n      <td>70.451190</td>\n      <td>45.841784</td>\n    </tr>\n    <tr>\n      <th>HHO_CA</th>\n      <td>25.636623</td>\n      <td>45.491818</td>\n    </tr>\n  </tbody>\n</table>\n</div>"
     },
     "execution_count": 39,
     "metadata": {},
     "output_type": "execute_result"
    }
   ],
   "source": [
    "ens_learn.groupby('Name_Evr').mean().sort_values(by=['PSNR'], ascending=False).head(7)"
   ],
   "metadata": {
    "collapsed": false,
    "ExecuteTime": {
     "end_time": "2024-05-12T12:58:59.202344Z",
     "start_time": "2024-05-12T12:58:59.186643Z"
    }
   },
   "id": "50cb448ed5c9a57a"
  },
  {
   "cell_type": "code",
   "execution_count": 41,
   "outputs": [
    {
     "name": "stderr",
     "output_type": "stream",
     "text": [
      "/var/folders/1j/287nr9g51b128plm6r3b3dsh0000gn/T/ipykernel_8964/1292014365.py:1: FutureWarning: The default value of numeric_only in DataFrameGroupBy.mean is deprecated. In a future version, numeric_only will default to False. Either specify numeric_only or select only columns which should be valid for the function.\n",
      "  ens_learn.groupby('Name_Evr').mean().sort_values(by=['PSNR']).head(7)\n"
     ]
    },
    {
     "data": {
      "text/plain": "               Time       PSNR\nName_Evr                      \nGBO_ACO   68.454298  43.850682\nGBO_ABC   60.278289  43.893694\nPSO_ACO   56.924120  44.147984\nPSO_ABC   49.470093  44.184430\nFBIO_GBO  85.294539  44.285491\nGBO_CA    39.177795  44.309252\nABC_CA    45.633432  44.353034",
      "text/html": "<div>\n<style scoped>\n    .dataframe tbody tr th:only-of-type {\n        vertical-align: middle;\n    }\n\n    .dataframe tbody tr th {\n        vertical-align: top;\n    }\n\n    .dataframe thead th {\n        text-align: right;\n    }\n</style>\n<table border=\"1\" class=\"dataframe\">\n  <thead>\n    <tr style=\"text-align: right;\">\n      <th></th>\n      <th>Time</th>\n      <th>PSNR</th>\n    </tr>\n    <tr>\n      <th>Name_Evr</th>\n      <th></th>\n      <th></th>\n    </tr>\n  </thead>\n  <tbody>\n    <tr>\n      <th>GBO_ACO</th>\n      <td>68.454298</td>\n      <td>43.850682</td>\n    </tr>\n    <tr>\n      <th>GBO_ABC</th>\n      <td>60.278289</td>\n      <td>43.893694</td>\n    </tr>\n    <tr>\n      <th>PSO_ACO</th>\n      <td>56.924120</td>\n      <td>44.147984</td>\n    </tr>\n    <tr>\n      <th>PSO_ABC</th>\n      <td>49.470093</td>\n      <td>44.184430</td>\n    </tr>\n    <tr>\n      <th>FBIO_GBO</th>\n      <td>85.294539</td>\n      <td>44.285491</td>\n    </tr>\n    <tr>\n      <th>GBO_CA</th>\n      <td>39.177795</td>\n      <td>44.309252</td>\n    </tr>\n    <tr>\n      <th>ABC_CA</th>\n      <td>45.633432</td>\n      <td>44.353034</td>\n    </tr>\n  </tbody>\n</table>\n</div>"
     },
     "execution_count": 41,
     "metadata": {},
     "output_type": "execute_result"
    }
   ],
   "source": [
    "ens_learn.groupby('Name_Evr').mean().sort_values(by=['PSNR']).head(7)"
   ],
   "metadata": {
    "collapsed": false,
    "ExecuteTime": {
     "end_time": "2024-05-12T13:20:15.459486Z",
     "start_time": "2024-05-12T13:20:15.440437Z"
    }
   },
   "id": "536e95abfd421820"
  },
  {
   "cell_type": "code",
   "execution_count": null,
   "outputs": [],
   "source": [],
   "metadata": {
    "collapsed": false
   },
   "id": "382501937d3327e4"
  }
 ],
 "metadata": {
  "kernelspec": {
   "display_name": "Python 3",
   "language": "python",
   "name": "python3"
  },
  "language_info": {
   "codemirror_mode": {
    "name": "ipython",
    "version": 2
   },
   "file_extension": ".py",
   "mimetype": "text/x-python",
   "name": "python",
   "nbconvert_exporter": "python",
   "pygments_lexer": "ipython2",
   "version": "2.7.6"
  }
 },
 "nbformat": 4,
 "nbformat_minor": 5
}

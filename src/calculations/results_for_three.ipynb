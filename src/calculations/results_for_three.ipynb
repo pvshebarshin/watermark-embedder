{
 "cells": [
  {
   "cell_type": "code",
   "execution_count": 11,
   "id": "initial_id",
   "metadata": {
    "collapsed": true,
    "ExecuteTime": {
     "end_time": "2024-05-11T21:28:55.349391Z",
     "start_time": "2024-05-11T21:28:55.222861Z"
    }
   },
   "outputs": [],
   "source": [
    "import pandas as pd\n",
    "import matplotlib.pyplot as plt\n",
    "import docx\n",
    "\n",
    "%matplotlib inline"
   ]
  },
  {
   "cell_type": "code",
   "execution_count": 3,
   "outputs": [
    {
     "data": {
      "text/plain": "       Name_File     Name_Evr                          Name_Ens        Time  \\\n0       area.png   DE_PSO_HHO          MetaheuristicEnsembleAvg   43.816600   \n1       area.png  DE_PSO_FBIO          MetaheuristicEnsembleAvg  100.528393   \n2       area.png   DE_PSO_GBO          MetaheuristicEnsembleAvg   91.471637   \n3       area.png   DE_PSO_IWO          MetaheuristicEnsembleAvg   84.863056   \n4       area.png   DE_PSO_ABC          MetaheuristicEnsembleAvg   97.022600   \n...          ...          ...                               ...         ...   \n4315  baboon.png   IWO_CA_ACO  MetaheuristicEnsembleAlternation   85.232861   \n4316  baboon.png   ABC_BBO_CA  MetaheuristicEnsembleAlternation   48.508402   \n4317  baboon.png  ABC_BBO_ACO  MetaheuristicEnsembleAlternation   65.342422   \n4318  baboon.png   ABC_CA_ACO  MetaheuristicEnsembleAlternation   61.850582   \n4319  baboon.png   BBO_CA_ACO  MetaheuristicEnsembleAlternation   51.782292   \n\n           PSNR  \n0     30.963004  \n1     29.764028  \n2     30.316707  \n3     30.018062  \n4     30.501308  \n...         ...  \n4315  40.617390  \n4316  41.053528  \n4317  40.347740  \n4318  39.762059  \n4319  40.470529  \n\n[4320 rows x 5 columns]",
      "text/html": "<div>\n<style scoped>\n    .dataframe tbody tr th:only-of-type {\n        vertical-align: middle;\n    }\n\n    .dataframe tbody tr th {\n        vertical-align: top;\n    }\n\n    .dataframe thead th {\n        text-align: right;\n    }\n</style>\n<table border=\"1\" class=\"dataframe\">\n  <thead>\n    <tr style=\"text-align: right;\">\n      <th></th>\n      <th>Name_File</th>\n      <th>Name_Evr</th>\n      <th>Name_Ens</th>\n      <th>Time</th>\n      <th>PSNR</th>\n    </tr>\n  </thead>\n  <tbody>\n    <tr>\n      <th>0</th>\n      <td>area.png</td>\n      <td>DE_PSO_HHO</td>\n      <td>MetaheuristicEnsembleAvg</td>\n      <td>43.816600</td>\n      <td>30.963004</td>\n    </tr>\n    <tr>\n      <th>1</th>\n      <td>area.png</td>\n      <td>DE_PSO_FBIO</td>\n      <td>MetaheuristicEnsembleAvg</td>\n      <td>100.528393</td>\n      <td>29.764028</td>\n    </tr>\n    <tr>\n      <th>2</th>\n      <td>area.png</td>\n      <td>DE_PSO_GBO</td>\n      <td>MetaheuristicEnsembleAvg</td>\n      <td>91.471637</td>\n      <td>30.316707</td>\n    </tr>\n    <tr>\n      <th>3</th>\n      <td>area.png</td>\n      <td>DE_PSO_IWO</td>\n      <td>MetaheuristicEnsembleAvg</td>\n      <td>84.863056</td>\n      <td>30.018062</td>\n    </tr>\n    <tr>\n      <th>4</th>\n      <td>area.png</td>\n      <td>DE_PSO_ABC</td>\n      <td>MetaheuristicEnsembleAvg</td>\n      <td>97.022600</td>\n      <td>30.501308</td>\n    </tr>\n    <tr>\n      <th>...</th>\n      <td>...</td>\n      <td>...</td>\n      <td>...</td>\n      <td>...</td>\n      <td>...</td>\n    </tr>\n    <tr>\n      <th>4315</th>\n      <td>baboon.png</td>\n      <td>IWO_CA_ACO</td>\n      <td>MetaheuristicEnsembleAlternation</td>\n      <td>85.232861</td>\n      <td>40.617390</td>\n    </tr>\n    <tr>\n      <th>4316</th>\n      <td>baboon.png</td>\n      <td>ABC_BBO_CA</td>\n      <td>MetaheuristicEnsembleAlternation</td>\n      <td>48.508402</td>\n      <td>41.053528</td>\n    </tr>\n    <tr>\n      <th>4317</th>\n      <td>baboon.png</td>\n      <td>ABC_BBO_ACO</td>\n      <td>MetaheuristicEnsembleAlternation</td>\n      <td>65.342422</td>\n      <td>40.347740</td>\n    </tr>\n    <tr>\n      <th>4318</th>\n      <td>baboon.png</td>\n      <td>ABC_CA_ACO</td>\n      <td>MetaheuristicEnsembleAlternation</td>\n      <td>61.850582</td>\n      <td>39.762059</td>\n    </tr>\n    <tr>\n      <th>4319</th>\n      <td>baboon.png</td>\n      <td>BBO_CA_ACO</td>\n      <td>MetaheuristicEnsembleAlternation</td>\n      <td>51.782292</td>\n      <td>40.470529</td>\n    </tr>\n  </tbody>\n</table>\n<p>4320 rows × 5 columns</p>\n</div>"
     },
     "execution_count": 3,
     "metadata": {},
     "output_type": "execute_result"
    }
   ],
   "source": [
    "dataset = pd.read_csv('result3.csv')\n",
    "dataset"
   ],
   "metadata": {
    "collapsed": false,
    "ExecuteTime": {
     "end_time": "2024-05-10T13:43:24.422459Z",
     "start_time": "2024-05-10T13:43:24.407126Z"
    }
   },
   "id": "1010ec378f85319a"
  },
  {
   "cell_type": "code",
   "execution_count": 4,
   "outputs": [
    {
     "name": "stdout",
     "output_type": "stream",
     "text": [
      "<class 'pandas.core.frame.DataFrame'>\n",
      "RangeIndex: 4320 entries, 0 to 4319\n",
      "Data columns (total 5 columns):\n",
      " #   Column     Non-Null Count  Dtype  \n",
      "---  ------     --------------  -----  \n",
      " 0   Name_File  4320 non-null   object \n",
      " 1   Name_Evr   4320 non-null   object \n",
      " 2   Name_Ens   4320 non-null   object \n",
      " 3   Time       4320 non-null   float64\n",
      " 4   PSNR       4320 non-null   float64\n",
      "dtypes: float64(2), object(3)\n",
      "memory usage: 168.9+ KB\n"
     ]
    }
   ],
   "source": [
    "dataset.info()"
   ],
   "metadata": {
    "collapsed": false,
    "ExecuteTime": {
     "end_time": "2024-05-10T13:43:25.360941Z",
     "start_time": "2024-05-10T13:43:25.353518Z"
    }
   },
   "id": "f7e3a2be66c6d3fe"
  },
  {
   "cell_type": "code",
   "execution_count": 5,
   "outputs": [
    {
     "name": "stdout",
     "output_type": "stream",
     "text": [
      "Files: ['area.png' 'boat.png' 'stream_and_bridge.png' 'airplane.png'\n",
      " 'goldhill.png' 'yacht.png' 'peppers.png' 'btr.png' 'baboon.png'] \n",
      "\n",
      "Ensembles: ['MetaheuristicEnsembleAvg' 'MetaheuristicEnsembleLearn'\n",
      " 'MetaheuristicEnsembleAlternation']\n"
     ]
    }
   ],
   "source": [
    "print('Files:', pd.unique(dataset['Name_File']), '\\n')\n",
    "print('Ensembles:', pd.unique(dataset['Name_Ens']))"
   ],
   "metadata": {
    "collapsed": false,
    "ExecuteTime": {
     "end_time": "2024-05-10T13:43:25.983796Z",
     "start_time": "2024-05-10T13:43:25.975824Z"
    }
   },
   "id": "96ff7d30618083dd"
  },
  {
   "cell_type": "code",
   "execution_count": 15,
   "outputs": [
    {
     "name": "stderr",
     "output_type": "stream",
     "text": [
      "/var/folders/1j/287nr9g51b128plm6r3b3dsh0000gn/T/ipykernel_8996/4222670833.py:1: FutureWarning: The default value of numeric_only in DataFrameGroupBy.mean is deprecated. In a future version, numeric_only will default to False. Either specify numeric_only or select only columns which should be valid for the function.\n",
      "  dataset.groupby('Name_Ens').mean()\n"
     ]
    },
    {
     "data": {
      "text/plain": "                                        Time       PSNR\nName_Ens                                               \nMetaheuristicEnsembleAlternation   64.128298  44.912688\nMetaheuristicEnsembleAvg          105.951561  43.882688\nMetaheuristicEnsembleLearn         57.097599  45.150084",
      "text/html": "<div>\n<style scoped>\n    .dataframe tbody tr th:only-of-type {\n        vertical-align: middle;\n    }\n\n    .dataframe tbody tr th {\n        vertical-align: top;\n    }\n\n    .dataframe thead th {\n        text-align: right;\n    }\n</style>\n<table border=\"1\" class=\"dataframe\">\n  <thead>\n    <tr style=\"text-align: right;\">\n      <th></th>\n      <th>Time</th>\n      <th>PSNR</th>\n    </tr>\n    <tr>\n      <th>Name_Ens</th>\n      <th></th>\n      <th></th>\n    </tr>\n  </thead>\n  <tbody>\n    <tr>\n      <th>MetaheuristicEnsembleAlternation</th>\n      <td>64.128298</td>\n      <td>44.912688</td>\n    </tr>\n    <tr>\n      <th>MetaheuristicEnsembleAvg</th>\n      <td>105.951561</td>\n      <td>43.882688</td>\n    </tr>\n    <tr>\n      <th>MetaheuristicEnsembleLearn</th>\n      <td>57.097599</td>\n      <td>45.150084</td>\n    </tr>\n  </tbody>\n</table>\n</div>"
     },
     "execution_count": 15,
     "metadata": {},
     "output_type": "execute_result"
    }
   ],
   "source": [
    "dataset.groupby('Name_Ens').mean()"
   ],
   "metadata": {
    "collapsed": false,
    "ExecuteTime": {
     "end_time": "2024-05-11T21:54:09.368210Z",
     "start_time": "2024-05-11T21:54:09.354089Z"
    }
   },
   "id": "8e8d299432ec5891"
  },
  {
   "cell_type": "code",
   "execution_count": 10,
   "outputs": [
    {
     "name": "stderr",
     "output_type": "stream",
     "text": [
      "/var/folders/1j/287nr9g51b128plm6r3b3dsh0000gn/T/ipykernel_8996/2472392906.py:1: FutureWarning: The default value of numeric_only in DataFrameGroupBy.mean is deprecated. In a future version, numeric_only will default to False. Either specify numeric_only or select only columns which should be valid for the function.\n",
      "  dataset.groupby(['Name_File']).mean()\n"
     ]
    },
    {
     "data": {
      "text/plain": "                            Time       PSNR\nName_File                                  \nairplane.png           72.991191  50.992446\narea.png               71.838911  30.568427\nbaboon.png             72.653776  40.469940\nboat.png               72.581671  53.046635\nbtr.png                73.104198  45.574419\ngoldhill.png           73.918675  41.803566\npeppers.png            73.302827  50.548001\nstream_and_bridge.png  72.038003  41.841889\nyacht.png              73.008698  47.585508",
      "text/html": "<div>\n<style scoped>\n    .dataframe tbody tr th:only-of-type {\n        vertical-align: middle;\n    }\n\n    .dataframe tbody tr th {\n        vertical-align: top;\n    }\n\n    .dataframe thead th {\n        text-align: right;\n    }\n</style>\n<table border=\"1\" class=\"dataframe\">\n  <thead>\n    <tr style=\"text-align: right;\">\n      <th></th>\n      <th>Time</th>\n      <th>PSNR</th>\n    </tr>\n    <tr>\n      <th>Name_File</th>\n      <th></th>\n      <th></th>\n    </tr>\n  </thead>\n  <tbody>\n    <tr>\n      <th>airplane.png</th>\n      <td>72.991191</td>\n      <td>50.992446</td>\n    </tr>\n    <tr>\n      <th>area.png</th>\n      <td>71.838911</td>\n      <td>30.568427</td>\n    </tr>\n    <tr>\n      <th>baboon.png</th>\n      <td>72.653776</td>\n      <td>40.469940</td>\n    </tr>\n    <tr>\n      <th>boat.png</th>\n      <td>72.581671</td>\n      <td>53.046635</td>\n    </tr>\n    <tr>\n      <th>btr.png</th>\n      <td>73.104198</td>\n      <td>45.574419</td>\n    </tr>\n    <tr>\n      <th>goldhill.png</th>\n      <td>73.918675</td>\n      <td>41.803566</td>\n    </tr>\n    <tr>\n      <th>peppers.png</th>\n      <td>73.302827</td>\n      <td>50.548001</td>\n    </tr>\n    <tr>\n      <th>stream_and_bridge.png</th>\n      <td>72.038003</td>\n      <td>41.841889</td>\n    </tr>\n    <tr>\n      <th>yacht.png</th>\n      <td>73.008698</td>\n      <td>47.585508</td>\n    </tr>\n  </tbody>\n</table>\n</div>"
     },
     "execution_count": 10,
     "metadata": {},
     "output_type": "execute_result"
    }
   ],
   "source": [
    "dataset.groupby(['Name_File']).mean()"
   ],
   "metadata": {
    "collapsed": false,
    "ExecuteTime": {
     "end_time": "2024-05-10T13:44:29.621580Z",
     "start_time": "2024-05-10T13:44:29.593631Z"
    }
   },
   "id": "9d8f7481bd47c64e"
  },
  {
   "cell_type": "code",
   "execution_count": 6,
   "outputs": [],
   "source": [
    "ens_avg = dataset[(dataset['Name_Ens'] == 'MetaheuristicEnsembleAvg')]\n",
    "ens_learn = dataset[(dataset['Name_Ens'] == 'MetaheuristicEnsembleLearn')]\n",
    "ens_alt = dataset[(dataset['Name_Ens'] == 'MetaheuristicEnsembleAlternation')]"
   ],
   "metadata": {
    "collapsed": false,
    "ExecuteTime": {
     "end_time": "2024-05-10T13:43:26.874647Z",
     "start_time": "2024-05-10T13:43:26.871907Z"
    }
   },
   "id": "e4700a75c3c3a746"
  },
  {
   "cell_type": "code",
   "execution_count": 7,
   "outputs": [
    {
     "name": "stderr",
     "output_type": "stream",
     "text": [
      "/var/folders/1j/287nr9g51b128plm6r3b3dsh0000gn/T/ipykernel_8996/3818070868.py:1: FutureWarning: The default value of numeric_only in DataFrameGroupBy.mean is deprecated. In a future version, numeric_only will default to False. Either specify numeric_only or select only columns which should be valid for the function.\n",
      "  ens_avg.groupby(['Name_File']).mean()\n"
     ]
    },
    {
     "data": {
      "text/plain": "                             Time       PSNR\nName_File                                   \nairplane.png           105.966961  49.699057\narea.png               105.015743  30.369033\nbaboon.png             106.388899  39.465128\nboat.png               105.172887  52.418530\nbtr.png                106.477822  44.973764\ngoldhill.png           106.365791  41.408255\npeppers.png            106.825244  49.278129\nstream_and_bridge.png  105.591328  41.056741\nyacht.png              105.759372  46.275553",
      "text/html": "<div>\n<style scoped>\n    .dataframe tbody tr th:only-of-type {\n        vertical-align: middle;\n    }\n\n    .dataframe tbody tr th {\n        vertical-align: top;\n    }\n\n    .dataframe thead th {\n        text-align: right;\n    }\n</style>\n<table border=\"1\" class=\"dataframe\">\n  <thead>\n    <tr style=\"text-align: right;\">\n      <th></th>\n      <th>Time</th>\n      <th>PSNR</th>\n    </tr>\n    <tr>\n      <th>Name_File</th>\n      <th></th>\n      <th></th>\n    </tr>\n  </thead>\n  <tbody>\n    <tr>\n      <th>airplane.png</th>\n      <td>105.966961</td>\n      <td>49.699057</td>\n    </tr>\n    <tr>\n      <th>area.png</th>\n      <td>105.015743</td>\n      <td>30.369033</td>\n    </tr>\n    <tr>\n      <th>baboon.png</th>\n      <td>106.388899</td>\n      <td>39.465128</td>\n    </tr>\n    <tr>\n      <th>boat.png</th>\n      <td>105.172887</td>\n      <td>52.418530</td>\n    </tr>\n    <tr>\n      <th>btr.png</th>\n      <td>106.477822</td>\n      <td>44.973764</td>\n    </tr>\n    <tr>\n      <th>goldhill.png</th>\n      <td>106.365791</td>\n      <td>41.408255</td>\n    </tr>\n    <tr>\n      <th>peppers.png</th>\n      <td>106.825244</td>\n      <td>49.278129</td>\n    </tr>\n    <tr>\n      <th>stream_and_bridge.png</th>\n      <td>105.591328</td>\n      <td>41.056741</td>\n    </tr>\n    <tr>\n      <th>yacht.png</th>\n      <td>105.759372</td>\n      <td>46.275553</td>\n    </tr>\n  </tbody>\n</table>\n</div>"
     },
     "execution_count": 7,
     "metadata": {},
     "output_type": "execute_result"
    }
   ],
   "source": [
    "ens_avg.groupby(['Name_File']).mean()"
   ],
   "metadata": {
    "collapsed": false,
    "ExecuteTime": {
     "end_time": "2024-05-10T13:43:38.442418Z",
     "start_time": "2024-05-10T13:43:38.437068Z"
    }
   },
   "id": "763fabf85bcf26f9"
  },
  {
   "cell_type": "code",
   "execution_count": 8,
   "outputs": [
    {
     "name": "stderr",
     "output_type": "stream",
     "text": [
      "/var/folders/1j/287nr9g51b128plm6r3b3dsh0000gn/T/ipykernel_8996/1821589737.py:1: FutureWarning: The default value of numeric_only in DataFrameGroupBy.mean is deprecated. In a future version, numeric_only will default to False. Either specify numeric_only or select only columns which should be valid for the function.\n",
      "  ens_learn.groupby(['Name_File']).mean()\n"
     ]
    },
    {
     "data": {
      "text/plain": "                            Time       PSNR\nName_File                                  \nairplane.png           57.479420  51.570891\narea.png               56.191241  30.705631\nbaboon.png             56.552933  41.104342\nboat.png               56.899539  53.466880\nbtr.png                57.179664  45.912168\ngoldhill.png           58.576793  42.060123\npeppers.png            57.386112  51.015902\nstream_and_bridge.png  55.970805  42.260452\nyacht.png              57.641884  48.254364",
      "text/html": "<div>\n<style scoped>\n    .dataframe tbody tr th:only-of-type {\n        vertical-align: middle;\n    }\n\n    .dataframe tbody tr th {\n        vertical-align: top;\n    }\n\n    .dataframe thead th {\n        text-align: right;\n    }\n</style>\n<table border=\"1\" class=\"dataframe\">\n  <thead>\n    <tr style=\"text-align: right;\">\n      <th></th>\n      <th>Time</th>\n      <th>PSNR</th>\n    </tr>\n    <tr>\n      <th>Name_File</th>\n      <th></th>\n      <th></th>\n    </tr>\n  </thead>\n  <tbody>\n    <tr>\n      <th>airplane.png</th>\n      <td>57.479420</td>\n      <td>51.570891</td>\n    </tr>\n    <tr>\n      <th>area.png</th>\n      <td>56.191241</td>\n      <td>30.705631</td>\n    </tr>\n    <tr>\n      <th>baboon.png</th>\n      <td>56.552933</td>\n      <td>41.104342</td>\n    </tr>\n    <tr>\n      <th>boat.png</th>\n      <td>56.899539</td>\n      <td>53.466880</td>\n    </tr>\n    <tr>\n      <th>btr.png</th>\n      <td>57.179664</td>\n      <td>45.912168</td>\n    </tr>\n    <tr>\n      <th>goldhill.png</th>\n      <td>58.576793</td>\n      <td>42.060123</td>\n    </tr>\n    <tr>\n      <th>peppers.png</th>\n      <td>57.386112</td>\n      <td>51.015902</td>\n    </tr>\n    <tr>\n      <th>stream_and_bridge.png</th>\n      <td>55.970805</td>\n      <td>42.260452</td>\n    </tr>\n    <tr>\n      <th>yacht.png</th>\n      <td>57.641884</td>\n      <td>48.254364</td>\n    </tr>\n  </tbody>\n</table>\n</div>"
     },
     "execution_count": 8,
     "metadata": {},
     "output_type": "execute_result"
    }
   ],
   "source": [
    "ens_learn.groupby(['Name_File']).mean()"
   ],
   "metadata": {
    "collapsed": false,
    "ExecuteTime": {
     "end_time": "2024-05-10T13:43:49.009420Z",
     "start_time": "2024-05-10T13:43:49.004576Z"
    }
   },
   "id": "e772424facfcd1cf"
  },
  {
   "cell_type": "code",
   "execution_count": 9,
   "outputs": [
    {
     "name": "stderr",
     "output_type": "stream",
     "text": [
      "/var/folders/1j/287nr9g51b128plm6r3b3dsh0000gn/T/ipykernel_8996/235152563.py:1: FutureWarning: The default value of numeric_only in DataFrameGroupBy.mean is deprecated. In a future version, numeric_only will default to False. Either specify numeric_only or select only columns which should be valid for the function.\n",
      "  ens_alt.groupby(['Name_File']).mean()\n"
     ]
    },
    {
     "data": {
      "text/plain": "                            Time       PSNR\nName_File                                  \nairplane.png           64.259192  51.349918\narea.png               63.074331  30.599521\nbaboon.png             63.836636  40.655144\nboat.png               64.127129  53.150565\nbtr.png                64.379653  45.705872\ngoldhill.png           65.366057  41.872944\npeppers.png            64.499975  50.948986\nstream_and_bridge.png  63.294939  42.025181\nyacht.png              64.316767  47.906058",
      "text/html": "<div>\n<style scoped>\n    .dataframe tbody tr th:only-of-type {\n        vertical-align: middle;\n    }\n\n    .dataframe tbody tr th {\n        vertical-align: top;\n    }\n\n    .dataframe thead th {\n        text-align: right;\n    }\n</style>\n<table border=\"1\" class=\"dataframe\">\n  <thead>\n    <tr style=\"text-align: right;\">\n      <th></th>\n      <th>Time</th>\n      <th>PSNR</th>\n    </tr>\n    <tr>\n      <th>Name_File</th>\n      <th></th>\n      <th></th>\n    </tr>\n  </thead>\n  <tbody>\n    <tr>\n      <th>airplane.png</th>\n      <td>64.259192</td>\n      <td>51.349918</td>\n    </tr>\n    <tr>\n      <th>area.png</th>\n      <td>63.074331</td>\n      <td>30.599521</td>\n    </tr>\n    <tr>\n      <th>baboon.png</th>\n      <td>63.836636</td>\n      <td>40.655144</td>\n    </tr>\n    <tr>\n      <th>boat.png</th>\n      <td>64.127129</td>\n      <td>53.150565</td>\n    </tr>\n    <tr>\n      <th>btr.png</th>\n      <td>64.379653</td>\n      <td>45.705872</td>\n    </tr>\n    <tr>\n      <th>goldhill.png</th>\n      <td>65.366057</td>\n      <td>41.872944</td>\n    </tr>\n    <tr>\n      <th>peppers.png</th>\n      <td>64.499975</td>\n      <td>50.948986</td>\n    </tr>\n    <tr>\n      <th>stream_and_bridge.png</th>\n      <td>63.294939</td>\n      <td>42.025181</td>\n    </tr>\n    <tr>\n      <th>yacht.png</th>\n      <td>64.316767</td>\n      <td>47.906058</td>\n    </tr>\n  </tbody>\n</table>\n</div>"
     },
     "execution_count": 9,
     "metadata": {},
     "output_type": "execute_result"
    }
   ],
   "source": [
    "ens_alt.groupby(['Name_File']).mean()"
   ],
   "metadata": {
    "collapsed": false,
    "ExecuteTime": {
     "end_time": "2024-05-10T13:43:56.841280Z",
     "start_time": "2024-05-10T13:43:56.825971Z"
    }
   },
   "id": "28c10f89930eb853"
  },
  {
   "cell_type": "code",
   "execution_count": 16,
   "outputs": [
    {
     "name": "stderr",
     "output_type": "stream",
     "text": [
      "/var/folders/1j/287nr9g51b128plm6r3b3dsh0000gn/T/ipykernel_8996/677110584.py:1: FutureWarning: The default value of numeric_only in DataFrameGroupBy.mean is deprecated. In a future version, numeric_only will default to False. Either specify numeric_only or select only columns which should be valid for the function.\n",
      "  ens_learn.groupby('Name_Evr').mean().sort_values(by=['PSNR'], ascending=False).head(7)\n"
     ]
    },
    {
     "data": {
      "text/plain": "                   Time       PSNR\nName_Evr                          \nDE_HHO_FBIO   60.209665  46.213547\nHHO_GBO_IWO   73.723344  46.207675\nHHO_ABC_BBO   40.680344  46.206761\nFBIO_IWO_BBO  77.391429  46.139050\nPSO_HHO_BBO   33.065264  46.138906\nDE_HHO_ABC    42.076043  46.131626\nHHO_FBIO_IWO  86.745588  46.008507",
      "text/html": "<div>\n<style scoped>\n    .dataframe tbody tr th:only-of-type {\n        vertical-align: middle;\n    }\n\n    .dataframe tbody tr th {\n        vertical-align: top;\n    }\n\n    .dataframe thead th {\n        text-align: right;\n    }\n</style>\n<table border=\"1\" class=\"dataframe\">\n  <thead>\n    <tr style=\"text-align: right;\">\n      <th></th>\n      <th>Time</th>\n      <th>PSNR</th>\n    </tr>\n    <tr>\n      <th>Name_Evr</th>\n      <th></th>\n      <th></th>\n    </tr>\n  </thead>\n  <tbody>\n    <tr>\n      <th>DE_HHO_FBIO</th>\n      <td>60.209665</td>\n      <td>46.213547</td>\n    </tr>\n    <tr>\n      <th>HHO_GBO_IWO</th>\n      <td>73.723344</td>\n      <td>46.207675</td>\n    </tr>\n    <tr>\n      <th>HHO_ABC_BBO</th>\n      <td>40.680344</td>\n      <td>46.206761</td>\n    </tr>\n    <tr>\n      <th>FBIO_IWO_BBO</th>\n      <td>77.391429</td>\n      <td>46.139050</td>\n    </tr>\n    <tr>\n      <th>PSO_HHO_BBO</th>\n      <td>33.065264</td>\n      <td>46.138906</td>\n    </tr>\n    <tr>\n      <th>DE_HHO_ABC</th>\n      <td>42.076043</td>\n      <td>46.131626</td>\n    </tr>\n    <tr>\n      <th>HHO_FBIO_IWO</th>\n      <td>86.745588</td>\n      <td>46.008507</td>\n    </tr>\n  </tbody>\n</table>\n</div>"
     },
     "execution_count": 16,
     "metadata": {},
     "output_type": "execute_result"
    }
   ],
   "source": [
    "ens_learn.groupby('Name_Evr').mean().sort_values(by=['PSNR'], ascending=False).head(7)"
   ],
   "metadata": {
    "collapsed": false,
    "ExecuteTime": {
     "end_time": "2024-05-12T13:01:28.181833Z",
     "start_time": "2024-05-12T13:01:28.172648Z"
    }
   },
   "id": "16fe86d070711446"
  },
  {
   "cell_type": "code",
   "execution_count": 18,
   "outputs": [
    {
     "name": "stderr",
     "output_type": "stream",
     "text": [
      "/var/folders/1j/287nr9g51b128plm6r3b3dsh0000gn/T/ipykernel_8996/1292014365.py:1: FutureWarning: The default value of numeric_only in DataFrameGroupBy.mean is deprecated. In a future version, numeric_only will default to False. Either specify numeric_only or select only columns which should be valid for the function.\n",
      "  ens_learn.groupby('Name_Evr').mean().sort_values(by=['PSNR']).head(7)\n"
     ]
    },
    {
     "data": {
      "text/plain": "                   Time       PSNR\nName_Evr                          \nDE_FBIO_GBO   65.714978  43.722375\nPSO_FBIO_GBO  67.883045  43.921033\nPSO_GBO_CA    34.409986  44.026282\nDE_PSO_GBO    40.615302  44.042831\nGBO_ABC_ACO   70.149182  44.074202\nDE_CA_ACO     51.451969  44.102797\nPSO_FBIO_ACO  74.289392  44.108621",
      "text/html": "<div>\n<style scoped>\n    .dataframe tbody tr th:only-of-type {\n        vertical-align: middle;\n    }\n\n    .dataframe tbody tr th {\n        vertical-align: top;\n    }\n\n    .dataframe thead th {\n        text-align: right;\n    }\n</style>\n<table border=\"1\" class=\"dataframe\">\n  <thead>\n    <tr style=\"text-align: right;\">\n      <th></th>\n      <th>Time</th>\n      <th>PSNR</th>\n    </tr>\n    <tr>\n      <th>Name_Evr</th>\n      <th></th>\n      <th></th>\n    </tr>\n  </thead>\n  <tbody>\n    <tr>\n      <th>DE_FBIO_GBO</th>\n      <td>65.714978</td>\n      <td>43.722375</td>\n    </tr>\n    <tr>\n      <th>PSO_FBIO_GBO</th>\n      <td>67.883045</td>\n      <td>43.921033</td>\n    </tr>\n    <tr>\n      <th>PSO_GBO_CA</th>\n      <td>34.409986</td>\n      <td>44.026282</td>\n    </tr>\n    <tr>\n      <th>DE_PSO_GBO</th>\n      <td>40.615302</td>\n      <td>44.042831</td>\n    </tr>\n    <tr>\n      <th>GBO_ABC_ACO</th>\n      <td>70.149182</td>\n      <td>44.074202</td>\n    </tr>\n    <tr>\n      <th>DE_CA_ACO</th>\n      <td>51.451969</td>\n      <td>44.102797</td>\n    </tr>\n    <tr>\n      <th>PSO_FBIO_ACO</th>\n      <td>74.289392</td>\n      <td>44.108621</td>\n    </tr>\n  </tbody>\n</table>\n</div>"
     },
     "execution_count": 18,
     "metadata": {},
     "output_type": "execute_result"
    }
   ],
   "source": [
    "ens_learn.groupby('Name_Evr').mean().sort_values(by=['PSNR']).head(7)"
   ],
   "metadata": {
    "collapsed": false,
    "ExecuteTime": {
     "end_time": "2024-05-12T13:20:37.890150Z",
     "start_time": "2024-05-12T13:20:37.859228Z"
    }
   },
   "id": "d1e4329802e4bc4d"
  },
  {
   "cell_type": "code",
   "execution_count": null,
   "outputs": [],
   "source": [],
   "metadata": {
    "collapsed": false
   },
   "id": "311b63910ffe436f"
  }
 ],
 "metadata": {
  "kernelspec": {
   "display_name": "Python 3",
   "language": "python",
   "name": "python3"
  },
  "language_info": {
   "codemirror_mode": {
    "name": "ipython",
    "version": 2
   },
   "file_extension": ".py",
   "mimetype": "text/x-python",
   "name": "python",
   "nbconvert_exporter": "python",
   "pygments_lexer": "ipython2",
   "version": "2.7.6"
  }
 },
 "nbformat": 4,
 "nbformat_minor": 5
}

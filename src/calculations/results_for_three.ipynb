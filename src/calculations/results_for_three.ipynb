{
 "cells": [
  {
   "cell_type": "code",
   "execution_count": 1,
   "id": "initial_id",
   "metadata": {
    "collapsed": true,
    "ExecuteTime": {
     "end_time": "2024-06-05T00:57:10.321417Z",
     "start_time": "2024-06-05T00:57:08.290625Z"
    }
   },
   "outputs": [],
   "source": [
    "import pandas as pd\n",
    "import matplotlib.pyplot as plt\n",
    "import docx\n",
    "\n",
    "%matplotlib inline"
   ]
  },
  {
   "cell_type": "code",
   "execution_count": 2,
   "outputs": [
    {
     "data": {
      "text/plain": "       Name_File     Name_Evr                    Name_Ens        Time  \\\n0       area.png   DE_PSO_HHO    MetaheuristicEnsembleAvg   43.816600   \n1       area.png  DE_PSO_FBIO    MetaheuristicEnsembleAvg  100.528393   \n2       area.png   DE_PSO_GBO    MetaheuristicEnsembleAvg   91.471637   \n3       area.png   DE_PSO_IWO    MetaheuristicEnsembleAvg   84.863056   \n4       area.png   DE_PSO_ABC    MetaheuristicEnsembleAvg   97.022600   \n...          ...          ...                         ...         ...   \n5395  baboon.png   IWO_CA_ACO  MetaheuristicEnsembleLearn   73.517541   \n5396  baboon.png   ABC_BBO_CA  MetaheuristicEnsembleLearn   37.965218   \n5397  baboon.png  ABC_BBO_ACO  MetaheuristicEnsembleLearn   63.634444   \n5398  baboon.png   ABC_CA_ACO  MetaheuristicEnsembleLearn   61.502632   \n5399  baboon.png   BBO_CA_ACO  MetaheuristicEnsembleLearn   50.796418   \n\n           PSNR  \n0     30.963004  \n1     29.764028  \n2     30.316707  \n3     30.018062  \n4     30.501308  \n...         ...  \n5395  41.061179  \n5396  41.740401  \n5397  40.644672  \n5398  40.007225  \n5399  41.970728  \n\n[5400 rows x 5 columns]",
      "text/html": "<div>\n<style scoped>\n    .dataframe tbody tr th:only-of-type {\n        vertical-align: middle;\n    }\n\n    .dataframe tbody tr th {\n        vertical-align: top;\n    }\n\n    .dataframe thead th {\n        text-align: right;\n    }\n</style>\n<table border=\"1\" class=\"dataframe\">\n  <thead>\n    <tr style=\"text-align: right;\">\n      <th></th>\n      <th>Name_File</th>\n      <th>Name_Evr</th>\n      <th>Name_Ens</th>\n      <th>Time</th>\n      <th>PSNR</th>\n    </tr>\n  </thead>\n  <tbody>\n    <tr>\n      <th>0</th>\n      <td>area.png</td>\n      <td>DE_PSO_HHO</td>\n      <td>MetaheuristicEnsembleAvg</td>\n      <td>43.816600</td>\n      <td>30.963004</td>\n    </tr>\n    <tr>\n      <th>1</th>\n      <td>area.png</td>\n      <td>DE_PSO_FBIO</td>\n      <td>MetaheuristicEnsembleAvg</td>\n      <td>100.528393</td>\n      <td>29.764028</td>\n    </tr>\n    <tr>\n      <th>2</th>\n      <td>area.png</td>\n      <td>DE_PSO_GBO</td>\n      <td>MetaheuristicEnsembleAvg</td>\n      <td>91.471637</td>\n      <td>30.316707</td>\n    </tr>\n    <tr>\n      <th>3</th>\n      <td>area.png</td>\n      <td>DE_PSO_IWO</td>\n      <td>MetaheuristicEnsembleAvg</td>\n      <td>84.863056</td>\n      <td>30.018062</td>\n    </tr>\n    <tr>\n      <th>4</th>\n      <td>area.png</td>\n      <td>DE_PSO_ABC</td>\n      <td>MetaheuristicEnsembleAvg</td>\n      <td>97.022600</td>\n      <td>30.501308</td>\n    </tr>\n    <tr>\n      <th>...</th>\n      <td>...</td>\n      <td>...</td>\n      <td>...</td>\n      <td>...</td>\n      <td>...</td>\n    </tr>\n    <tr>\n      <th>5395</th>\n      <td>baboon.png</td>\n      <td>IWO_CA_ACO</td>\n      <td>MetaheuristicEnsembleLearn</td>\n      <td>73.517541</td>\n      <td>41.061179</td>\n    </tr>\n    <tr>\n      <th>5396</th>\n      <td>baboon.png</td>\n      <td>ABC_BBO_CA</td>\n      <td>MetaheuristicEnsembleLearn</td>\n      <td>37.965218</td>\n      <td>41.740401</td>\n    </tr>\n    <tr>\n      <th>5397</th>\n      <td>baboon.png</td>\n      <td>ABC_BBO_ACO</td>\n      <td>MetaheuristicEnsembleLearn</td>\n      <td>63.634444</td>\n      <td>40.644672</td>\n    </tr>\n    <tr>\n      <th>5398</th>\n      <td>baboon.png</td>\n      <td>ABC_CA_ACO</td>\n      <td>MetaheuristicEnsembleLearn</td>\n      <td>61.502632</td>\n      <td>40.007225</td>\n    </tr>\n    <tr>\n      <th>5399</th>\n      <td>baboon.png</td>\n      <td>BBO_CA_ACO</td>\n      <td>MetaheuristicEnsembleLearn</td>\n      <td>50.796418</td>\n      <td>41.970728</td>\n    </tr>\n  </tbody>\n</table>\n<p>5400 rows × 5 columns</p>\n</div>"
     },
     "execution_count": 2,
     "metadata": {},
     "output_type": "execute_result"
    }
   ],
   "source": [
    "dataset = pd.read_csv('result3.csv')\n",
    "dataset"
   ],
   "metadata": {
    "collapsed": false,
    "ExecuteTime": {
     "end_time": "2024-06-05T00:57:10.340774Z",
     "start_time": "2024-06-05T00:57:10.314597Z"
    }
   },
   "id": "1010ec378f85319a"
  },
  {
   "cell_type": "code",
   "execution_count": 3,
   "outputs": [
    {
     "name": "stdout",
     "output_type": "stream",
     "text": [
      "<class 'pandas.core.frame.DataFrame'>\n",
      "RangeIndex: 5400 entries, 0 to 5399\n",
      "Data columns (total 5 columns):\n",
      " #   Column     Non-Null Count  Dtype  \n",
      "---  ------     --------------  -----  \n",
      " 0   Name_File  5400 non-null   object \n",
      " 1   Name_Evr   5400 non-null   object \n",
      " 2   Name_Ens   5400 non-null   object \n",
      " 3   Time       5400 non-null   float64\n",
      " 4   PSNR       5400 non-null   float64\n",
      "dtypes: float64(2), object(3)\n",
      "memory usage: 211.1+ KB\n"
     ]
    }
   ],
   "source": [
    "dataset.info()"
   ],
   "metadata": {
    "collapsed": false,
    "ExecuteTime": {
     "end_time": "2024-06-05T00:57:10.341312Z",
     "start_time": "2024-06-05T00:57:10.328590Z"
    }
   },
   "id": "f7e3a2be66c6d3fe"
  },
  {
   "cell_type": "code",
   "execution_count": 4,
   "outputs": [
    {
     "name": "stdout",
     "output_type": "stream",
     "text": [
      "Files: ['area.png' 'boat.png' 'stream_and_bridge.png' 'airplane.png'\n",
      " 'goldhill.png' 'yacht.png' 'peppers.png' 'btr.png' 'baboon.png'] \n",
      "\n",
      "Ensembles: ['MetaheuristicEnsembleAvg' 'MetaheuristicEnsembleLearn'\n",
      " 'MetaheuristicEnsembleAlternation']\n"
     ]
    }
   ],
   "source": [
    "print('Files:', pd.unique(dataset['Name_File']), '\\n')\n",
    "print('Ensembles:', pd.unique(dataset['Name_Ens']))"
   ],
   "metadata": {
    "collapsed": false,
    "ExecuteTime": {
     "end_time": "2024-06-05T00:57:10.341572Z",
     "start_time": "2024-06-05T00:57:10.333331Z"
    }
   },
   "id": "96ff7d30618083dd"
  },
  {
   "cell_type": "code",
   "execution_count": 5,
   "outputs": [
    {
     "name": "stderr",
     "output_type": "stream",
     "text": [
      "/var/folders/1j/287nr9g51b128plm6r3b3dsh0000gn/T/ipykernel_10054/4222670833.py:1: FutureWarning: The default value of numeric_only in DataFrameGroupBy.mean is deprecated. In a future version, numeric_only will default to False. Either specify numeric_only or select only columns which should be valid for the function.\n",
      "  dataset.groupby('Name_Ens').mean()\n"
     ]
    },
    {
     "data": {
      "text/plain": "                                        Time       PSNR\nName_Ens                                               \nMetaheuristicEnsembleAlternation   64.128298  44.912688\nMetaheuristicEnsembleAvg          105.951561  43.882688\nMetaheuristicEnsembleLearn         56.666862  45.140441",
      "text/html": "<div>\n<style scoped>\n    .dataframe tbody tr th:only-of-type {\n        vertical-align: middle;\n    }\n\n    .dataframe tbody tr th {\n        vertical-align: top;\n    }\n\n    .dataframe thead th {\n        text-align: right;\n    }\n</style>\n<table border=\"1\" class=\"dataframe\">\n  <thead>\n    <tr style=\"text-align: right;\">\n      <th></th>\n      <th>Time</th>\n      <th>PSNR</th>\n    </tr>\n    <tr>\n      <th>Name_Ens</th>\n      <th></th>\n      <th></th>\n    </tr>\n  </thead>\n  <tbody>\n    <tr>\n      <th>MetaheuristicEnsembleAlternation</th>\n      <td>64.128298</td>\n      <td>44.912688</td>\n    </tr>\n    <tr>\n      <th>MetaheuristicEnsembleAvg</th>\n      <td>105.951561</td>\n      <td>43.882688</td>\n    </tr>\n    <tr>\n      <th>MetaheuristicEnsembleLearn</th>\n      <td>56.666862</td>\n      <td>45.140441</td>\n    </tr>\n  </tbody>\n</table>\n</div>"
     },
     "execution_count": 5,
     "metadata": {},
     "output_type": "execute_result"
    }
   ],
   "source": [
    "dataset.groupby('Name_Ens').mean()"
   ],
   "metadata": {
    "collapsed": false,
    "ExecuteTime": {
     "end_time": "2024-06-05T00:57:10.344127Z",
     "start_time": "2024-06-05T00:57:10.337498Z"
    }
   },
   "id": "8e8d299432ec5891"
  },
  {
   "cell_type": "code",
   "execution_count": 6,
   "outputs": [
    {
     "name": "stderr",
     "output_type": "stream",
     "text": [
      "/var/folders/1j/287nr9g51b128plm6r3b3dsh0000gn/T/ipykernel_10054/2472392906.py:1: FutureWarning: The default value of numeric_only in DataFrameGroupBy.mean is deprecated. In a future version, numeric_only will default to False. Either specify numeric_only or select only columns which should be valid for the function.\n",
      "  dataset.groupby(['Name_File']).mean()\n"
     ]
    },
    {
     "data": {
      "text/plain": "                            Time       PSNR\nName_File                                  \nairplane.png           69.632473  51.123953\narea.png               68.557282  30.606889\nbaboon.png             69.325935  40.590416\nboat.png               69.395351  53.120441\nbtr.png                69.708476  45.650354\ngoldhill.png           70.586840  41.811893\npeppers.png            69.965213  50.652271\nstream_and_bridge.png  68.709419  41.920467\nyacht.png              69.694394  47.703418",
      "text/html": "<div>\n<style scoped>\n    .dataframe tbody tr th:only-of-type {\n        vertical-align: middle;\n    }\n\n    .dataframe tbody tr th {\n        vertical-align: top;\n    }\n\n    .dataframe thead th {\n        text-align: right;\n    }\n</style>\n<table border=\"1\" class=\"dataframe\">\n  <thead>\n    <tr style=\"text-align: right;\">\n      <th></th>\n      <th>Time</th>\n      <th>PSNR</th>\n    </tr>\n    <tr>\n      <th>Name_File</th>\n      <th></th>\n      <th></th>\n    </tr>\n  </thead>\n  <tbody>\n    <tr>\n      <th>airplane.png</th>\n      <td>69.632473</td>\n      <td>51.123953</td>\n    </tr>\n    <tr>\n      <th>area.png</th>\n      <td>68.557282</td>\n      <td>30.606889</td>\n    </tr>\n    <tr>\n      <th>baboon.png</th>\n      <td>69.325935</td>\n      <td>40.590416</td>\n    </tr>\n    <tr>\n      <th>boat.png</th>\n      <td>69.395351</td>\n      <td>53.120441</td>\n    </tr>\n    <tr>\n      <th>btr.png</th>\n      <td>69.708476</td>\n      <td>45.650354</td>\n    </tr>\n    <tr>\n      <th>goldhill.png</th>\n      <td>70.586840</td>\n      <td>41.811893</td>\n    </tr>\n    <tr>\n      <th>peppers.png</th>\n      <td>69.965213</td>\n      <td>50.652271</td>\n    </tr>\n    <tr>\n      <th>stream_and_bridge.png</th>\n      <td>68.709419</td>\n      <td>41.920467</td>\n    </tr>\n    <tr>\n      <th>yacht.png</th>\n      <td>69.694394</td>\n      <td>47.703418</td>\n    </tr>\n  </tbody>\n</table>\n</div>"
     },
     "execution_count": 6,
     "metadata": {},
     "output_type": "execute_result"
    }
   ],
   "source": [
    "dataset.groupby(['Name_File']).mean()"
   ],
   "metadata": {
    "collapsed": false,
    "ExecuteTime": {
     "end_time": "2024-06-05T00:57:10.375292Z",
     "start_time": "2024-06-05T00:57:10.342073Z"
    }
   },
   "id": "9d8f7481bd47c64e"
  },
  {
   "cell_type": "code",
   "execution_count": 7,
   "outputs": [],
   "source": [
    "ens_avg = dataset[(dataset['Name_Ens'] == 'MetaheuristicEnsembleAvg')]\n",
    "ens_learn = dataset[(dataset['Name_Ens'] == 'MetaheuristicEnsembleLearn')]\n",
    "ens_alt = dataset[(dataset['Name_Ens'] == 'MetaheuristicEnsembleAlternation')]"
   ],
   "metadata": {
    "collapsed": false,
    "ExecuteTime": {
     "end_time": "2024-06-05T00:57:10.375464Z",
     "start_time": "2024-06-05T00:57:10.347684Z"
    }
   },
   "id": "e4700a75c3c3a746"
  },
  {
   "cell_type": "code",
   "execution_count": 8,
   "outputs": [
    {
     "name": "stderr",
     "output_type": "stream",
     "text": [
      "/var/folders/1j/287nr9g51b128plm6r3b3dsh0000gn/T/ipykernel_10054/1910925870.py:1: FutureWarning: The default value of numeric_only in DataFrameGroupBy.mean is deprecated. In a future version, numeric_only will default to False. Either specify numeric_only or select only columns which should be valid for the function.\n",
      "  ens_avg.groupby(['Name_File']).mean()\n"
     ]
    },
    {
     "data": {
      "text/plain": "                             Time       PSNR\nName_File                                   \nairplane.png           105.966961  49.699057\narea.png               105.015743  30.369033\nbaboon.png             106.388899  39.465128\nboat.png               105.172887  52.418530\nbtr.png                106.477822  44.973764\ngoldhill.png           106.365791  41.408255\npeppers.png            106.825244  49.278129\nstream_and_bridge.png  105.591328  41.056741\nyacht.png              105.759372  46.275553",
      "text/html": "<div>\n<style scoped>\n    .dataframe tbody tr th:only-of-type {\n        vertical-align: middle;\n    }\n\n    .dataframe tbody tr th {\n        vertical-align: top;\n    }\n\n    .dataframe thead th {\n        text-align: right;\n    }\n</style>\n<table border=\"1\" class=\"dataframe\">\n  <thead>\n    <tr style=\"text-align: right;\">\n      <th></th>\n      <th>Time</th>\n      <th>PSNR</th>\n    </tr>\n    <tr>\n      <th>Name_File</th>\n      <th></th>\n      <th></th>\n    </tr>\n  </thead>\n  <tbody>\n    <tr>\n      <th>airplane.png</th>\n      <td>105.966961</td>\n      <td>49.699057</td>\n    </tr>\n    <tr>\n      <th>area.png</th>\n      <td>105.015743</td>\n      <td>30.369033</td>\n    </tr>\n    <tr>\n      <th>baboon.png</th>\n      <td>106.388899</td>\n      <td>39.465128</td>\n    </tr>\n    <tr>\n      <th>boat.png</th>\n      <td>105.172887</td>\n      <td>52.418530</td>\n    </tr>\n    <tr>\n      <th>btr.png</th>\n      <td>106.477822</td>\n      <td>44.973764</td>\n    </tr>\n    <tr>\n      <th>goldhill.png</th>\n      <td>106.365791</td>\n      <td>41.408255</td>\n    </tr>\n    <tr>\n      <th>peppers.png</th>\n      <td>106.825244</td>\n      <td>49.278129</td>\n    </tr>\n    <tr>\n      <th>stream_and_bridge.png</th>\n      <td>105.591328</td>\n      <td>41.056741</td>\n    </tr>\n    <tr>\n      <th>yacht.png</th>\n      <td>105.759372</td>\n      <td>46.275553</td>\n    </tr>\n  </tbody>\n</table>\n</div>"
     },
     "execution_count": 8,
     "metadata": {},
     "output_type": "execute_result"
    }
   ],
   "source": [
    "ens_avg.groupby(['Name_File']).mean()"
   ],
   "metadata": {
    "collapsed": false,
    "ExecuteTime": {
     "end_time": "2024-06-05T00:57:10.375949Z",
     "start_time": "2024-06-05T00:57:10.351287Z"
    }
   },
   "id": "763fabf85bcf26f9"
  },
  {
   "cell_type": "code",
   "execution_count": 9,
   "outputs": [
    {
     "name": "stderr",
     "output_type": "stream",
     "text": [
      "/var/folders/1j/287nr9g51b128plm6r3b3dsh0000gn/T/ipykernel_10054/1821589737.py:1: FutureWarning: The default value of numeric_only in DataFrameGroupBy.mean is deprecated. In a future version, numeric_only will default to False. Either specify numeric_only or select only columns which should be valid for the function.\n",
      "  ens_learn.groupby(['Name_File']).mean()\n"
     ]
    },
    {
     "data": {
      "text/plain": "                            Time       PSNR\nName_File                                  \nairplane.png           56.838509  51.610437\narea.png               55.811004  30.733185\nbaboon.png             56.283753  41.088331\nboat.png               56.774806  53.441274\nbtr.png                56.652626  45.933132\ngoldhill.png           57.918147  41.952661\npeppers.png            57.000434  51.042628\nstream_and_bridge.png  55.682945  42.247615\nyacht.png              57.039531  48.214711",
      "text/html": "<div>\n<style scoped>\n    .dataframe tbody tr th:only-of-type {\n        vertical-align: middle;\n    }\n\n    .dataframe tbody tr th {\n        vertical-align: top;\n    }\n\n    .dataframe thead th {\n        text-align: right;\n    }\n</style>\n<table border=\"1\" class=\"dataframe\">\n  <thead>\n    <tr style=\"text-align: right;\">\n      <th></th>\n      <th>Time</th>\n      <th>PSNR</th>\n    </tr>\n    <tr>\n      <th>Name_File</th>\n      <th></th>\n      <th></th>\n    </tr>\n  </thead>\n  <tbody>\n    <tr>\n      <th>airplane.png</th>\n      <td>56.838509</td>\n      <td>51.610437</td>\n    </tr>\n    <tr>\n      <th>area.png</th>\n      <td>55.811004</td>\n      <td>30.733185</td>\n    </tr>\n    <tr>\n      <th>baboon.png</th>\n      <td>56.283753</td>\n      <td>41.088331</td>\n    </tr>\n    <tr>\n      <th>boat.png</th>\n      <td>56.774806</td>\n      <td>53.441274</td>\n    </tr>\n    <tr>\n      <th>btr.png</th>\n      <td>56.652626</td>\n      <td>45.933132</td>\n    </tr>\n    <tr>\n      <th>goldhill.png</th>\n      <td>57.918147</td>\n      <td>41.952661</td>\n    </tr>\n    <tr>\n      <th>peppers.png</th>\n      <td>57.000434</td>\n      <td>51.042628</td>\n    </tr>\n    <tr>\n      <th>stream_and_bridge.png</th>\n      <td>55.682945</td>\n      <td>42.247615</td>\n    </tr>\n    <tr>\n      <th>yacht.png</th>\n      <td>57.039531</td>\n      <td>48.214711</td>\n    </tr>\n  </tbody>\n</table>\n</div>"
     },
     "execution_count": 9,
     "metadata": {},
     "output_type": "execute_result"
    }
   ],
   "source": [
    "ens_learn.groupby(['Name_File']).mean()"
   ],
   "metadata": {
    "collapsed": false,
    "ExecuteTime": {
     "end_time": "2024-06-05T00:57:10.376852Z",
     "start_time": "2024-06-05T00:57:10.356319Z"
    }
   },
   "id": "e772424facfcd1cf"
  },
  {
   "cell_type": "code",
   "execution_count": 9,
   "outputs": [
    {
     "name": "stderr",
     "output_type": "stream",
     "text": [
      "/var/folders/1j/287nr9g51b128plm6r3b3dsh0000gn/T/ipykernel_8996/235152563.py:1: FutureWarning: The default value of numeric_only in DataFrameGroupBy.mean is deprecated. In a future version, numeric_only will default to False. Either specify numeric_only or select only columns which should be valid for the function.\n",
      "  ens_alt.groupby(['Name_File']).mean()\n"
     ]
    },
    {
     "data": {
      "text/plain": "                            Time       PSNR\nName_File                                  \nairplane.png           64.259192  51.349918\narea.png               63.074331  30.599521\nbaboon.png             63.836636  40.655144\nboat.png               64.127129  53.150565\nbtr.png                64.379653  45.705872\ngoldhill.png           65.366057  41.872944\npeppers.png            64.499975  50.948986\nstream_and_bridge.png  63.294939  42.025181\nyacht.png              64.316767  47.906058",
      "text/html": "<div>\n<style scoped>\n    .dataframe tbody tr th:only-of-type {\n        vertical-align: middle;\n    }\n\n    .dataframe tbody tr th {\n        vertical-align: top;\n    }\n\n    .dataframe thead th {\n        text-align: right;\n    }\n</style>\n<table border=\"1\" class=\"dataframe\">\n  <thead>\n    <tr style=\"text-align: right;\">\n      <th></th>\n      <th>Time</th>\n      <th>PSNR</th>\n    </tr>\n    <tr>\n      <th>Name_File</th>\n      <th></th>\n      <th></th>\n    </tr>\n  </thead>\n  <tbody>\n    <tr>\n      <th>airplane.png</th>\n      <td>64.259192</td>\n      <td>51.349918</td>\n    </tr>\n    <tr>\n      <th>area.png</th>\n      <td>63.074331</td>\n      <td>30.599521</td>\n    </tr>\n    <tr>\n      <th>baboon.png</th>\n      <td>63.836636</td>\n      <td>40.655144</td>\n    </tr>\n    <tr>\n      <th>boat.png</th>\n      <td>64.127129</td>\n      <td>53.150565</td>\n    </tr>\n    <tr>\n      <th>btr.png</th>\n      <td>64.379653</td>\n      <td>45.705872</td>\n    </tr>\n    <tr>\n      <th>goldhill.png</th>\n      <td>65.366057</td>\n      <td>41.872944</td>\n    </tr>\n    <tr>\n      <th>peppers.png</th>\n      <td>64.499975</td>\n      <td>50.948986</td>\n    </tr>\n    <tr>\n      <th>stream_and_bridge.png</th>\n      <td>63.294939</td>\n      <td>42.025181</td>\n    </tr>\n    <tr>\n      <th>yacht.png</th>\n      <td>64.316767</td>\n      <td>47.906058</td>\n    </tr>\n  </tbody>\n</table>\n</div>"
     },
     "execution_count": 9,
     "metadata": {},
     "output_type": "execute_result"
    }
   ],
   "source": [
    "ens_alt.groupby(['Name_File']).mean()"
   ],
   "metadata": {
    "collapsed": false,
    "ExecuteTime": {
     "end_time": "2024-05-10T13:43:56.841280Z",
     "start_time": "2024-05-10T13:43:56.825971Z"
    }
   },
   "id": "28c10f89930eb853"
  },
  {
   "cell_type": "code",
   "execution_count": 16,
   "outputs": [
    {
     "name": "stderr",
     "output_type": "stream",
     "text": [
      "/var/folders/1j/287nr9g51b128plm6r3b3dsh0000gn/T/ipykernel_8996/677110584.py:1: FutureWarning: The default value of numeric_only in DataFrameGroupBy.mean is deprecated. In a future version, numeric_only will default to False. Either specify numeric_only or select only columns which should be valid for the function.\n",
      "  ens_learn.groupby('Name_Evr').mean().sort_values(by=['PSNR'], ascending=False).head(7)\n"
     ]
    },
    {
     "data": {
      "text/plain": "                   Time       PSNR\nName_Evr                          \nDE_HHO_FBIO   60.209665  46.213547\nHHO_GBO_IWO   73.723344  46.207675\nHHO_ABC_BBO   40.680344  46.206761\nFBIO_IWO_BBO  77.391429  46.139050\nPSO_HHO_BBO   33.065264  46.138906\nDE_HHO_ABC    42.076043  46.131626\nHHO_FBIO_IWO  86.745588  46.008507",
      "text/html": "<div>\n<style scoped>\n    .dataframe tbody tr th:only-of-type {\n        vertical-align: middle;\n    }\n\n    .dataframe tbody tr th {\n        vertical-align: top;\n    }\n\n    .dataframe thead th {\n        text-align: right;\n    }\n</style>\n<table border=\"1\" class=\"dataframe\">\n  <thead>\n    <tr style=\"text-align: right;\">\n      <th></th>\n      <th>Time</th>\n      <th>PSNR</th>\n    </tr>\n    <tr>\n      <th>Name_Evr</th>\n      <th></th>\n      <th></th>\n    </tr>\n  </thead>\n  <tbody>\n    <tr>\n      <th>DE_HHO_FBIO</th>\n      <td>60.209665</td>\n      <td>46.213547</td>\n    </tr>\n    <tr>\n      <th>HHO_GBO_IWO</th>\n      <td>73.723344</td>\n      <td>46.207675</td>\n    </tr>\n    <tr>\n      <th>HHO_ABC_BBO</th>\n      <td>40.680344</td>\n      <td>46.206761</td>\n    </tr>\n    <tr>\n      <th>FBIO_IWO_BBO</th>\n      <td>77.391429</td>\n      <td>46.139050</td>\n    </tr>\n    <tr>\n      <th>PSO_HHO_BBO</th>\n      <td>33.065264</td>\n      <td>46.138906</td>\n    </tr>\n    <tr>\n      <th>DE_HHO_ABC</th>\n      <td>42.076043</td>\n      <td>46.131626</td>\n    </tr>\n    <tr>\n      <th>HHO_FBIO_IWO</th>\n      <td>86.745588</td>\n      <td>46.008507</td>\n    </tr>\n  </tbody>\n</table>\n</div>"
     },
     "execution_count": 16,
     "metadata": {},
     "output_type": "execute_result"
    }
   ],
   "source": [
    "ens_learn.groupby('Name_Evr').mean().sort_values(by=['PSNR'], ascending=False).head(7)"
   ],
   "metadata": {
    "collapsed": false,
    "ExecuteTime": {
     "end_time": "2024-05-12T13:01:28.181833Z",
     "start_time": "2024-05-12T13:01:28.172648Z"
    }
   },
   "id": "16fe86d070711446"
  },
  {
   "cell_type": "code",
   "execution_count": 18,
   "outputs": [
    {
     "name": "stderr",
     "output_type": "stream",
     "text": [
      "/var/folders/1j/287nr9g51b128plm6r3b3dsh0000gn/T/ipykernel_8996/1292014365.py:1: FutureWarning: The default value of numeric_only in DataFrameGroupBy.mean is deprecated. In a future version, numeric_only will default to False. Either specify numeric_only or select only columns which should be valid for the function.\n",
      "  ens_learn.groupby('Name_Evr').mean().sort_values(by=['PSNR']).head(7)\n"
     ]
    },
    {
     "data": {
      "text/plain": "                   Time       PSNR\nName_Evr                          \nDE_FBIO_GBO   65.714978  43.722375\nPSO_FBIO_GBO  67.883045  43.921033\nPSO_GBO_CA    34.409986  44.026282\nDE_PSO_GBO    40.615302  44.042831\nGBO_ABC_ACO   70.149182  44.074202\nDE_CA_ACO     51.451969  44.102797\nPSO_FBIO_ACO  74.289392  44.108621",
      "text/html": "<div>\n<style scoped>\n    .dataframe tbody tr th:only-of-type {\n        vertical-align: middle;\n    }\n\n    .dataframe tbody tr th {\n        vertical-align: top;\n    }\n\n    .dataframe thead th {\n        text-align: right;\n    }\n</style>\n<table border=\"1\" class=\"dataframe\">\n  <thead>\n    <tr style=\"text-align: right;\">\n      <th></th>\n      <th>Time</th>\n      <th>PSNR</th>\n    </tr>\n    <tr>\n      <th>Name_Evr</th>\n      <th></th>\n      <th></th>\n    </tr>\n  </thead>\n  <tbody>\n    <tr>\n      <th>DE_FBIO_GBO</th>\n      <td>65.714978</td>\n      <td>43.722375</td>\n    </tr>\n    <tr>\n      <th>PSO_FBIO_GBO</th>\n      <td>67.883045</td>\n      <td>43.921033</td>\n    </tr>\n    <tr>\n      <th>PSO_GBO_CA</th>\n      <td>34.409986</td>\n      <td>44.026282</td>\n    </tr>\n    <tr>\n      <th>DE_PSO_GBO</th>\n      <td>40.615302</td>\n      <td>44.042831</td>\n    </tr>\n    <tr>\n      <th>GBO_ABC_ACO</th>\n      <td>70.149182</td>\n      <td>44.074202</td>\n    </tr>\n    <tr>\n      <th>DE_CA_ACO</th>\n      <td>51.451969</td>\n      <td>44.102797</td>\n    </tr>\n    <tr>\n      <th>PSO_FBIO_ACO</th>\n      <td>74.289392</td>\n      <td>44.108621</td>\n    </tr>\n  </tbody>\n</table>\n</div>"
     },
     "execution_count": 18,
     "metadata": {},
     "output_type": "execute_result"
    }
   ],
   "source": [
    "ens_learn.groupby('Name_Evr').mean().sort_values(by=['PSNR']).head(7)"
   ],
   "metadata": {
    "collapsed": false,
    "ExecuteTime": {
     "end_time": "2024-05-12T13:20:37.890150Z",
     "start_time": "2024-05-12T13:20:37.859228Z"
    }
   },
   "id": "d1e4329802e4bc4d"
  },
  {
   "cell_type": "code",
   "execution_count": null,
   "outputs": [],
   "source": [],
   "metadata": {
    "collapsed": false
   },
   "id": "311b63910ffe436f"
  }
 ],
 "metadata": {
  "kernelspec": {
   "display_name": "Python 3",
   "language": "python",
   "name": "python3"
  },
  "language_info": {
   "codemirror_mode": {
    "name": "ipython",
    "version": 2
   },
   "file_extension": ".py",
   "mimetype": "text/x-python",
   "name": "python",
   "nbconvert_exporter": "python",
   "pygments_lexer": "ipython2",
   "version": "2.7.6"
  }
 },
 "nbformat": 4,
 "nbformat_minor": 5
}

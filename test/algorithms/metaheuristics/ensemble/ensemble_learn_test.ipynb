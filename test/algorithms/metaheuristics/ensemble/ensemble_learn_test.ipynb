{
 "cells": [
  {
   "cell_type": "code",
   "execution_count": 248,
   "id": "initial_id",
   "metadata": {
    "collapsed": true,
    "ExecuteTime": {
     "end_time": "2024-04-10T21:37:16.237673Z",
     "start_time": "2024-04-10T21:37:16.224445Z"
    }
   },
   "outputs": [],
   "source": [
    "import numpy as np\n",
    "\n",
    "from algorithms.metaheuristics.abc import ABC\n",
    "from algorithms.metaheuristics.hho import HHO\n",
    "from utils.functions import ackley_function"
   ]
  },
  {
   "cell_type": "code",
   "execution_count": 249,
   "outputs": [],
   "source": [
    "\n",
    "# 0\n",
    "problem_ackley = {\n",
    "    \"fit_func\": ackley_function,\n",
    "    \"lb\": [-32.768, -32.768],\n",
    "    \"ub\": [32.768, 32.768],\n",
    "    \"minmax\": \"min\",\n",
    "    \"log_to\": None,\n",
    "    \"save_population\": False,\n",
    "}"
   ],
   "metadata": {
    "collapsed": false,
    "ExecuteTime": {
     "end_time": "2024-04-10T21:37:16.237937Z",
     "start_time": "2024-04-10T21:37:16.226901Z"
    }
   },
   "id": "83ead5dae81d9620"
  },
  {
   "cell_type": "code",
   "execution_count": 250,
   "outputs": [
    {
     "name": "stdout",
     "output_type": "stream",
     "text": [
      "Best solution: [-0.02949483 -0.00751294], Best fitness: 0.11057667692061202\n"
     ]
    }
   ],
   "source": [
    "hho = HHO(epoch=5, pop_size=50)\n",
    "best_position, best_fitness = hho.solve(problem_ackley)\n",
    "print(f\"Best solution: {best_position}, Best fitness: {best_fitness}\")"
   ],
   "metadata": {
    "collapsed": false,
    "ExecuteTime": {
     "end_time": "2024-04-10T21:37:16.253454Z",
     "start_time": "2024-04-10T21:37:16.230215Z"
    }
   },
   "id": "4e1fb8450c7af36e"
  },
  {
   "cell_type": "code",
   "execution_count": 251,
   "outputs": [
    {
     "name": "stdout",
     "output_type": "stream",
     "text": [
      "Best solution: [-0.00019156 -0.00013198], Best fitness: 0.0006593975558857323\n"
     ]
    }
   ],
   "source": [
    "abc = ABC(epoch=5, pop_size=50)\n",
    "best_position, best_fitness = abc.solve(problem_ackley, starting_positions=[best_position + np.random.uniform(-1, 1) * 0.1 for _ in range(50)])\n",
    "print(f\"Best solution: {best_position}, Best fitness: {best_fitness}\")"
   ],
   "metadata": {
    "collapsed": false,
    "ExecuteTime": {
     "end_time": "2024-04-10T21:37:16.272406Z",
     "start_time": "2024-04-10T21:37:16.248671Z"
    }
   },
   "id": "d49a7a041e010323"
  },
  {
   "cell_type": "code",
   "execution_count": 252,
   "outputs": [
    {
     "name": "stdout",
     "output_type": "stream",
     "text": [
      "Best solution: [ 2.29748645e-06 -2.80375389e-06], Best fitness: 1.0252951451406034e-05\n"
     ]
    }
   ],
   "source": [
    "best_position, best_fitness = hho.solve(problem_ackley, starting_positions=[best_position + np.random.uniform(-1, 1) * 0.01 for _ in range(50)])\n",
    "print(f\"Best solution: {best_position}, Best fitness: {best_fitness}\")"
   ],
   "metadata": {
    "collapsed": false,
    "ExecuteTime": {
     "end_time": "2024-04-10T21:37:16.295774Z",
     "start_time": "2024-04-10T21:37:16.268730Z"
    }
   },
   "id": "ba448e62f9f6e0e9"
  },
  {
   "cell_type": "code",
   "execution_count": 252,
   "outputs": [],
   "source": [],
   "metadata": {
    "collapsed": false,
    "ExecuteTime": {
     "end_time": "2024-04-10T21:37:16.296001Z",
     "start_time": "2024-04-10T21:37:16.281414Z"
    }
   },
   "id": "2dbc96a03d38cd1e"
  }
 ],
 "metadata": {
  "kernelspec": {
   "display_name": "Python 3",
   "language": "python",
   "name": "python3"
  },
  "language_info": {
   "codemirror_mode": {
    "name": "ipython",
    "version": 2
   },
   "file_extension": ".py",
   "mimetype": "text/x-python",
   "name": "python",
   "nbconvert_exporter": "python",
   "pygments_lexer": "ipython2",
   "version": "2.7.6"
  }
 },
 "nbformat": 4,
 "nbformat_minor": 5
}

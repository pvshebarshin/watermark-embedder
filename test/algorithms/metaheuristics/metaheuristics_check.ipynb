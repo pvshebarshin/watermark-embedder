{
 "cells": [
  {
   "cell_type": "code",
   "execution_count": 1,
   "id": "initial_id",
   "metadata": {
    "collapsed": true,
    "ExecuteTime": {
     "end_time": "2024-03-10T18:29:53.794290Z",
     "start_time": "2024-03-10T18:29:50.488459Z"
    }
   },
   "outputs": [],
   "source": [
    "from src.algorithms.metaheuristics.abc import *\n",
    "from src.algorithms.metaheuristics.aco import *\n",
    "from src.algorithms.metaheuristics.bbo import *\n",
    "from src.algorithms.metaheuristics.ca import *\n",
    "from src.algorithms.metaheuristics.ga import *\n",
    "from src.algorithms.metaheuristics.hho import *\n",
    "from src.algorithms.metaheuristics.iwo import *\n",
    "\n",
    "from src.utils.functions import *\n",
    "\n",
    "import os.path\n",
    "import csv\n",
    "import time\n",
    "from numpy import fabs, pi"
   ]
  },
  {
   "cell_type": "code",
   "execution_count": 2,
   "outputs": [],
   "source": [
    "# -1\n",
    "problem_easom = {\n",
    "    \"fit_func\": easom_function,\n",
    "    \"lb\": [-100, -100],\n",
    "    \"ub\": [100, 100],\n",
    "    \"minmax\": \"min\",\n",
    "    \"log_to\": None,\n",
    "    \"save_population\": False,\n",
    "}\n",
    "\n",
    "# 0\n",
    "problem_ackley = {\n",
    "    \"fit_func\": ackley_function,\n",
    "    \"lb\": [-32.768, -32.768],\n",
    "    \"ub\": [32.768, 32.768],\n",
    "    \"minmax\": \"min\",\n",
    "    \"log_to\": None,\n",
    "    \"save_population\": False,\n",
    "}\n",
    "\n",
    "# -195.629028238419\n",
    "problem_ackley_3 = {\n",
    "    \"fit_func\": ackley_function_3,\n",
    "    \"lb\": [-32, -32],\n",
    "    \"ub\": [32, 32],\n",
    "    \"minmax\": \"min\",\n",
    "    \"log_to\": None,\n",
    "    \"save_population\": False,\n",
    "}\n",
    "\n",
    "# -0.673667521146855\n",
    "problem_keane = {\n",
    "    \"fit_func\": keane_function,\n",
    "    \"lb\": [-10, -10],\n",
    "    \"ub\": [10, 10],\n",
    "    \"minmax\": \"min\",\n",
    "    \"log_to\": None,\n",
    "    \"save_population\": False,\n",
    "}\n",
    "\n",
    "# -1.8013\n",
    "problem_michaelwicz = {\n",
    "    \"fit_func\": michaelwicz_function,\n",
    "    \"lb\": [0, 0],\n",
    "    \"ub\": [3.2, 3.2],\n",
    "    \"minmax\": \"min\",\n",
    "    \"log_to\": None,\n",
    "    \"save_population\": False,\n",
    "}\n",
    "\n",
    "# 0\n",
    "problem_rosenbrook = {\n",
    "    \"fit_func\": rosenbrook_function,\n",
    "    \"lb\": [-5, -5],\n",
    "    \"ub\": [10, 10],\n",
    "    \"minmax\": \"min\",\n",
    "    \"log_to\": None,\n",
    "    \"save_population\": False,\n",
    "}\n",
    "\n",
    "# 0\n",
    "problem_nonsmooth_multipeak = {\n",
    "    \"fit_func\": nonsmooth_multipeak_function,\n",
    "    \"lb\": [0, 0],\n",
    "    \"ub\": [3, 3],\n",
    "    \"minmax\": \"min\",\n",
    "    \"log_to\": None,\n",
    "    \"save_population\": False,\n",
    "}\n",
    "\n",
    "# 0\n",
    "problem_brown = {\n",
    "    \"fit_func\": brown_function,\n",
    "    \"lb\": [-4, -4],\n",
    "    \"ub\": [4, 4],\n",
    "    \"minmax\": \"min\",\n",
    "    \"log_to\": None,\n",
    "    \"save_population\": False,\n",
    "}\n",
    "\n",
    "# 0\n",
    "problem_levin_13 = {\n",
    "    \"fit_func\": levin_function_13,\n",
    "    \"lb\": [-10, -10],\n",
    "    \"ub\": [10, 10],\n",
    "    \"minmax\": \"min\",\n",
    "    \"log_to\": None,\n",
    "    \"save_population\": False,\n",
    "}\n",
    "\n",
    "# -106.764537\n",
    "problem_bird = {\n",
    "    \"fit_func\": bird_function,\n",
    "    \"lb\": [-2 * pi, -2 * pi],\n",
    "    \"ub\": [2 * pi, 2 * pi],\n",
    "    \"minmax\": \"min\",\n",
    "    \"log_to\": None,\n",
    "    \"save_population\": False,\n",
    "}\n",
    "\n",
    "# 0\n",
    "problem_schwefel = {\n",
    "    \"fit_func\": schwefel_function,\n",
    "    \"lb\": [-500, -500],\n",
    "    \"ub\": [500, 500],\n",
    "    \"minmax\": \"min\",\n",
    "    \"log_to\": None,\n",
    "    \"save_population\": False,\n",
    "}\n",
    "\n",
    "# 0\n",
    "problem_brent = {\n",
    "    \"fit_func\": brent_function,\n",
    "    \"lb\": [-20, -20],\n",
    "    \"ub\": [0, 0],\n",
    "    \"minmax\": \"min\",\n",
    "    \"log_to\": None,\n",
    "    \"save_population\": False,\n",
    "}\n",
    "\n",
    "# -24771.09375\n",
    "problem_deckkers_aarts = {\n",
    "    \"fit_func\": deckkers_aarts_function,\n",
    "    \"lb\": [-20, -20],\n",
    "    \"ub\": [20, 20],\n",
    "    \"minmax\": \"min\",\n",
    "    \"log_to\": None,\n",
    "    \"save_population\": False,\n",
    "}\n",
    "\n",
    "# -2\n",
    "problem_xin_she_yang_4 = {\n",
    "    \"fit_func\": xin_she_yang_function_4,\n",
    "    \"lb\": [-10, -10],\n",
    "    \"ub\": [10, 10],\n",
    "    \"minmax\": \"min\",\n",
    "    \"log_to\": None,\n",
    "    \"save_population\": False,\n",
    "}\n",
    "\n",
    "# -959.6407\n",
    "problem_eggholder = {\n",
    "    \"fit_func\": eggholder_function,\n",
    "    \"lb\": [-512, -512],\n",
    "    \"ub\": [512, 512],\n",
    "    \"minmax\": \"min\",\n",
    "    \"log_to\": None,\n",
    "    \"save_population\": False,\n",
    "}\n",
    "\n",
    "# -186.7309\n",
    "problem_shubert = {\n",
    "    \"fit_func\": shubert_function,\n",
    "    \"lb\": [-10, -10],\n",
    "    \"ub\": [10, 10],\n",
    "    \"minmax\": \"min\",\n",
    "    \"log_to\": None,\n",
    "    \"save_population\": False,\n",
    "}\n",
    "\n",
    "# 0\n",
    "problem_schaffer = {\n",
    "    \"fit_func\": schaffer_function,\n",
    "    \"lb\": [-10, -10],\n",
    "    \"ub\": [10, 10],\n",
    "    \"minmax\": \"min\",\n",
    "    \"log_to\": None,\n",
    "    \"save_population\": False,\n",
    "}\n",
    "\n",
    "# -25.740858\n",
    "problem_shubert_4 = {\n",
    "    \"fit_func\": shubert_function_4,\n",
    "    \"lb\": [-10, -10],\n",
    "    \"ub\": [10, 10],\n",
    "    \"minmax\": \"min\",\n",
    "    \"log_to\": None,\n",
    "    \"save_population\": False,\n",
    "}\n",
    "\n",
    "# -1\n",
    "problem_drop_wave = {\n",
    "    \"fit_func\": drop_wave_function,\n",
    "    \"lb\": [-10, -10],\n",
    "    \"ub\": [10, 10],\n",
    "    \"minmax\": \"min\",\n",
    "    \"log_to\": None,\n",
    "    \"save_population\": False,\n",
    "}\n",
    "\n",
    "# -2.06261\n",
    "problem_cross_in_tray = {\n",
    "    \"fit_func\": cross_in_tray_function,\n",
    "    \"lb\": [-10, -10],\n",
    "    \"ub\": [10, 10],\n",
    "    \"minmax\": \"min\",\n",
    "    \"log_to\": None,\n",
    "    \"save_population\": False,\n",
    "}\n",
    "\n",
    "# Composite:\n",
    "\n",
    "# 249.1391477271118\n",
    "problem_composite_xin_she_yang_4_schwefel_function = {\n",
    "    \"fit_func\": composite_xin_she_yang_4_schwefel_function,\n",
    "    \"lb\": [-10, -10],\n",
    "    \"ub\": [10, 10],\n",
    "    \"minmax\": \"min\",\n",
    "    \"log_to\": None,\n",
    "    \"save_population\": False,\n",
    "}\n",
    "\n",
    "# -1.268712223626797\n",
    "problem_composite_cross_in_tray_drop_wave_function = {\n",
    "    \"fit_func\": composite_cross_in_tray_drop_wave_function,\n",
    "    \"lb\": [-5.12, -5.12],\n",
    "    \"ub\": [5.12, 5.12],\n",
    "    \"minmax\": \"min\",\n",
    "    \"log_to\": None,\n",
    "    \"save_population\": False,\n",
    "}\n",
    "\n",
    "# -0.8\n",
    "problem_composite_schaffer_drop_wave_function = {\n",
    "    \"fit_func\": composite_schaffer_drop_wave_function,\n",
    "    \"lb\": [-5.12, -5.12],\n",
    "    \"ub\": [5.12, 5.12],\n",
    "    \"minmax\": \"min\",\n",
    "    \"log_to\": None,\n",
    "    \"save_population\": False,\n",
    "}\n",
    "\n",
    "# -92.54689320077729\n",
    "problem_composite_shubert_function = {\n",
    "    \"fit_func\": composite_shubert_function,\n",
    "    \"lb\": [-10, -10],\n",
    "    \"ub\": [10, 10],\n",
    "    \"minmax\": \"min\",\n",
    "    \"log_to\": None,\n",
    "    \"save_population\": False,\n",
    "}\n",
    "\n",
    "# -13.128066255311966\n",
    "problem_composite_shubert_4_levin_function_13 = {\n",
    "    \"fit_func\": composite_shubert_4_levin_function_13,\n",
    "    \"lb\": [-10, -10],\n",
    "    \"ub\": [10, 10],\n",
    "    \"minmax\": \"min\",\n",
    "    \"log_to\": None,\n",
    "    \"save_population\": False,\n",
    "}"
   ],
   "metadata": {
    "collapsed": false,
    "ExecuteTime": {
     "end_time": "2024-03-10T18:37:18.640213Z",
     "start_time": "2024-03-10T18:37:18.625635Z"
    }
   },
   "id": "bdb0dd284ded02a0"
  },
  {
   "cell_type": "code",
   "execution_count": 3,
   "outputs": [
    {
     "name": "stdout",
     "output_type": "stream",
     "text": [
      "Best solution: [-4.69618238e-05 -1.98125375e-05], Best fitness: 2.5979218776228663e-12\n"
     ]
    }
   ],
   "source": [
    "pop_size = 50\n",
    "seed_min = 3\n",
    "seed_max = 9\n",
    "exponent = 3\n",
    "sigma_start = 0.6\n",
    "sigma_end = 0.01\n",
    "epoch = 100\n",
    "\n",
    "# IWO\n",
    "model = IWO(epoch, pop_size, seed_min, seed_max, exponent, sigma_start, sigma_end)\n",
    "best_position, best_fitness = model.solve(problem_schaffer)\n",
    "print(f\"Best solution: {best_position}, Best fitness: {best_fitness}\")"
   ],
   "metadata": {
    "collapsed": false,
    "ExecuteTime": {
     "end_time": "2024-03-10T18:38:38.974325Z",
     "start_time": "2024-03-10T18:38:38.553131Z"
    }
   },
   "id": "928b0a003673def3"
  },
  {
   "cell_type": "code",
   "execution_count": 4,
   "outputs": [
    {
     "name": "stdout",
     "output_type": "stream",
     "text": [
      "Best solution: [-2.63112676e-07 -1.07826115e-07], Best fitness: 0.0\n"
     ]
    }
   ],
   "source": [
    "pop_size = 50\n",
    "\n",
    "# HHO\n",
    "model = HHO(epoch, pop_size)\n",
    "best_position, best_fitness = model.solve(problem_schaffer)\n",
    "print(f\"Best solution: {best_position}, Best fitness: {best_fitness}\")"
   ],
   "metadata": {
    "collapsed": false,
    "ExecuteTime": {
     "end_time": "2024-03-10T18:44:35.309024Z",
     "start_time": "2024-03-10T18:44:35.113500Z"
    }
   },
   "id": "2c98acac8582bd0f"
  },
  {
   "cell_type": "code",
   "execution_count": 5,
   "outputs": [
    {
     "name": "stdout",
     "output_type": "stream",
     "text": [
      "Best solution: [1.29671620e-07 1.95290535e-07], Best fitness: 0.0\n"
     ]
    }
   ],
   "source": [
    "n_limits = 50\n",
    "pop_size = 50\n",
    "\n",
    "# ABC\n",
    "model = ABC(epoch, pop_size, n_limits)\n",
    "best_position, best_fitness = model.solve(problem_schaffer)\n",
    "print(f\"Best solution: {best_position}, Best fitness: {best_fitness}\")"
   ],
   "metadata": {
    "collapsed": false,
    "ExecuteTime": {
     "end_time": "2024-03-10T18:45:11.370281Z",
     "start_time": "2024-03-10T18:45:11.047352Z"
    }
   },
   "id": "48c0488a08fadc34"
  },
  {
   "cell_type": "code",
   "execution_count": 6,
   "outputs": [
    {
     "name": "stdout",
     "output_type": "stream",
     "text": [
      "Best solution: [-1.4125139   0.70661763], Best fitness: 0.006139067319891833\n"
     ]
    }
   ],
   "source": [
    "pop_size = 50\n",
    "p_m = 0.01\n",
    "elites = 2\n",
    "\n",
    "# BBO\n",
    "model = BBO(epoch, pop_size, p_m, elites)\n",
    "best_position, best_fitness = model.solve(problem_schaffer)\n",
    "print(f\"Best solution: {best_position}, Best fitness: {best_fitness}\")"
   ],
   "metadata": {
    "collapsed": false,
    "ExecuteTime": {
     "end_time": "2024-03-10T18:45:37.623072Z",
     "start_time": "2024-03-10T18:45:37.437952Z"
    }
   },
   "id": "e8775f19272aac6d"
  },
  {
   "cell_type": "code",
   "execution_count": 7,
   "outputs": [
    {
     "name": "stdout",
     "output_type": "stream",
     "text": [
      "Best solution: [-0.96357671  2.28269613], Best fitness: 0.0061733843517221\n"
     ]
    }
   ],
   "source": [
    "accepted_rate = 0.15\n",
    "pop_size = 50\n",
    "\n",
    "# CA\n",
    "model = CA(epoch, pop_size, accepted_rate)\n",
    "best_position, best_fitness = model.solve(problem_schaffer)\n",
    "print(f\"Best solution: {best_position}, Best fitness: {best_fitness}\")"
   ],
   "metadata": {
    "collapsed": false,
    "ExecuteTime": {
     "end_time": "2024-03-10T18:46:00.994574Z",
     "start_time": "2024-03-10T18:46:00.819923Z"
    }
   },
   "id": "edad3e06f9051e3a"
  },
  {
   "cell_type": "code",
   "execution_count": 8,
   "outputs": [
    {
     "name": "stdout",
     "output_type": "stream",
     "text": [
      "Best solution: [ 1.61465802 -0.67440923], Best fitness: 0.005456816101223061\n"
     ]
    }
   ],
   "source": [
    "pop_size = 50\n",
    "pc = 0.9\n",
    "pm = 0.05\n",
    "selection = \"roulette\"\n",
    "crossover = \"uniform\"\n",
    "mutation = \"swap\"\n",
    "\n",
    "# GA\n",
    "model = GA(epoch, pop_size, pc, pm, selection, crossover, mutation)\n",
    "best_position, best_fitness = model.solve(problem_schaffer)\n",
    "print(f\"Best solution: {best_position}, Best fitness: {best_fitness}\")"
   ],
   "metadata": {
    "collapsed": false,
    "ExecuteTime": {
     "end_time": "2024-03-10T18:46:25.304006Z",
     "start_time": "2024-03-10T18:46:25.073876Z"
    }
   },
   "id": "aeb9f39e95c58f38"
  },
  {
   "cell_type": "code",
   "execution_count": 9,
   "outputs": [
    {
     "name": "stdout",
     "output_type": "stream",
     "text": [
      "Best solution: [-0.00590882 -0.00431063], Best fitness: 5.349565340706519e-08\n"
     ]
    }
   ],
   "source": [
    "pop_size = 50\n",
    "sample_count = 25\n",
    "intent_factor = 0.5\n",
    "zeta = 1.0\n",
    "\n",
    "# ACO\n",
    "model = ACO(epoch, pop_size, sample_count, intent_factor, zeta)\n",
    "best_position, best_fitness = model.solve(problem_schaffer)\n",
    "print(f\"Best solution: {best_position}, Best fitness: {best_fitness}\")"
   ],
   "metadata": {
    "collapsed": false,
    "ExecuteTime": {
     "end_time": "2024-03-10T18:46:53.416223Z",
     "start_time": "2024-03-10T18:46:53.212875Z"
    }
   },
   "id": "703da89c89326860"
  },
  {
   "cell_type": "code",
   "execution_count": null,
   "outputs": [],
   "source": [],
   "metadata": {
    "collapsed": false
   },
   "id": "4c42c13bc2eeb0c2"
  }
 ],
 "metadata": {
  "kernelspec": {
   "display_name": "Python 3",
   "language": "python",
   "name": "python3"
  },
  "language_info": {
   "codemirror_mode": {
    "name": "ipython",
    "version": 2
   },
   "file_extension": ".py",
   "mimetype": "text/x-python",
   "name": "python",
   "nbconvert_exporter": "python",
   "pygments_lexer": "ipython2",
   "version": "2.7.6"
  }
 },
 "nbformat": 4,
 "nbformat_minor": 5
}

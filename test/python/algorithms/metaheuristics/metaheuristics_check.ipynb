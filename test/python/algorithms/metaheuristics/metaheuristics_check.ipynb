{
 "cells": [
  {
   "cell_type": "code",
   "execution_count": 1,
   "id": "initial_id",
   "metadata": {
    "collapsed": true,
    "ExecuteTime": {
     "end_time": "2024-03-20T11:49:43.476555Z",
     "start_time": "2024-03-20T11:49:42.564148Z"
    }
   },
   "outputs": [],
   "source": [
    "from algorithms.metaheuristics.fbio import *\n",
    "from src.algorithms.metaheuristics.abc import *\n",
    "from src.algorithms.metaheuristics.aco import *\n",
    "from src.algorithms.metaheuristics.bbo import *\n",
    "from src.algorithms.metaheuristics.ca import *\n",
    "from src.algorithms.metaheuristics.de import *\n",
    "from src.algorithms.metaheuristics.gbo import *\n",
    "from src.algorithms.metaheuristics.hho import *\n",
    "from src.algorithms.metaheuristics.iwo import *\n",
    "from src.algorithms.metaheuristics.pso import *\n",
    "from src.utils.functions import *"
   ]
  },
  {
   "cell_type": "code",
   "execution_count": 2,
   "outputs": [],
   "source": [
    "# -1\n",
    "problem_easom = {\n",
    "    \"fit_func\": easom_function,\n",
    "    \"lb\": [-100, -100],\n",
    "    \"ub\": [100, 100],\n",
    "    \"minmax\": \"min\",\n",
    "    \"log_to\": None,\n",
    "    \"save_population\": False,\n",
    "}\n",
    "\n",
    "# 0\n",
    "problem_ackley = {\n",
    "    \"fit_func\": ackley_function,\n",
    "    \"lb\": [-32.768, -32.768],\n",
    "    \"ub\": [32.768, 32.768],\n",
    "    \"minmax\": \"min\",\n",
    "    \"log_to\": None,\n",
    "    \"save_population\": False,\n",
    "}\n",
    "\n",
    "# -195.629028238419\n",
    "problem_ackley_3 = {\n",
    "    \"fit_func\": ackley_function_3,\n",
    "    \"lb\": [-32, -32],\n",
    "    \"ub\": [32, 32],\n",
    "    \"minmax\": \"min\",\n",
    "    \"log_to\": None,\n",
    "    \"save_population\": False,\n",
    "}\n",
    "\n",
    "# -0.673667521146855\n",
    "problem_keane = {\n",
    "    \"fit_func\": keane_function,\n",
    "    \"lb\": [-10, -10],\n",
    "    \"ub\": [10, 10],\n",
    "    \"minmax\": \"min\",\n",
    "    \"log_to\": None,\n",
    "    \"save_population\": False,\n",
    "}\n",
    "\n",
    "# -1.8013\n",
    "problem_michaelwicz = {\n",
    "    \"fit_func\": michaelwicz_function,\n",
    "    \"lb\": [0, 0],\n",
    "    \"ub\": [3.2, 3.2],\n",
    "    \"minmax\": \"min\",\n",
    "    \"log_to\": None,\n",
    "    \"save_population\": False,\n",
    "}\n",
    "\n",
    "# 0\n",
    "problem_rosenbrook = {\n",
    "    \"fit_func\": rosenbrook_function,\n",
    "    \"lb\": [-5, -5],\n",
    "    \"ub\": [10, 10],\n",
    "    \"minmax\": \"min\",\n",
    "    \"log_to\": None,\n",
    "    \"save_population\": False,\n",
    "}\n",
    "\n",
    "# 0\n",
    "problem_nonsmooth_multipeak = {\n",
    "    \"fit_func\": nonsmooth_multipeak_function,\n",
    "    \"lb\": [0, 0],\n",
    "    \"ub\": [3, 3],\n",
    "    \"minmax\": \"min\",\n",
    "    \"log_to\": None,\n",
    "    \"save_population\": False,\n",
    "}\n",
    "\n",
    "# 0\n",
    "problem_brown = {\n",
    "    \"fit_func\": brown_function,\n",
    "    \"lb\": [-4, -4],\n",
    "    \"ub\": [4, 4],\n",
    "    \"minmax\": \"min\",\n",
    "    \"log_to\": None,\n",
    "    \"save_population\": False,\n",
    "}\n",
    "\n",
    "# 0\n",
    "problem_levin_13 = {\n",
    "    \"fit_func\": levin_function_13,\n",
    "    \"lb\": [-10, -10],\n",
    "    \"ub\": [10, 10],\n",
    "    \"minmax\": \"min\",\n",
    "    \"log_to\": None,\n",
    "    \"save_population\": False,\n",
    "}\n",
    "\n",
    "# -106.764537\n",
    "problem_bird = {\n",
    "    \"fit_func\": bird_function,\n",
    "    \"lb\": [-2 * pi, -2 * pi],\n",
    "    \"ub\": [2 * pi, 2 * pi],\n",
    "    \"minmax\": \"min\",\n",
    "    \"log_to\": None,\n",
    "    \"save_population\": False,\n",
    "}\n",
    "\n",
    "# 0\n",
    "problem_schwefel = {\n",
    "    \"fit_func\": schwefel_function,\n",
    "    \"lb\": [-500, -500],\n",
    "    \"ub\": [500, 500],\n",
    "    \"minmax\": \"min\",\n",
    "    \"log_to\": None,\n",
    "    \"save_population\": False,\n",
    "}\n",
    "\n",
    "# 0\n",
    "problem_brent = {\n",
    "    \"fit_func\": brent_function,\n",
    "    \"lb\": [-20, -20],\n",
    "    \"ub\": [0, 0],\n",
    "    \"minmax\": \"min\",\n",
    "    \"log_to\": None,\n",
    "    \"save_population\": False,\n",
    "}\n",
    "\n",
    "# -24771.09375\n",
    "problem_deckkers_aarts = {\n",
    "    \"fit_func\": deckkers_aarts_function,\n",
    "    \"lb\": [-20, -20],\n",
    "    \"ub\": [20, 20],\n",
    "    \"minmax\": \"min\",\n",
    "    \"log_to\": None,\n",
    "    \"save_population\": False,\n",
    "}\n",
    "\n",
    "# -2\n",
    "problem_xin_she_yang_4 = {\n",
    "    \"fit_func\": xin_she_yang_function_4,\n",
    "    \"lb\": [-10, -10],\n",
    "    \"ub\": [10, 10],\n",
    "    \"minmax\": \"min\",\n",
    "    \"log_to\": None,\n",
    "    \"save_population\": False,\n",
    "}\n",
    "\n",
    "# -959.6407\n",
    "problem_eggholder = {\n",
    "    \"fit_func\": eggholder_function,\n",
    "    \"lb\": [-512, -512],\n",
    "    \"ub\": [512, 512],\n",
    "    \"minmax\": \"min\",\n",
    "    \"log_to\": None,\n",
    "    \"save_population\": False,\n",
    "}\n",
    "\n",
    "# -186.7309\n",
    "problem_shubert = {\n",
    "    \"fit_func\": shubert_function,\n",
    "    \"lb\": [-10, -10],\n",
    "    \"ub\": [10, 10],\n",
    "    \"minmax\": \"min\",\n",
    "    \"log_to\": None,\n",
    "    \"save_population\": False,\n",
    "}\n",
    "\n",
    "# 0\n",
    "problem_schaffer = {\n",
    "    \"fit_func\": schaffer_function,\n",
    "    \"lb\": [-10, -10],\n",
    "    \"ub\": [10, 10],\n",
    "    \"minmax\": \"min\",\n",
    "    \"log_to\": None,\n",
    "    \"save_population\": False,\n",
    "}\n",
    "\n",
    "# -25.740858\n",
    "problem_shubert_4 = {\n",
    "    \"fit_func\": shubert_function_4,\n",
    "    \"lb\": [-10, -10],\n",
    "    \"ub\": [10, 10],\n",
    "    \"minmax\": \"min\",\n",
    "    \"log_to\": None,\n",
    "    \"save_population\": False,\n",
    "}\n",
    "\n",
    "# -1\n",
    "problem_drop_wave = {\n",
    "    \"fit_func\": drop_wave_function,\n",
    "    \"lb\": [-10, -10],\n",
    "    \"ub\": [10, 10],\n",
    "    \"minmax\": \"min\",\n",
    "    \"log_to\": None,\n",
    "    \"save_population\": False,\n",
    "}\n",
    "\n",
    "# -2.06261\n",
    "problem_cross_in_tray = {\n",
    "    \"fit_func\": cross_in_tray_function,\n",
    "    \"lb\": [-10, -10],\n",
    "    \"ub\": [10, 10],\n",
    "    \"minmax\": \"min\",\n",
    "    \"log_to\": None,\n",
    "    \"save_population\": False,\n",
    "}\n",
    "\n",
    "# Composite:\n",
    "\n",
    "# 249.1391477271118\n",
    "problem_composite_xin_she_yang_4_schwefel_function = {\n",
    "    \"fit_func\": composite_xin_she_yang_4_schwefel_function,\n",
    "    \"lb\": [-10, -10],\n",
    "    \"ub\": [10, 10],\n",
    "    \"minmax\": \"min\",\n",
    "    \"log_to\": None,\n",
    "    \"save_population\": False,\n",
    "}\n",
    "\n",
    "# -1.268712223626797\n",
    "problem_composite_cross_in_tray_drop_wave_function = {\n",
    "    \"fit_func\": composite_cross_in_tray_drop_wave_function,\n",
    "    \"lb\": [-5.12, -5.12],\n",
    "    \"ub\": [5.12, 5.12],\n",
    "    \"minmax\": \"min\",\n",
    "    \"log_to\": None,\n",
    "    \"save_population\": False,\n",
    "}\n",
    "\n",
    "# -0.8\n",
    "problem_composite_schaffer_drop_wave_function = {\n",
    "    \"fit_func\": composite_schaffer_drop_wave_function,\n",
    "    \"lb\": [-5.12, -5.12],\n",
    "    \"ub\": [5.12, 5.12],\n",
    "    \"minmax\": \"min\",\n",
    "    \"log_to\": None,\n",
    "    \"save_population\": False,\n",
    "}\n",
    "\n",
    "# -92.54689320077729\n",
    "problem_composite_shubert_function = {\n",
    "    \"fit_func\": composite_shubert_function,\n",
    "    \"lb\": [-10, -10],\n",
    "    \"ub\": [10, 10],\n",
    "    \"minmax\": \"min\",\n",
    "    \"log_to\": None,\n",
    "    \"save_population\": False,\n",
    "}\n",
    "\n",
    "# -13.128066255311966\n",
    "problem_composite_shubert_4_levin_function_13 = {\n",
    "    \"fit_func\": composite_shubert_4_levin_function_13,\n",
    "    \"lb\": [-10, -10],\n",
    "    \"ub\": [10, 10],\n",
    "    \"minmax\": \"min\",\n",
    "    \"log_to\": None,\n",
    "    \"save_population\": False,\n",
    "}"
   ],
   "metadata": {
    "collapsed": false,
    "ExecuteTime": {
     "end_time": "2024-03-20T11:49:43.483640Z",
     "start_time": "2024-03-20T11:49:43.475836Z"
    }
   },
   "id": "bdb0dd284ded02a0"
  },
  {
   "cell_type": "code",
   "execution_count": 3,
   "outputs": [
    {
     "name": "stdout",
     "output_type": "stream",
     "text": [
      "Best solution: [-0.00014753  0.00015377], Best fitness: 4.540967601940338e-11\n"
     ]
    }
   ],
   "source": [
    "pop_size = 50\n",
    "seed_min = 3\n",
    "seed_max = 9\n",
    "exponent = 3\n",
    "sigma_start = 0.6\n",
    "sigma_end = 0.01\n",
    "epoch = 100\n",
    "\n",
    "# IWO\n",
    "model = IWO(epoch, pop_size, seed_min, seed_max, exponent, sigma_start, sigma_end)\n",
    "best_position, best_fitness = model.solve(problem_schaffer)\n",
    "print(f\"Best solution: {best_position}, Best fitness: {best_fitness}\")"
   ],
   "metadata": {
    "collapsed": false,
    "ExecuteTime": {
     "end_time": "2024-03-20T11:49:43.832615Z",
     "start_time": "2024-03-20T11:49:43.486283Z"
    }
   },
   "id": "928b0a003673def3"
  },
  {
   "cell_type": "code",
   "execution_count": 4,
   "outputs": [
    {
     "name": "stdout",
     "output_type": "stream",
     "text": [
      "Best solution: [7.67490292e-08 7.40760965e-08], Best fitness: 0.0\n"
     ]
    }
   ],
   "source": [
    "pop_size = 50\n",
    "epoch = 100\n",
    "\n",
    "# HHO\n",
    "model = HHO(epoch, pop_size)\n",
    "best_position, best_fitness = model.solve(problem_schaffer)\n",
    "print(f\"Best solution: {best_position}, Best fitness: {best_fitness}\")"
   ],
   "metadata": {
    "collapsed": false,
    "ExecuteTime": {
     "end_time": "2024-03-20T11:49:44.014795Z",
     "start_time": "2024-03-20T11:49:43.833677Z"
    }
   },
   "id": "2c98acac8582bd0f"
  },
  {
   "cell_type": "code",
   "execution_count": 5,
   "outputs": [
    {
     "name": "stdout",
     "output_type": "stream",
     "text": [
      "Best solution: [6.81132019e-08 2.26867742e-07], Best fitness: 0.0\n"
     ]
    }
   ],
   "source": [
    "n_limits = 50\n",
    "pop_size = 50\n",
    "epoch = 100\n",
    "\n",
    "# ABC\n",
    "model = ABC(epoch, pop_size, n_limits)\n",
    "best_position, best_fitness = model.solve(problem_schaffer)\n",
    "print(f\"Best solution: {best_position}, Best fitness: {best_fitness}\")"
   ],
   "metadata": {
    "collapsed": false,
    "ExecuteTime": {
     "end_time": "2024-03-20T11:49:44.326887Z",
     "start_time": "2024-03-20T11:49:44.014344Z"
    }
   },
   "id": "48c0488a08fadc34"
  },
  {
   "cell_type": "code",
   "execution_count": 6,
   "outputs": [
    {
     "name": "stdout",
     "output_type": "stream",
     "text": [
      "Best solution: [ 0.10126263 -0.36375353], Best fitness: 0.0005555289074706815\n"
     ]
    }
   ],
   "source": [
    "pop_size = 50\n",
    "p_m = 0.01\n",
    "elites = 2\n",
    "epoch = 100\n",
    "\n",
    "# BBO\n",
    "model = BBO(epoch, pop_size, p_m, elites)\n",
    "best_position, best_fitness = model.solve(problem_schaffer)\n",
    "print(f\"Best solution: {best_position}, Best fitness: {best_fitness}\")"
   ],
   "metadata": {
    "collapsed": false,
    "ExecuteTime": {
     "end_time": "2024-03-20T11:49:44.495936Z",
     "start_time": "2024-03-20T11:49:44.324933Z"
    }
   },
   "id": "e8775f19272aac6d"
  },
  {
   "cell_type": "code",
   "execution_count": 7,
   "outputs": [
    {
     "name": "stdout",
     "output_type": "stream",
     "text": [
      "Best solution: [-0.00108348 -0.39654087], Best fitness: 0.0007682795851320923\n"
     ]
    }
   ],
   "source": [
    "accepted_rate = 0.15\n",
    "pop_size = 50\n",
    "epoch = 100\n",
    "\n",
    "# CA\n",
    "model = CA(epoch, pop_size, accepted_rate)\n",
    "best_position, best_fitness = model.solve(problem_schaffer)\n",
    "print(f\"Best solution: {best_position}, Best fitness: {best_fitness}\")"
   ],
   "metadata": {
    "collapsed": false,
    "ExecuteTime": {
     "end_time": "2024-03-20T11:49:44.650065Z",
     "start_time": "2024-03-20T11:49:44.494853Z"
    }
   },
   "id": "edad3e06f9051e3a"
  },
  {
   "cell_type": "code",
   "execution_count": 9,
   "outputs": [
    {
     "name": "stdout",
     "output_type": "stream",
     "text": [
      "Best solution: [0.0010416  0.00062762], Best fitness: 1.4788494873130276e-09\n"
     ]
    }
   ],
   "source": [
    "pop_size = 50\n",
    "sample_count = 25\n",
    "intent_factor = 0.5\n",
    "zeta = 1.0\n",
    "epoch = 100\n",
    "\n",
    "# ACO\n",
    "model = ACO(epoch, pop_size, sample_count, intent_factor, zeta)\n",
    "best_position, best_fitness = model.solve(problem_schaffer)\n",
    "print(f\"Best solution: {best_position}, Best fitness: {best_fitness}\")"
   ],
   "metadata": {
    "collapsed": false,
    "ExecuteTime": {
     "end_time": "2024-03-20T11:49:45.063472Z",
     "start_time": "2024-03-20T11:49:44.879232Z"
    }
   },
   "id": "703da89c89326860"
  },
  {
   "cell_type": "code",
   "execution_count": 10,
   "outputs": [
    {
     "name": "stdout",
     "output_type": "stream",
     "text": [
      "Solution: [ 0.04504946 -0.03890954], Fitness: 3.5435447369724926e-06\n"
     ]
    }
   ],
   "source": [
    "epoch = 100\n",
    "pop_size = 50\n",
    "c1 = 2.05\n",
    "c2 = 2.05\n",
    "w_min = 0.4\n",
    "w_max = 0.9\n",
    "\n",
    "# PSO\n",
    "model = PSO(epoch, pop_size, c1, c2, w_min, w_max)\n",
    "best_position, best_fitness = model.solve(problem_schaffer)\n",
    "print(f\"Solution: {best_position}, Fitness: {best_fitness}\")"
   ],
   "metadata": {
    "collapsed": false,
    "ExecuteTime": {
     "end_time": "2024-03-20T11:49:45.240692Z",
     "start_time": "2024-03-20T11:49:45.062500Z"
    }
   },
   "id": "4c42c13bc2eeb0c2"
  },
  {
   "cell_type": "code",
   "execution_count": 11,
   "outputs": [
    {
     "name": "stdout",
     "output_type": "stream",
     "text": [
      "Solution: [ 1.08370856e-07 -7.66129298e-08], Fitness: 0.0\n"
     ]
    }
   ],
   "source": [
    "epoch = 100\n",
    "pop_size = 50\n",
    "pr = 0.5\n",
    "beta_min = 0.2\n",
    "beta_max = 1.2\n",
    "\n",
    "# GBO\n",
    "model = GBO(epoch, pop_size, pr, beta_min, beta_max)\n",
    "best_position, best_fitness = model.solve(problem_schaffer)\n",
    "print(f\"Solution: {best_position}, Fitness: {best_fitness}\")"
   ],
   "metadata": {
    "collapsed": false,
    "ExecuteTime": {
     "end_time": "2024-03-20T11:49:45.610149Z",
     "start_time": "2024-03-20T11:49:45.247078Z"
    }
   },
   "id": "39b25e6d7b53c95"
  },
  {
   "cell_type": "code",
   "execution_count": 12,
   "outputs": [
    {
     "name": "stdout",
     "output_type": "stream",
     "text": [
      "Solution: [-1.95877018e-06  5.99964913e-06], Fitness: 3.9745984281580604e-14\n"
     ]
    }
   ],
   "source": [
    "epoch = 100\n",
    "pop_size = 50\n",
    "wf = 0.7\n",
    "cr = 0.9\n",
    "strategy = 0\n",
    "\n",
    "# DE\n",
    "model = DE(epoch, pop_size, wf, cr, strategy)\n",
    "best_position, best_fitness = model.solve(problem_schaffer)\n",
    "print(f\"Solution: {best_position}, Fitness: {best_fitness}\")"
   ],
   "metadata": {
    "collapsed": false,
    "ExecuteTime": {
     "end_time": "2024-03-20T11:49:45.765753Z",
     "start_time": "2024-03-20T11:49:45.608228Z"
    }
   },
   "id": "a6160f48d10617b1"
  },
  {
   "cell_type": "code",
   "execution_count": 13,
   "outputs": [
    {
     "name": "stdout",
     "output_type": "stream",
     "text": [
      "Solution: [5.94074888e-08 2.85288916e-07], Fitness: 0.0\n"
     ]
    }
   ],
   "source": [
    "epoch = 150\n",
    "pop_size = 50\n",
    "\n",
    "# FBIO\n",
    "model = FBIO(epoch, pop_size)\n",
    "best_position, best_fitness = model.solve(problem_schaffer)\n",
    "print(f\"Solution: {best_position}, Fitness: {best_fitness}\")"
   ],
   "metadata": {
    "collapsed": false,
    "ExecuteTime": {
     "end_time": "2024-03-20T11:49:46.492435Z",
     "start_time": "2024-03-20T11:49:45.763625Z"
    }
   },
   "id": "a49d07fb26c0085d"
  }
 ],
 "metadata": {
  "kernelspec": {
   "display_name": "Python 3",
   "language": "python",
   "name": "python3"
  },
  "language_info": {
   "codemirror_mode": {
    "name": "ipython",
    "version": 2
   },
   "file_extension": ".py",
   "mimetype": "text/x-python",
   "name": "python",
   "nbconvert_exporter": "python",
   "pygments_lexer": "ipython2",
   "version": "2.7.6"
  }
 },
 "nbformat": 4,
 "nbformat_minor": 5
}
